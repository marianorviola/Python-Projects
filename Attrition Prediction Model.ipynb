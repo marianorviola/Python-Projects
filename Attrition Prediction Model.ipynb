{
 "cells": [
  {
   "cell_type": "markdown",
   "id": "416c589e-1ad1-460c-93ab-e84738f771a8",
   "metadata": {},
   "source": [
    "## Predicting Call Center Attrition using a Logistic Regression Model with Python"
   ]
  },
  {
   "cell_type": "markdown",
   "id": "ea30b83e-d975-427b-a149-ba8643920ecd",
   "metadata": {},
   "source": [
    "**Author:**  Mariano Viola - Manager, Marketing & Revenue (SCS & SMB Business Planning), Charter Communications, Inc."
   ]
  },
  {
   "cell_type": "markdown",
   "id": "ca21c51e-382c-4e73-bea3-3db6bb7c6668",
   "metadata": {},
   "source": [
    "#### Companies should be concerned about employee attrition:\n",
    "> - Employee attrition disrupts workflows and leads to significant costs in recruitment, onboarding and lost productivity. Frequent turnover can also lead to lower morale among remaining employees which may lead to decreased customer engagement and mediocre customer service. \n",
    "> - Understanding the reasons for employee attrition can help companies design effective programs that improve job satisfaction and performance, boost company culture and promote knowledge and skill retention. Experienced employees have valuable knowledge and skills that can be passed on to new employees. This can help maintain the quality of work and ensure that the company remains competitive."
   ]
  },
  {
   "cell_type": "markdown",
   "id": "e3b8ab93",
   "metadata": {},
   "source": [
    "#### This Report has 2 goals:\n",
    "> 1. Identify the factors that cause employee attrition by surfacing data insights from a large sample of real-world data (**23 columns and 686 rows**) commonly found in a Human Resources (HR) database, and\n",
    "> 2. Build an attrition prediction model with relevant variables drawn from the data set in order to predict employee attrition with a high accuracy score."
   ]
  },
  {
   "cell_type": "markdown",
   "id": "8e3349db-f531-4a36-94da-5fda5aea0859",
   "metadata": {},
   "source": [
    "#### Outline of the Report:\n",
    "<ol>\n",
    "    I. Why Use a Logistic Regression Model?<br>\n",
    "    II. Load and Examine the Data<br>\n",
    "    III. Exploratory Data Analysis</li>\n",
    "    <ol>\n",
    "        <li>Univariate Analysis - numerical variable</li>\n",
    "        <li>Univariate Analysis - categorical variable</li>\n",
    "    </ol>\n",
    "    IV. Feature Engineering<br>\n",
    "    <ol>\n",
    "        <li>Creating New Variables</li>\n",
    "        <li>Perform Univariate analysis on new features</li>\n",
    "        <li>Dimension Reduction</li>\n",
    "    </ol>\n",
    "    V. Data & Business Insights<br>\n",
    "    <ol>\n",
    "        <li>Bivariate Analysis</li>\n",
    "        <li>Visual and Metric Approach</li>\n",
    "    </ol>\n",
    "    VI. Identifying and Validating Significant Variables that cause Attrition<br>\n",
    "    <ol>\n",
    "        <li>Chi-Square Test (categorical vs. categorical variables)</li>\n",
    "        <li>Welch's Two Sample T-test (numerical vs. categorical variables)</li>\n",
    "    </ol>\n",
    "    VII. Dropping Insignificant Variables<br>\n",
    "    VIII. Running the Logistic Regression Model<br>\n",
    "    IX. Model Evaluation<br>\n",
    "    <ol>\n",
    "        <li>Model Score</li>\n",
    "        <li>Confusion Matrix</li>\n",
    "    </ol>\n",
    "    X. Concluding Remarks\n",
    "</ol>"
   ]
  },
  {
   "cell_type": "markdown",
   "id": "5b15206e-6d57-4225-b2a0-30285e8cbb79",
   "metadata": {},
   "source": [
    "### **Summary of Findings**\n",
    "#### Our report generated 16 business insights which show the factors that motivate employees to leave and more importantly, the factors that motivate employees to stay with the company. These insights along with the section of the report where they are discussed in detail, are listed below:\n",
    "\n",
    "See Section II. Load and Examine the Data\n",
    "> **Insight #1:** The data shows that the call center has **a high attrition rate of 24.8%**.\n",
    "\n",
    "See Section IV. Feature Engineering, Part A.\n",
    "> **Insight #2:** Almost 80% of employees had a performance rating of \"average\" to \"below average\" on their performance reviews:\n",
    "> - Of the total 686 call center employees in 2018, the majority (413 employees or 60.2%) received a neutral performance rating of \"0\".\n",
    "> - The other 126 employees (18.4%) showed an improvement on their performance rating by one point: \"+1\".\n",
    "> - Another 130 employees (18.9%) showed a drop on their performance rating by one point: \"-1\".\n",
    "> - The other 16 employees showed a drop in their performance rating by 3 points: \"-3\", and\n",
    "> - The remaining 1 employee showed an improvement on their performance rating by 2 points: \"+2\".\n",
    "\n",
    "See Section IV. Feature Engineering, Part B.\n",
    "> **Insight #3:** We believe the company needs to design a program with the objective of improving employees' overall performance rating. This would greatly help in lowering the high attrition rate.\n",
    "> - Average performance rating score for the call center is sub-par with a mean score of \"-0.07\".\n",
    "> - The range is from a minimum of \"-3.0\" to a maximum of \"2.0\".\n",
    "> - We believe the minimum \"-3.0\" score plays a large role in pulling down the average score to a sub-par \"-0.1\".\n",
    "> - This sub-par rating is probably one of the major reason why the call center attrition rate is high.\n",
    "\n",
    "See Section IV. Feature Engineering, Part B.\n",
    "> **Insight #4:** About 30.7% of employees who were eligible for a pay raise did not get one (see the table above where (130/423) * 100 = 30.73%).\n",
    "> - We believe the high number of sub-par performance ratings is the major reason why 30.7% of eligible employees did not get a pay raise. \n",
    "> - It's imperative that the company design a program that **improves performance ratings in the short-term** so more employees can get a pay raise.\n",
    "> - This would help improve employee morale and lower the attrition rate.\n",
    "\n",
    "See Section IV. Feature Engineering, Part B.\n",
    "> **Insight #5:** The median pay raise offered to employees is at 3.0%. **This seems to be a little low.**\n",
    "> - Average pay raise offered to employees range from 1.02% to 5.90%, as shown in the **IQR** (inter-quartile range) of the data distribution. IQR is the range of 25% to 75% in the data distribution. This is where half of all the data points occur. \n",
    "> - We believe **a range of 3% to 8%** might be better in terms of encouraging employees to stay.\n",
    "\n",
    "See Section IV. Feature Engineering, Part B.\n",
    "> **Insight #6:** In terms of age demographics, a large number of employees are 49 years old. This is shown by the mode of the age distribution.\n",
    "> - The average age of the call center employee is around 45 years with a range of 28 years to 59 years of age.\n",
    "> - Half of the employees (i.e., 50% of the total workforce) are between 39 years to 52 years as shown by the inter-quartile range (IQR, 25% to 75% of the distribution).\n",
    "> - However, a large number of employees are 49 years old as shown by the mode of the age distribution.\n",
    "> - Older employees have **valuable knowledge and skills** that can be passed on to new employees.\n",
    "> - This knowledge sharing helps to maintain the quality of work and ensure that the company remains competitive.\n",
    "\n",
    "See Section V. Data/Business Insights, Part A.\n",
    "> **Insight #7:** There does not seem to be a relation between gender and attrition. This suggests that **gender may not be a significant factor** in explaining attrition.\n",
    "> - In terms of gender demographics, the company had a total of 179 female employees and a total of 507 male employees for a total of 686 employees.\n",
    "> - The number of employees who left were 170 (status = 1) while the number of employees who stayed were 516 (status = 0)\n",
    "> - Of the total 686 employees, around 6.3% who left were female and about 18.5% who left were male.\n",
    "> - Of the total 170 employees who left the company (status = 1), 25.3% were female, and 74.7% were male.\n",
    "> - Of the total 179 female employees, about 24% left the company (status = 1), and around 76.0% remained (status = 0).\n",
    "\n",
    "See Section V. Data/Business Insights, Part B.\n",
    "> **Insight #8:** The median age for current and attrited employees are very similar.\n",
    "> - This suggests that **age may not be a significant factor** in explaining attrition.\n",
    "> - Median age of employees who stayed in the company is 46 years.\n",
    "> - Median age of employees who left the company is 45 years.\n",
    "\n",
    "See Section V. Data/Business Insights, Part B.\n",
    "> **Insight #9:** In terms of average distance from home - **employees who have a longer commute tend to leave the company.**\n",
    "> - The average distance from home for employees who stayed (status = 0) is 2.3 miles.\n",
    "> - The average distance from home for employees who left (status = 1) is 5.9 miles.\n",
    "> - The 2.5x difference between the two groups suggests those **employees with a longer commute tend to leave the company.**\n",
    "\n",
    "See Section V. Data/Business Insights, Part B.\n",
    "> **Insight #10:** It seems that employees who rate their manager with a **manager satisfaction score of 79 and below**, tend to leave the company.\n",
    "> - Employees who rated their manager with a score of 82 and above tend to stay at the company.\n",
    "> - Employees who rated their manager with a score of 79 and below left the company.\n",
    "\n",
    "See Section V. Data/Business Insights, Part B.\n",
    "> **Insight #11:** It seems **employee satisfaction is not a significant factor** in attrition. The difference in the employee satisfaction scores of the two groups were minimal.\n",
    "> - The average employee satisfaction score of those who stayed in the company was 81.6.\n",
    "> - The average employee satisfaction score of those who left the company was 79.96.\n",
    "\n",
    "See Section V. Data/Business Insights, Part B.\n",
    "> **Insight #12:** It seems **employee bonus is not a significant variable** in explaining attrition.\n",
    "> - Employees who received a higher bonus (1,374.04) left the company.\n",
    "> - Employees who received a lower bonus (1,006.44) stayed with the company.\n",
    "\n",
    "See Section V. Data/Business Insights, Part B.\n",
    "> **Insight #13:** It seems that **employee training courses tend to encourage employees to stay** in the company. This may be due to employees who feel that building up their skills set will make it likely for them to get a promotion and a pay raise.\n",
    "> - On average, employees who took 3 or more courses tend to stay in the company.\n",
    "> - Employees who only participated in 1 course tend to leave the company.\n",
    "\n",
    "See Section V. Data/Business Insights, Part B.\n",
    "> **Insight #14:** It seems that **length of Time spent in a position is not a significant factor** in explaining attrition.\n",
    "> - The average time spent in a position for employees who left the company was 21.5 months.\n",
    "> - The average time spent in a position for employees who stayed was 16.5 months.\n",
    "> - Overall, there was around a 5 month difference in time spent in a position between those who left the company and those who stayed.\n",
    "\n",
    "See Section V. Data/Business Insights, Part B.\n",
    "> **Insight #15:** It seems that **percentage salary increase is a significant factor** in explaining attrition.\n",
    "> - On average, employees who received a smaller pay raise (+2.89%) tend to leave the company.\n",
    "> - While employees who received a larger pay raise (+5.88%) tend to stay with the company.\n",
    "\n",
    "See Section IX. Model Evaluation, Part A.\n",
    "> **Insight #16:** The attrition prediction model produced an **accuracy score of 81.2%** which means that the model's predictions were correct 81.2% of the time. This is an impressive score.\n",
    "> - In general, an accuracy score of 70% or higher is considered to be a great model performance.\n",
    "> - The model also shows a **high sensitivity score of 95.1%** which means that it is very good at predicting which employees will stay with the company.\n",
    "> - **However, the model does show a low specificity score of 41.7%**, which means that it is not very good at predicting which employees will leave their job."
   ]
  },
  {
   "cell_type": "markdown",
   "id": "f6fe8ad1-7e75-4e97-afb7-dfe438b6f8a9",
   "metadata": {},
   "source": [
    "#### I. Why use a Logistic Regression Model?"
   ]
  },
  {
   "cell_type": "markdown",
   "id": "92e43b28-b7a1-4a05-83d7-6ca44ff0645c",
   "metadata": {},
   "source": [
    "- Logistic regression is a predictive model that estimates the probability of an employee leaving the company based on one or more predictor variables.\n",
    "- The model analyzes the relationship between a binary outcome (whether an event like an employee leaving, occurs or not) and one or more predictor variables.\n",
    "#### Logistic Regression is a binary model with 2 outcomes:\n",
    "- If the employee decides to stay, then the event (or the status) = \"0\"\n",
    "- If the employee decides to leave the company, then the event (or the status) = \"1\"\n",
    "#### The Advantages of a Logistic Regression Model:\n",
    "- In the context of attrition, logistic regression can help understand how various factors such as age, job level, department and performance rating, may influence the likelihood of an employee leaving the company.\n",
    "- It can identify the interactions between predictor variables that may impact the likelihood of attrition. For example, it could be that the effect of job level on attrition may be different for men and women - thus suggesting that gender could play a role between job level and attrition.\n",
    "- Overall, logistic regression can provide **valuable insights** into factors that influence attrition and could help a company develop **targeted strategies** to **improve employee retention** and **raise employee morale.**"
   ]
  },
  {
   "cell_type": "markdown",
   "id": "86ce02f9",
   "metadata": {},
   "source": [
    "#### II. Load and Examine the Data"
   ]
  },
  {
   "cell_type": "markdown",
   "id": "e81c1c90-6f19-4700-9dfc-1e75aa20e9dc",
   "metadata": {},
   "source": [
    "#### A. Import pandas library from python and load the data"
   ]
  },
  {
   "cell_type": "code",
   "execution_count": 1,
   "id": "807c7d31",
   "metadata": {},
   "outputs": [],
   "source": [
    "# import pandas as pd\n",
    "# df= pd.read_excel('C:\\\\Users\\\\P3236467\\\\OneDrive - Charter Communications\\\\Desktop\\\\resources_v1\\\\ATTRITION DATA.xlsx')"
   ]
  },
  {
   "cell_type": "code",
   "execution_count": 2,
   "id": "e5993f6a",
   "metadata": {},
   "outputs": [],
   "source": [
    "import pandas as pd\n",
    "df= pd.read_excel('C:\\\\Users\\\\maria\\\\OneDrive\\\\Desktop\\\\resources\\\\ATTRITION DATA.xlsx')"
   ]
  },
  {
   "cell_type": "code",
   "execution_count": 3,
   "id": "1a1fc65f",
   "metadata": {},
   "outputs": [
    {
     "data": {
      "text/plain": [
       "(686, 23)"
      ]
     },
     "execution_count": 3,
     "metadata": {},
     "output_type": "execute_result"
    }
   ],
   "source": [
    "# Review the dimensions of the data set in the dataframe (\"df\")\n",
    "# the dataframe \"df\" has 686 rows and 23 columns\n",
    "df.shape"
   ]
  },
  {
   "cell_type": "code",
   "execution_count": 4,
   "id": "fdd725ff",
   "metadata": {},
   "outputs": [
    {
     "data": {
      "text/html": [
       "<div>\n",
       "<style scoped>\n",
       "    .dataframe tbody tr th:only-of-type {\n",
       "        vertical-align: middle;\n",
       "    }\n",
       "\n",
       "    .dataframe tbody tr th {\n",
       "        vertical-align: top;\n",
       "    }\n",
       "\n",
       "    .dataframe thead th {\n",
       "        text-align: right;\n",
       "    }\n",
       "</style>\n",
       "<table border=\"1\" class=\"dataframe\">\n",
       "  <thead>\n",
       "    <tr style=\"text-align: right;\">\n",
       "      <th></th>\n",
       "      <th>e_code</th>\n",
       "      <th>status</th>\n",
       "      <th>hire_date</th>\n",
       "      <th>service_agreement</th>\n",
       "      <th>job_level</th>\n",
       "      <th>performance_rating_2018</th>\n",
       "      <th>performance_rating_2017</th>\n",
       "      <th>year_of_birth</th>\n",
       "      <th>gender</th>\n",
       "      <th>distance_from_home</th>\n",
       "      <th>...</th>\n",
       "      <th>potential_rating</th>\n",
       "      <th>bonus</th>\n",
       "      <th>no_courses_taken</th>\n",
       "      <th>time_in_position</th>\n",
       "      <th>awards</th>\n",
       "      <th>signon</th>\n",
       "      <th>manager_sat</th>\n",
       "      <th>employee_sat</th>\n",
       "      <th>salary_2017</th>\n",
       "      <th>salary_2018</th>\n",
       "    </tr>\n",
       "  </thead>\n",
       "  <tbody>\n",
       "    <tr>\n",
       "      <th>0</th>\n",
       "      <td>45631</td>\n",
       "      <td>0</td>\n",
       "      <td>1990-09-17</td>\n",
       "      <td>N</td>\n",
       "      <td>3</td>\n",
       "      <td>4</td>\n",
       "      <td>3</td>\n",
       "      <td>1967</td>\n",
       "      <td>M</td>\n",
       "      <td>0.52</td>\n",
       "      <td>...</td>\n",
       "      <td>5</td>\n",
       "      <td>0</td>\n",
       "      <td>8</td>\n",
       "      <td>30</td>\n",
       "      <td>N</td>\n",
       "      <td>N</td>\n",
       "      <td>81</td>\n",
       "      <td>80</td>\n",
       "      <td>119968</td>\n",
       "      <td>124173</td>\n",
       "    </tr>\n",
       "    <tr>\n",
       "      <th>1</th>\n",
       "      <td>45632</td>\n",
       "      <td>0</td>\n",
       "      <td>1995-10-23</td>\n",
       "      <td>N</td>\n",
       "      <td>2</td>\n",
       "      <td>1</td>\n",
       "      <td>2</td>\n",
       "      <td>1971</td>\n",
       "      <td>M</td>\n",
       "      <td>0.08</td>\n",
       "      <td>...</td>\n",
       "      <td>5</td>\n",
       "      <td>2242</td>\n",
       "      <td>6</td>\n",
       "      <td>5</td>\n",
       "      <td>N</td>\n",
       "      <td>N</td>\n",
       "      <td>88</td>\n",
       "      <td>84</td>\n",
       "      <td>99330</td>\n",
       "      <td>100822</td>\n",
       "    </tr>\n",
       "    <tr>\n",
       "      <th>2</th>\n",
       "      <td>45633</td>\n",
       "      <td>0</td>\n",
       "      <td>1996-03-10</td>\n",
       "      <td>N</td>\n",
       "      <td>2</td>\n",
       "      <td>4</td>\n",
       "      <td>4</td>\n",
       "      <td>1972</td>\n",
       "      <td>M</td>\n",
       "      <td>0.51</td>\n",
       "      <td>...</td>\n",
       "      <td>3</td>\n",
       "      <td>0</td>\n",
       "      <td>2</td>\n",
       "      <td>53</td>\n",
       "      <td>N</td>\n",
       "      <td>N</td>\n",
       "      <td>83</td>\n",
       "      <td>93</td>\n",
       "      <td>102511</td>\n",
       "      <td>115500</td>\n",
       "    </tr>\n",
       "    <tr>\n",
       "      <th>3</th>\n",
       "      <td>45634</td>\n",
       "      <td>0</td>\n",
       "      <td>1998-07-13</td>\n",
       "      <td>N</td>\n",
       "      <td>1</td>\n",
       "      <td>3</td>\n",
       "      <td>3</td>\n",
       "      <td>1968</td>\n",
       "      <td>F</td>\n",
       "      <td>0.81</td>\n",
       "      <td>...</td>\n",
       "      <td>5</td>\n",
       "      <td>2320</td>\n",
       "      <td>2</td>\n",
       "      <td>36</td>\n",
       "      <td>N</td>\n",
       "      <td>N</td>\n",
       "      <td>86</td>\n",
       "      <td>83</td>\n",
       "      <td>56674</td>\n",
       "      <td>58806</td>\n",
       "    </tr>\n",
       "    <tr>\n",
       "      <th>4</th>\n",
       "      <td>45635</td>\n",
       "      <td>0</td>\n",
       "      <td>1991-09-16</td>\n",
       "      <td>N</td>\n",
       "      <td>2</td>\n",
       "      <td>3</td>\n",
       "      <td>3</td>\n",
       "      <td>1961</td>\n",
       "      <td>M</td>\n",
       "      <td>0.06</td>\n",
       "      <td>...</td>\n",
       "      <td>5</td>\n",
       "      <td>0</td>\n",
       "      <td>10</td>\n",
       "      <td>2</td>\n",
       "      <td>N</td>\n",
       "      <td>N</td>\n",
       "      <td>79</td>\n",
       "      <td>80</td>\n",
       "      <td>122021</td>\n",
       "      <td>122021</td>\n",
       "    </tr>\n",
       "  </tbody>\n",
       "</table>\n",
       "<p>5 rows × 23 columns</p>\n",
       "</div>"
      ],
      "text/plain": [
       "   e_code  status  hire_date service_agreement  job_level  \\\n",
       "0   45631       0 1990-09-17                 N          3   \n",
       "1   45632       0 1995-10-23                 N          2   \n",
       "2   45633       0 1996-03-10                 N          2   \n",
       "3   45634       0 1998-07-13                 N          1   \n",
       "4   45635       0 1991-09-16                 N          2   \n",
       "\n",
       "   performance_rating_2018  performance_rating_2017  year_of_birth gender  \\\n",
       "0                        4                        3           1967      M   \n",
       "1                        1                        2           1971      M   \n",
       "2                        4                        4           1972      M   \n",
       "3                        3                        3           1968      F   \n",
       "4                        3                        3           1961      M   \n",
       "\n",
       "   distance_from_home  ...  potential_rating  bonus  no_courses_taken  \\\n",
       "0                0.52  ...                 5      0                 8   \n",
       "1                0.08  ...                 5   2242                 6   \n",
       "2                0.51  ...                 3      0                 2   \n",
       "3                0.81  ...                 5   2320                 2   \n",
       "4                0.06  ...                 5      0                10   \n",
       "\n",
       "   time_in_position  awards  signon  manager_sat employee_sat salary_2017  \\\n",
       "0                30       N       N           81           80      119968   \n",
       "1                 5       N       N           88           84       99330   \n",
       "2                53       N       N           83           93      102511   \n",
       "3                36       N       N           86           83       56674   \n",
       "4                 2       N       N           79           80      122021   \n",
       "\n",
       "   salary_2018  \n",
       "0       124173  \n",
       "1       100822  \n",
       "2       115500  \n",
       "3        58806  \n",
       "4       122021  \n",
       "\n",
       "[5 rows x 23 columns]"
      ]
     },
     "execution_count": 4,
     "metadata": {},
     "output_type": "execute_result"
    }
   ],
   "source": [
    "# Review the first 5 rows of the data set\n",
    "df.head()"
   ]
  },
  {
   "cell_type": "code",
   "execution_count": 5,
   "id": "3ee545c1",
   "metadata": {},
   "outputs": [
    {
     "data": {
      "text/html": [
       "<div>\n",
       "<style scoped>\n",
       "    .dataframe tbody tr th:only-of-type {\n",
       "        vertical-align: middle;\n",
       "    }\n",
       "\n",
       "    .dataframe tbody tr th {\n",
       "        vertical-align: top;\n",
       "    }\n",
       "\n",
       "    .dataframe thead th {\n",
       "        text-align: right;\n",
       "    }\n",
       "</style>\n",
       "<table border=\"1\" class=\"dataframe\">\n",
       "  <thead>\n",
       "    <tr style=\"text-align: right;\">\n",
       "      <th></th>\n",
       "      <th>e_code</th>\n",
       "      <th>status</th>\n",
       "      <th>hire_date</th>\n",
       "      <th>service_agreement</th>\n",
       "      <th>job_level</th>\n",
       "      <th>performance_rating_2018</th>\n",
       "      <th>performance_rating_2017</th>\n",
       "      <th>year_of_birth</th>\n",
       "      <th>gender</th>\n",
       "      <th>distance_from_home</th>\n",
       "      <th>...</th>\n",
       "      <th>potential_rating</th>\n",
       "      <th>bonus</th>\n",
       "      <th>no_courses_taken</th>\n",
       "      <th>time_in_position</th>\n",
       "      <th>awards</th>\n",
       "      <th>signon</th>\n",
       "      <th>manager_sat</th>\n",
       "      <th>employee_sat</th>\n",
       "      <th>salary_2017</th>\n",
       "      <th>salary_2018</th>\n",
       "    </tr>\n",
       "  </thead>\n",
       "  <tbody>\n",
       "    <tr>\n",
       "      <th>681</th>\n",
       "      <td>46267</td>\n",
       "      <td>1</td>\n",
       "      <td>2008-07-07</td>\n",
       "      <td>N</td>\n",
       "      <td>3</td>\n",
       "      <td>3</td>\n",
       "      <td>3</td>\n",
       "      <td>1966</td>\n",
       "      <td>M</td>\n",
       "      <td>1.10</td>\n",
       "      <td>...</td>\n",
       "      <td>4</td>\n",
       "      <td>6438</td>\n",
       "      <td>0</td>\n",
       "      <td>17</td>\n",
       "      <td>N</td>\n",
       "      <td>N</td>\n",
       "      <td>79</td>\n",
       "      <td>80</td>\n",
       "      <td>74999</td>\n",
       "      <td>75900</td>\n",
       "    </tr>\n",
       "    <tr>\n",
       "      <th>682</th>\n",
       "      <td>46290</td>\n",
       "      <td>1</td>\n",
       "      <td>2011-07-25</td>\n",
       "      <td>N</td>\n",
       "      <td>1</td>\n",
       "      <td>2</td>\n",
       "      <td>3</td>\n",
       "      <td>1981</td>\n",
       "      <td>M</td>\n",
       "      <td>25.27</td>\n",
       "      <td>...</td>\n",
       "      <td>3</td>\n",
       "      <td>0</td>\n",
       "      <td>0</td>\n",
       "      <td>17</td>\n",
       "      <td>N</td>\n",
       "      <td>N</td>\n",
       "      <td>79</td>\n",
       "      <td>80</td>\n",
       "      <td>74999</td>\n",
       "      <td>75900</td>\n",
       "    </tr>\n",
       "    <tr>\n",
       "      <th>683</th>\n",
       "      <td>46312</td>\n",
       "      <td>1</td>\n",
       "      <td>2012-11-26</td>\n",
       "      <td>N</td>\n",
       "      <td>1</td>\n",
       "      <td>3</td>\n",
       "      <td>3</td>\n",
       "      <td>1967</td>\n",
       "      <td>M</td>\n",
       "      <td>1.09</td>\n",
       "      <td>...</td>\n",
       "      <td>3</td>\n",
       "      <td>0</td>\n",
       "      <td>3</td>\n",
       "      <td>43</td>\n",
       "      <td>N</td>\n",
       "      <td>N</td>\n",
       "      <td>79</td>\n",
       "      <td>80</td>\n",
       "      <td>74999</td>\n",
       "      <td>75900</td>\n",
       "    </tr>\n",
       "    <tr>\n",
       "      <th>684</th>\n",
       "      <td>46336</td>\n",
       "      <td>1</td>\n",
       "      <td>2002-07-04</td>\n",
       "      <td>N</td>\n",
       "      <td>1</td>\n",
       "      <td>3</td>\n",
       "      <td>3</td>\n",
       "      <td>1980</td>\n",
       "      <td>F</td>\n",
       "      <td>0.34</td>\n",
       "      <td>...</td>\n",
       "      <td>4</td>\n",
       "      <td>0</td>\n",
       "      <td>3</td>\n",
       "      <td>27</td>\n",
       "      <td>Y</td>\n",
       "      <td>N</td>\n",
       "      <td>79</td>\n",
       "      <td>80</td>\n",
       "      <td>74999</td>\n",
       "      <td>75900</td>\n",
       "    </tr>\n",
       "    <tr>\n",
       "      <th>685</th>\n",
       "      <td>46359</td>\n",
       "      <td>1</td>\n",
       "      <td>2015-03-02</td>\n",
       "      <td>Y</td>\n",
       "      <td>4</td>\n",
       "      <td>3</td>\n",
       "      <td>3</td>\n",
       "      <td>1963</td>\n",
       "      <td>M</td>\n",
       "      <td>38.62</td>\n",
       "      <td>...</td>\n",
       "      <td>5</td>\n",
       "      <td>10476</td>\n",
       "      <td>0</td>\n",
       "      <td>14</td>\n",
       "      <td>N</td>\n",
       "      <td>Y</td>\n",
       "      <td>79</td>\n",
       "      <td>80</td>\n",
       "      <td>74000</td>\n",
       "      <td>75900</td>\n",
       "    </tr>\n",
       "  </tbody>\n",
       "</table>\n",
       "<p>5 rows × 23 columns</p>\n",
       "</div>"
      ],
      "text/plain": [
       "     e_code  status  hire_date service_agreement  job_level  \\\n",
       "681   46267       1 2008-07-07                 N          3   \n",
       "682   46290       1 2011-07-25                 N          1   \n",
       "683   46312       1 2012-11-26                 N          1   \n",
       "684   46336       1 2002-07-04                 N          1   \n",
       "685   46359       1 2015-03-02                 Y          4   \n",
       "\n",
       "     performance_rating_2018  performance_rating_2017  year_of_birth gender  \\\n",
       "681                        3                        3           1966      M   \n",
       "682                        2                        3           1981      M   \n",
       "683                        3                        3           1967      M   \n",
       "684                        3                        3           1980      F   \n",
       "685                        3                        3           1963      M   \n",
       "\n",
       "     distance_from_home  ...  potential_rating  bonus  no_courses_taken  \\\n",
       "681                1.10  ...                 4   6438                 0   \n",
       "682               25.27  ...                 3      0                 0   \n",
       "683                1.09  ...                 3      0                 3   \n",
       "684                0.34  ...                 4      0                 3   \n",
       "685               38.62  ...                 5  10476                 0   \n",
       "\n",
       "     time_in_position  awards  signon  manager_sat employee_sat salary_2017  \\\n",
       "681                17       N       N           79           80       74999   \n",
       "682                17       N       N           79           80       74999   \n",
       "683                43       N       N           79           80       74999   \n",
       "684                27       Y       N           79           80       74999   \n",
       "685                14       N       Y           79           80       74000   \n",
       "\n",
       "     salary_2018  \n",
       "681        75900  \n",
       "682        75900  \n",
       "683        75900  \n",
       "684        75900  \n",
       "685        75900  \n",
       "\n",
       "[5 rows x 23 columns]"
      ]
     },
     "execution_count": 5,
     "metadata": {},
     "output_type": "execute_result"
    }
   ],
   "source": [
    "# Review the last 5 rows of the data set\n",
    "df.tail()"
   ]
  },
  {
   "cell_type": "markdown",
   "id": "b168ea66-d9df-4ec4-9d57-20e3734ab801",
   "metadata": {},
   "source": [
    "#### B. Review the data structure of each variable\n",
    "- int64 = discrete numeric variables (i.e., whole numbers with no decimals)\n",
    "- float64 = continous numeric variables (with decimals)\n",
    "- object = non-numeric string variables\n",
    "- datetime64 = data and time variables"
   ]
  },
  {
   "cell_type": "code",
   "execution_count": 6,
   "id": "d53b2c04",
   "metadata": {},
   "outputs": [
    {
     "data": {
      "text/plain": [
       "e_code                              int64\n",
       "status                              int64\n",
       "hire_date                  datetime64[ns]\n",
       "service_agreement                  object\n",
       "job_level                           int64\n",
       "performance_rating_2018             int64\n",
       "performance_rating_2017             int64\n",
       "year_of_birth                       int64\n",
       "gender                             object\n",
       "distance_from_home                float64\n",
       "manager_changes                     int64\n",
       "no_of_promotions                    int64\n",
       "risk_of_attrition                   int64\n",
       "potential_rating                    int64\n",
       "bonus                               int64\n",
       "no_courses_taken                    int64\n",
       "time_in_position                    int64\n",
       "awards                             object\n",
       "signon                             object\n",
       "manager_sat                         int64\n",
       "employee_sat                        int64\n",
       "salary_2017                         int64\n",
       "salary_2018                         int64\n",
       "dtype: object"
      ]
     },
     "execution_count": 6,
     "metadata": {},
     "output_type": "execute_result"
    }
   ],
   "source": [
    "df.dtypes"
   ]
  },
  {
   "cell_type": "markdown",
   "id": "e0c3b83f-00a5-48f6-ba7d-5f55b75ea0a3",
   "metadata": {},
   "source": [
    "#### C. Determine the Attrition rate"
   ]
  },
  {
   "cell_type": "code",
   "execution_count": 7,
   "id": "0f28971f",
   "metadata": {},
   "outputs": [
    {
     "data": {
      "text/plain": [
       "0    516\n",
       "1    170\n",
       "Name: status, dtype: int64"
      ]
     },
     "execution_count": 7,
     "metadata": {},
     "output_type": "execute_result"
    }
   ],
   "source": [
    "# Count the number of employees who stayed in the company (status =\"0\") and the number of employees \n",
    "# who left (status =\"1\")\n",
    "df['status'].value_counts()"
   ]
  },
  {
   "cell_type": "code",
   "execution_count": 8,
   "id": "64231651",
   "metadata": {},
   "outputs": [
    {
     "data": {
      "text/plain": [
       "24.78134110787172"
      ]
     },
     "execution_count": 8,
     "metadata": {},
     "output_type": "execute_result"
    }
   ],
   "source": [
    "# Calculate the percentage of attrition in the workforce\n",
    "(170/686)*100"
   ]
  },
  {
   "cell_type": "markdown",
   "id": "14593e45",
   "metadata": {},
   "source": [
    "> **Insight:** The data shows the call center has a high attrition rate of 24.8%."
   ]
  },
  {
   "cell_type": "markdown",
   "id": "aa0c7445-c2ca-4e09-8ed6-6c2843eed453",
   "metadata": {},
   "source": [
    "#### III. Exploratory Data Analysis"
   ]
  },
  {
   "cell_type": "markdown",
   "id": "81a6285d",
   "metadata": {},
   "source": [
    "#### A. Univariate Analysis - numerical variable\n",
    "Perform a univariate (i.e., single variable) analysis on each numerical variable in the dataset. Examine the:\n",
    "1. count\n",
    "2. mean\n",
    "3. standard deviation (std)\n",
    "4. minimum value (min)\n",
    "5. maximum value (max), and\n",
    "6. their respective quartiles"
   ]
  },
  {
   "cell_type": "code",
   "execution_count": 9,
   "id": "aa4d42ad",
   "metadata": {},
   "outputs": [
    {
     "data": {
      "text/html": [
       "<div>\n",
       "<style scoped>\n",
       "    .dataframe tbody tr th:only-of-type {\n",
       "        vertical-align: middle;\n",
       "    }\n",
       "\n",
       "    .dataframe tbody tr th {\n",
       "        vertical-align: top;\n",
       "    }\n",
       "\n",
       "    .dataframe thead th {\n",
       "        text-align: right;\n",
       "    }\n",
       "</style>\n",
       "<table border=\"1\" class=\"dataframe\">\n",
       "  <thead>\n",
       "    <tr style=\"text-align: right;\">\n",
       "      <th></th>\n",
       "      <th>e_code</th>\n",
       "      <th>status</th>\n",
       "      <th>job_level</th>\n",
       "      <th>performance_rating_2018</th>\n",
       "      <th>performance_rating_2017</th>\n",
       "      <th>year_of_birth</th>\n",
       "      <th>distance_from_home</th>\n",
       "      <th>manager_changes</th>\n",
       "      <th>no_of_promotions</th>\n",
       "      <th>risk_of_attrition</th>\n",
       "      <th>potential_rating</th>\n",
       "      <th>bonus</th>\n",
       "      <th>no_courses_taken</th>\n",
       "      <th>time_in_position</th>\n",
       "      <th>manager_sat</th>\n",
       "      <th>employee_sat</th>\n",
       "      <th>salary_2017</th>\n",
       "      <th>salary_2018</th>\n",
       "    </tr>\n",
       "  </thead>\n",
       "  <tbody>\n",
       "    <tr>\n",
       "      <th>count</th>\n",
       "      <td>686.000000</td>\n",
       "      <td>686.000000</td>\n",
       "      <td>686.000000</td>\n",
       "      <td>686.000000</td>\n",
       "      <td>686.000000</td>\n",
       "      <td>686.000000</td>\n",
       "      <td>686.000000</td>\n",
       "      <td>686.000000</td>\n",
       "      <td>686.000000</td>\n",
       "      <td>686.000000</td>\n",
       "      <td>686.000000</td>\n",
       "      <td>686.000000</td>\n",
       "      <td>686.000000</td>\n",
       "      <td>686.000000</td>\n",
       "      <td>686.000000</td>\n",
       "      <td>686.000000</td>\n",
       "      <td>686.000000</td>\n",
       "      <td>686.000000</td>\n",
       "    </tr>\n",
       "    <tr>\n",
       "      <th>mean</th>\n",
       "      <td>46015.237609</td>\n",
       "      <td>0.247813</td>\n",
       "      <td>1.753644</td>\n",
       "      <td>2.895044</td>\n",
       "      <td>2.967930</td>\n",
       "      <td>1972.532070</td>\n",
       "      <td>3.204534</td>\n",
       "      <td>2.332362</td>\n",
       "      <td>0.615160</td>\n",
       "      <td>2.558309</td>\n",
       "      <td>3.693878</td>\n",
       "      <td>1097.536443</td>\n",
       "      <td>3.247813</td>\n",
       "      <td>27.345481</td>\n",
       "      <td>82.177843</td>\n",
       "      <td>81.214286</td>\n",
       "      <td>114289.116618</td>\n",
       "      <td>119135.456268</td>\n",
       "    </tr>\n",
       "    <tr>\n",
       "      <th>std</th>\n",
       "      <td>214.878836</td>\n",
       "      <td>0.432058</td>\n",
       "      <td>0.957007</td>\n",
       "      <td>1.124669</td>\n",
       "      <td>0.674125</td>\n",
       "      <td>7.734348</td>\n",
       "      <td>8.441646</td>\n",
       "      <td>2.431611</td>\n",
       "      <td>1.190229</td>\n",
       "      <td>0.734119</td>\n",
       "      <td>1.088570</td>\n",
       "      <td>2128.097198</td>\n",
       "      <td>3.063291</td>\n",
       "      <td>31.375641</td>\n",
       "      <td>4.838758</td>\n",
       "      <td>5.005909</td>\n",
       "      <td>60820.924620</td>\n",
       "      <td>60925.702367</td>\n",
       "    </tr>\n",
       "    <tr>\n",
       "      <th>min</th>\n",
       "      <td>45631.000000</td>\n",
       "      <td>0.000000</td>\n",
       "      <td>1.000000</td>\n",
       "      <td>1.000000</td>\n",
       "      <td>1.000000</td>\n",
       "      <td>1959.000000</td>\n",
       "      <td>0.000000</td>\n",
       "      <td>0.000000</td>\n",
       "      <td>0.000000</td>\n",
       "      <td>1.000000</td>\n",
       "      <td>1.000000</td>\n",
       "      <td>0.000000</td>\n",
       "      <td>0.000000</td>\n",
       "      <td>0.000000</td>\n",
       "      <td>76.000000</td>\n",
       "      <td>70.000000</td>\n",
       "      <td>39600.000000</td>\n",
       "      <td>43903.000000</td>\n",
       "    </tr>\n",
       "    <tr>\n",
       "      <th>25%</th>\n",
       "      <td>45833.250000</td>\n",
       "      <td>0.000000</td>\n",
       "      <td>1.000000</td>\n",
       "      <td>2.000000</td>\n",
       "      <td>3.000000</td>\n",
       "      <td>1966.000000</td>\n",
       "      <td>0.242500</td>\n",
       "      <td>0.000000</td>\n",
       "      <td>0.000000</td>\n",
       "      <td>2.000000</td>\n",
       "      <td>3.000000</td>\n",
       "      <td>0.000000</td>\n",
       "      <td>1.000000</td>\n",
       "      <td>7.000000</td>\n",
       "      <td>79.000000</td>\n",
       "      <td>80.000000</td>\n",
       "      <td>77033.750000</td>\n",
       "      <td>81840.000000</td>\n",
       "    </tr>\n",
       "    <tr>\n",
       "      <th>50%</th>\n",
       "      <td>46017.500000</td>\n",
       "      <td>0.000000</td>\n",
       "      <td>1.000000</td>\n",
       "      <td>3.000000</td>\n",
       "      <td>3.000000</td>\n",
       "      <td>1973.000000</td>\n",
       "      <td>0.450000</td>\n",
       "      <td>2.000000</td>\n",
       "      <td>0.000000</td>\n",
       "      <td>3.000000</td>\n",
       "      <td>4.000000</td>\n",
       "      <td>0.000000</td>\n",
       "      <td>2.000000</td>\n",
       "      <td>18.000000</td>\n",
       "      <td>79.000000</td>\n",
       "      <td>80.000000</td>\n",
       "      <td>98000.000000</td>\n",
       "      <td>102716.000000</td>\n",
       "    </tr>\n",
       "    <tr>\n",
       "      <th>75%</th>\n",
       "      <td>46199.750000</td>\n",
       "      <td>0.000000</td>\n",
       "      <td>2.000000</td>\n",
       "      <td>4.000000</td>\n",
       "      <td>3.000000</td>\n",
       "      <td>1979.000000</td>\n",
       "      <td>0.980000</td>\n",
       "      <td>4.000000</td>\n",
       "      <td>1.000000</td>\n",
       "      <td>3.000000</td>\n",
       "      <td>5.000000</td>\n",
       "      <td>2051.000000</td>\n",
       "      <td>4.000000</td>\n",
       "      <td>37.000000</td>\n",
       "      <td>85.000000</td>\n",
       "      <td>80.000000</td>\n",
       "      <td>125705.500000</td>\n",
       "      <td>132000.000000</td>\n",
       "    </tr>\n",
       "    <tr>\n",
       "      <th>max</th>\n",
       "      <td>46387.000000</td>\n",
       "      <td>1.000000</td>\n",
       "      <td>5.000000</td>\n",
       "      <td>5.000000</td>\n",
       "      <td>4.000000</td>\n",
       "      <td>1990.000000</td>\n",
       "      <td>50.000000</td>\n",
       "      <td>15.000000</td>\n",
       "      <td>10.000000</td>\n",
       "      <td>4.000000</td>\n",
       "      <td>5.000000</td>\n",
       "      <td>19853.000000</td>\n",
       "      <td>20.000000</td>\n",
       "      <td>278.000000</td>\n",
       "      <td>100.000000</td>\n",
       "      <td>100.000000</td>\n",
       "      <td>511500.000000</td>\n",
       "      <td>511500.000000</td>\n",
       "    </tr>\n",
       "  </tbody>\n",
       "</table>\n",
       "</div>"
      ],
      "text/plain": [
       "             e_code      status   job_level  performance_rating_2018  \\\n",
       "count    686.000000  686.000000  686.000000               686.000000   \n",
       "mean   46015.237609    0.247813    1.753644                 2.895044   \n",
       "std      214.878836    0.432058    0.957007                 1.124669   \n",
       "min    45631.000000    0.000000    1.000000                 1.000000   \n",
       "25%    45833.250000    0.000000    1.000000                 2.000000   \n",
       "50%    46017.500000    0.000000    1.000000                 3.000000   \n",
       "75%    46199.750000    0.000000    2.000000                 4.000000   \n",
       "max    46387.000000    1.000000    5.000000                 5.000000   \n",
       "\n",
       "       performance_rating_2017  year_of_birth  distance_from_home  \\\n",
       "count               686.000000     686.000000          686.000000   \n",
       "mean                  2.967930    1972.532070            3.204534   \n",
       "std                   0.674125       7.734348            8.441646   \n",
       "min                   1.000000    1959.000000            0.000000   \n",
       "25%                   3.000000    1966.000000            0.242500   \n",
       "50%                   3.000000    1973.000000            0.450000   \n",
       "75%                   3.000000    1979.000000            0.980000   \n",
       "max                   4.000000    1990.000000           50.000000   \n",
       "\n",
       "       manager_changes  no_of_promotions  risk_of_attrition  potential_rating  \\\n",
       "count       686.000000        686.000000         686.000000        686.000000   \n",
       "mean          2.332362          0.615160           2.558309          3.693878   \n",
       "std           2.431611          1.190229           0.734119          1.088570   \n",
       "min           0.000000          0.000000           1.000000          1.000000   \n",
       "25%           0.000000          0.000000           2.000000          3.000000   \n",
       "50%           2.000000          0.000000           3.000000          4.000000   \n",
       "75%           4.000000          1.000000           3.000000          5.000000   \n",
       "max          15.000000         10.000000           4.000000          5.000000   \n",
       "\n",
       "              bonus  no_courses_taken  time_in_position  manager_sat  \\\n",
       "count    686.000000        686.000000        686.000000   686.000000   \n",
       "mean    1097.536443          3.247813         27.345481    82.177843   \n",
       "std     2128.097198          3.063291         31.375641     4.838758   \n",
       "min        0.000000          0.000000          0.000000    76.000000   \n",
       "25%        0.000000          1.000000          7.000000    79.000000   \n",
       "50%        0.000000          2.000000         18.000000    79.000000   \n",
       "75%     2051.000000          4.000000         37.000000    85.000000   \n",
       "max    19853.000000         20.000000        278.000000   100.000000   \n",
       "\n",
       "       employee_sat    salary_2017    salary_2018  \n",
       "count    686.000000     686.000000     686.000000  \n",
       "mean      81.214286  114289.116618  119135.456268  \n",
       "std        5.005909   60820.924620   60925.702367  \n",
       "min       70.000000   39600.000000   43903.000000  \n",
       "25%       80.000000   77033.750000   81840.000000  \n",
       "50%       80.000000   98000.000000  102716.000000  \n",
       "75%       80.000000  125705.500000  132000.000000  \n",
       "max      100.000000  511500.000000  511500.000000  "
      ]
     },
     "execution_count": 9,
     "metadata": {},
     "output_type": "execute_result"
    }
   ],
   "source": [
    "df.describe()"
   ]
  },
  {
   "cell_type": "markdown",
   "id": "c594c715-0c34-4fbc-80ad-e5beaf1eb862",
   "metadata": {},
   "source": [
    "#### B. Univariate Analysis - categorical variable\n",
    "Perform a univariate (i.e., single variable) analysis on each categorical variable in the data set. Examine the:\n",
    "1. count, and \n",
    "2. proportion (i.e., percentage of total)"
   ]
  },
  {
   "cell_type": "code",
   "execution_count": 10,
   "id": "0ca42fc4-b0f9-44bb-a6e5-4d2ca2653d45",
   "metadata": {},
   "outputs": [
    {
     "data": {
      "text/plain": [
       "N    576\n",
       "Y    110\n",
       "Name: service_agreement, dtype: int64"
      ]
     },
     "execution_count": 10,
     "metadata": {},
     "output_type": "execute_result"
    }
   ],
   "source": [
    "# Calculate the count\n",
    "df['service_agreement'].value_counts()"
   ]
  },
  {
   "cell_type": "code",
   "execution_count": 11,
   "id": "f7303d58",
   "metadata": {},
   "outputs": [
    {
     "data": {
      "text/plain": [
       "N    83.965015\n",
       "Y    16.034985\n",
       "Name: service_agreement, dtype: float64"
      ]
     },
     "execution_count": 11,
     "metadata": {},
     "output_type": "execute_result"
    }
   ],
   "source": [
    "# Calculate the proportion\n",
    "df['service_agreement'].value_counts(normalize=True)*100"
   ]
  },
  {
   "cell_type": "code",
   "execution_count": 12,
   "id": "e646b421",
   "metadata": {},
   "outputs": [
    {
     "data": {
      "text/plain": [
       "M    507\n",
       "F    179\n",
       "Name: gender, dtype: int64"
      ]
     },
     "execution_count": 12,
     "metadata": {},
     "output_type": "execute_result"
    }
   ],
   "source": [
    "df['gender'].value_counts()"
   ]
  },
  {
   "cell_type": "code",
   "execution_count": 13,
   "id": "b304a618",
   "metadata": {},
   "outputs": [
    {
     "data": {
      "text/plain": [
       "M    73.906706\n",
       "F    26.093294\n",
       "Name: gender, dtype: float64"
      ]
     },
     "execution_count": 13,
     "metadata": {},
     "output_type": "execute_result"
    }
   ],
   "source": [
    "df['gender'].value_counts(normalize=True)*100"
   ]
  },
  {
   "cell_type": "code",
   "execution_count": 14,
   "id": "c0e2b18e",
   "metadata": {},
   "outputs": [
    {
     "data": {
      "text/plain": [
       "N    626\n",
       "Y     60\n",
       "Name: awards, dtype: int64"
      ]
     },
     "execution_count": 14,
     "metadata": {},
     "output_type": "execute_result"
    }
   ],
   "source": [
    "df['awards'].value_counts()"
   ]
  },
  {
   "cell_type": "code",
   "execution_count": 15,
   "id": "c7677633",
   "metadata": {},
   "outputs": [
    {
     "data": {
      "text/plain": [
       "N    91.253644\n",
       "Y     8.746356\n",
       "Name: awards, dtype: float64"
      ]
     },
     "execution_count": 15,
     "metadata": {},
     "output_type": "execute_result"
    }
   ],
   "source": [
    "df['awards'].value_counts(normalize=True)*100"
   ]
  },
  {
   "cell_type": "code",
   "execution_count": 16,
   "id": "a9dbf1e6",
   "metadata": {},
   "outputs": [
    {
     "data": {
      "text/plain": [
       "N    675\n",
       "Y     11\n",
       "Name: signon, dtype: int64"
      ]
     },
     "execution_count": 16,
     "metadata": {},
     "output_type": "execute_result"
    }
   ],
   "source": [
    "df['signon'].value_counts()"
   ]
  },
  {
   "cell_type": "code",
   "execution_count": 17,
   "id": "f0bbc9e0",
   "metadata": {},
   "outputs": [
    {
     "data": {
      "text/plain": [
       "N    98.396501\n",
       "Y     1.603499\n",
       "Name: signon, dtype: float64"
      ]
     },
     "execution_count": 17,
     "metadata": {},
     "output_type": "execute_result"
    }
   ],
   "source": [
    "df['signon'].value_counts(normalize=True)*100"
   ]
  },
  {
   "cell_type": "code",
   "execution_count": 18,
   "id": "02036b4f",
   "metadata": {},
   "outputs": [
    {
     "data": {
      "text/plain": [
       "1    353\n",
       "2    204\n",
       "3     85\n",
       "4     33\n",
       "5     11\n",
       "Name: job_level, dtype: int64"
      ]
     },
     "execution_count": 18,
     "metadata": {},
     "output_type": "execute_result"
    }
   ],
   "source": [
    "df['job_level'].value_counts()"
   ]
  },
  {
   "cell_type": "code",
   "execution_count": 19,
   "id": "9fd1f90b",
   "metadata": {},
   "outputs": [
    {
     "data": {
      "text/plain": [
       "0    516\n",
       "1    170\n",
       "Name: status, dtype: int64"
      ]
     },
     "execution_count": 19,
     "metadata": {},
     "output_type": "execute_result"
    }
   ],
   "source": [
    "df['status'].value_counts()"
   ]
  },
  {
   "cell_type": "code",
   "execution_count": 20,
   "id": "33dce9e9",
   "metadata": {},
   "outputs": [
    {
     "data": {
      "text/plain": [
       "0    75.218659\n",
       "1    24.781341\n",
       "Name: status, dtype: float64"
      ]
     },
     "execution_count": 20,
     "metadata": {},
     "output_type": "execute_result"
    }
   ],
   "source": [
    "df['status'].value_counts(normalize=True)*100"
   ]
  },
  {
   "cell_type": "markdown",
   "id": "3d60fc89-3dae-4a82-becb-848245955b30",
   "metadata": {},
   "source": [
    "#### C. Check the feature columns for missing values"
   ]
  },
  {
   "cell_type": "code",
   "execution_count": 21,
   "id": "e4d7d622",
   "metadata": {},
   "outputs": [
    {
     "data": {
      "text/plain": [
       "e_code                     0\n",
       "status                     0\n",
       "hire_date                  0\n",
       "service_agreement          0\n",
       "job_level                  0\n",
       "performance_rating_2018    0\n",
       "performance_rating_2017    0\n",
       "year_of_birth              0\n",
       "gender                     0\n",
       "distance_from_home         0\n",
       "manager_changes            0\n",
       "no_of_promotions           0\n",
       "risk_of_attrition          0\n",
       "potential_rating           0\n",
       "bonus                      0\n",
       "no_courses_taken           0\n",
       "time_in_position           0\n",
       "awards                     0\n",
       "signon                     0\n",
       "manager_sat                0\n",
       "employee_sat               0\n",
       "salary_2017                0\n",
       "salary_2018                0\n",
       "dtype: int64"
      ]
     },
     "execution_count": 21,
     "metadata": {},
     "output_type": "execute_result"
    }
   ],
   "source": [
    "df.isna().sum()"
   ]
  },
  {
   "cell_type": "markdown",
   "id": "e872090c-bf1f-4574-a3d1-c2894eef1709",
   "metadata": {},
   "source": [
    "> There are no missing values in the data set. It appears that the data has already been pre-processed and cleaned by the custodians."
   ]
  },
  {
   "cell_type": "markdown",
   "id": "1ea7438b",
   "metadata": {},
   "source": [
    "#### IV. Feature Engineering\n",
    "Feature engineering is the process of transforming raw data into a format that can be used to train machine learning models. The goal is to improve the model's performance and accuracy by making the data easier for the machine learning algorithm to learn from. In this report, we performed 2 tasks in feature engineering:\n",
    "1. **Data Transformation** - we create new features by combining some of the existing variables in the data set, and\n",
    "2. **Dimension reduction** - we drop variables or features that are no longer useful to the model."
   ]
  },
  {
   "cell_type": "markdown",
   "id": "f2900071-ef7b-41e2-91db-f82fe6b55973",
   "metadata": {},
   "source": [
    "#### A. Data Transformation - create new features"
   ]
  },
  {
   "cell_type": "markdown",
   "id": "9f66a766-acba-4e08-87ad-ab665b6a8548",
   "metadata": {},
   "source": [
    "#### 1. New feature - \"Var_rating\"\n",
    "- **\"Var_rating\"** is the variance or change in the rating; it calculates the difference in the employee's performance rating for the years 2018 and 2017.\n",
    "- a Var_rating of **'-3'** means a drop in the employee's performance rating by 3 points from 2017 to 2018, while a\n",
    "- Var_rating of **'+2'** means an improvement in the employee's performance rating from 2017 to 2018."
   ]
  },
  {
   "cell_type": "code",
   "execution_count": 22,
   "id": "f81c5073",
   "metadata": {},
   "outputs": [],
   "source": [
    "# New variable #1: calculate the difference in performance rating of 2018 and 2017\n",
    "df['Var_rating']= df['performance_rating_2018'] - df['performance_rating_2017']"
   ]
  },
  {
   "cell_type": "code",
   "execution_count": 23,
   "id": "4b641f28",
   "metadata": {},
   "outputs": [
    {
     "data": {
      "text/plain": [
       "0      1\n",
       "1     -1\n",
       "2      0\n",
       "3      0\n",
       "4      0\n",
       "      ..\n",
       "681    0\n",
       "682   -1\n",
       "683    0\n",
       "684    0\n",
       "685    0\n",
       "Name: Var_rating, Length: 686, dtype: int64"
      ]
     },
     "execution_count": 23,
     "metadata": {},
     "output_type": "execute_result"
    }
   ],
   "source": [
    "df['Var_rating']"
   ]
  },
  {
   "cell_type": "code",
   "execution_count": 24,
   "id": "89a59610",
   "metadata": {},
   "outputs": [
    {
     "data": {
      "text/plain": [
       " 0    413\n",
       "-1    130\n",
       " 1    126\n",
       "-3     16\n",
       " 2      1\n",
       "Name: Var_rating, dtype: int64"
      ]
     },
     "execution_count": 24,
     "metadata": {},
     "output_type": "execute_result"
    }
   ],
   "source": [
    "# Get a unique count of each Var_rating\n",
    "df['Var_rating'].value_counts()"
   ]
  },
  {
   "cell_type": "markdown",
   "id": "25d9030e-3f46-4f41-af71-01682b4bc5b4",
   "metadata": {},
   "source": [
    "**Insight:** Almost 80% of employees had average to below average performance ratings:\n",
    "> 1. out of a total 686 call center employees in 2018, the majority (413 employees or 60.2%) received a neutral performance rating of \"0\".\n",
    "> 2. the other 126 employees (18.4%) improved their performance rating by one point: \"+1\"\n",
    "> 3. another 130 employees (18.9%) experienced a drop in their performance rating by one point: \"-1\"\n",
    "> 4. the other 16 employees saw a drop in their performance rating by 3 points: \"-3\", and\n",
    "> 5. the remaining 1 employee improved their performance rating by 2 points: \"+2\"."
   ]
  },
  {
   "cell_type": "markdown",
   "id": "bc01ce4c-157f-41c9-a9a2-7bbb26538f78",
   "metadata": {},
   "source": [
    "#### 2. New feature - \"percentage salary change\"\n",
    "- **percentage salary change** shows the percentage increase in employee salary for the years 2018 and 2017."
   ]
  },
  {
   "cell_type": "code",
   "execution_count": 25,
   "id": "c96efd00",
   "metadata": {},
   "outputs": [],
   "source": [
    "# Calculate the employee's percentage salary increase from 2017 to 2018\n",
    "df['percentage_salary_change']= ((df['salary_2018'] - df['salary_2017'])/df['salary_2017'])*100"
   ]
  },
  {
   "cell_type": "code",
   "execution_count": 26,
   "id": "76b8d497",
   "metadata": {},
   "outputs": [
    {
     "data": {
      "text/plain": [
       "0       3.505101\n",
       "1       1.502064\n",
       "2      12.670835\n",
       "3       3.761866\n",
       "4       0.000000\n",
       "         ...    \n",
       "681     1.201349\n",
       "682     1.201349\n",
       "683     1.201349\n",
       "684     1.201349\n",
       "685     2.567568\n",
       "Name: percentage_salary_change, Length: 686, dtype: float64"
      ]
     },
     "execution_count": 26,
     "metadata": {},
     "output_type": "execute_result"
    }
   ],
   "source": [
    "df['percentage_salary_change']"
   ]
  },
  {
   "cell_type": "markdown",
   "id": "977b7be1-bb7b-407c-93aa-220cdf05ade3",
   "metadata": {},
   "source": [
    "#### 3. New feature - \"age\"\n",
    "- **age** shows how old each employee is by the number of years\n",
    "- it is calculated by subtracting the employee's year of birth to the base year of 2018"
   ]
  },
  {
   "cell_type": "code",
   "execution_count": 27,
   "id": "f54e735e",
   "metadata": {},
   "outputs": [],
   "source": [
    "# Calculate the age of the employee given the base year 2018\n",
    "df['age']= 2018 - df['year_of_birth']"
   ]
  },
  {
   "cell_type": "code",
   "execution_count": 28,
   "id": "c8dbb9e7",
   "metadata": {},
   "outputs": [
    {
     "data": {
      "text/plain": [
       "0      51\n",
       "1      47\n",
       "2      46\n",
       "3      50\n",
       "4      57\n",
       "       ..\n",
       "681    52\n",
       "682    37\n",
       "683    51\n",
       "684    38\n",
       "685    55\n",
       "Name: age, Length: 686, dtype: int64"
      ]
     },
     "execution_count": 28,
     "metadata": {},
     "output_type": "execute_result"
    }
   ],
   "source": [
    "df['age']"
   ]
  },
  {
   "cell_type": "markdown",
   "id": "c796a032-fcc0-49ab-94cb-8e274432e556",
   "metadata": {},
   "source": [
    "#### B. Perform a univariate analysis on each new feature:\n",
    "- \"Var_rating\"\n",
    "- \"percentage salary change\", and\n",
    "- \"age\""
   ]
  },
  {
   "cell_type": "code",
   "execution_count": 29,
   "id": "68ab735d",
   "metadata": {},
   "outputs": [
    {
     "data": {
      "text/plain": [
       "count    686.000000\n",
       "mean      -0.072886\n",
       "std        0.764500\n",
       "min       -3.000000\n",
       "25%        0.000000\n",
       "50%        0.000000\n",
       "75%        0.000000\n",
       "max        2.000000\n",
       "Name: Var_rating, dtype: float64"
      ]
     },
     "execution_count": 29,
     "metadata": {},
     "output_type": "execute_result"
    }
   ],
   "source": [
    "# Check the statistical summary for \"Var_rating\"\n",
    "df['Var_rating'].describe()"
   ]
  },
  {
   "cell_type": "code",
   "execution_count": 30,
   "id": "e7d54dac-d760-4403-8854-8fd57125ba38",
   "metadata": {},
   "outputs": [
    {
     "data": {
      "text/plain": [
       "0    0\n",
       "Name: Var_rating, dtype: int64"
      ]
     },
     "execution_count": 30,
     "metadata": {},
     "output_type": "execute_result"
    }
   ],
   "source": [
    "df['Var_rating'].mode()"
   ]
  },
  {
   "cell_type": "markdown",
   "id": "4fddb92a-040a-436b-8c31-4ef59951777d",
   "metadata": {},
   "source": [
    "**Insight:** A program to improve the average performance rating may be necessary to improve lower the attrition rate.\n",
    "> Average performance rating score for the call center is sub-par with a mean score of \"-0.07\". The range is from a minimum score of \"-3.0\" to a maximum score of \"2.0\". We believe the \"-3.0\" score is pulling down the average score to \"-0.1\". This sub-par rating probably explains why call center attrition rate is high. "
   ]
  },
  {
   "cell_type": "code",
   "execution_count": 31,
   "id": "73aa5613",
   "metadata": {},
   "outputs": [
    {
     "data": {
      "text/plain": [
       "count    686.000000\n",
       "mean       5.144859\n",
       "std        6.818903\n",
       "min        0.000000\n",
       "25%        1.020408\n",
       "50%        3.002883\n",
       "75%        5.900076\n",
       "max       57.608696\n",
       "Name: percentage_salary_change, dtype: float64"
      ]
     },
     "execution_count": 31,
     "metadata": {},
     "output_type": "execute_result"
    }
   ],
   "source": [
    "# Check the statistical summary for \"percentage_salary_change\"\n",
    "df['percentage_salary_change'].describe()"
   ]
  },
  {
   "cell_type": "code",
   "execution_count": 32,
   "id": "cccf4180-bc55-4311-b19d-94542c8f8099",
   "metadata": {},
   "outputs": [
    {
     "data": {
      "text/plain": [
       "0.000000     130\n",
       "2.142857      16\n",
       "1.538462      16\n",
       "10.000000      9\n",
       "2.300000       9\n",
       "            ... \n",
       "3.001969       1\n",
       "3.002677       1\n",
       "19.047619      1\n",
       "20.833333      1\n",
       "2.567568       1\n",
       "Name: percentage_salary_change, Length: 423, dtype: int64"
      ]
     },
     "execution_count": 32,
     "metadata": {},
     "output_type": "execute_result"
    }
   ],
   "source": [
    "df['percentage_salary_change'].value_counts()"
   ]
  },
  {
   "cell_type": "markdown",
   "id": "d0ab61d4-3575-4f24-9671-244db7973642",
   "metadata": {},
   "source": [
    "**Insight:** About 30.7% of employees who were eligible for a pay raise did not get one. The lack of a pay raise may be due to the high number of sub-par performance ratings. **Therefore, improving performance ratings in the short-term** could lead to more pay increases, which would improve employee morale and lower attrition rates.\n",
    "> Average pay raise offered to employees range from 1.02% to 5.90%, as shown in the **IQR** (inter-quartile range) of the data distribution. The IQR is where one-half of all data points occur. It is the range of 25% to 75% of the data distribution. About 30.7% of employees who were eligible for a pay raise did not get one (see the table above where (130/423) * 100 = 30.73%)."
   ]
  },
  {
   "cell_type": "code",
   "execution_count": 33,
   "id": "f6a8c4a1",
   "metadata": {},
   "outputs": [
    {
     "data": {
      "text/plain": [
       "count    686.000000\n",
       "mean      45.467930\n",
       "std        7.734348\n",
       "min       28.000000\n",
       "25%       39.000000\n",
       "50%       45.000000\n",
       "75%       52.000000\n",
       "max       59.000000\n",
       "Name: age, dtype: float64"
      ]
     },
     "execution_count": 33,
     "metadata": {},
     "output_type": "execute_result"
    }
   ],
   "source": [
    "# Check the statistical summary for \"age\"\n",
    "df['age'].describe()"
   ]
  },
  {
   "cell_type": "code",
   "execution_count": 34,
   "id": "2a85ee28-8a85-4cb2-b59f-5c7367555063",
   "metadata": {},
   "outputs": [
    {
     "data": {
      "text/plain": [
       "0    49\n",
       "Name: age, dtype: int64"
      ]
     },
     "execution_count": 34,
     "metadata": {},
     "output_type": "execute_result"
    }
   ],
   "source": [
    "df['age'].mode()"
   ]
  },
  {
   "cell_type": "markdown",
   "id": "8d809f8f-4c13-44ed-b99c-9d28ab4d2263",
   "metadata": {},
   "source": [
    "**Insight:** In terms of age demographics, a high number of employees are 49 years old as shown by the mode of the age distribution. Older employees have valuable knowledge and skills that can be passed on to new employees. This knowledge sharing helps to maintain the quality of work and ensure that the company remains competitive.\n",
    "\n",
    "> The average age of the call center employee is around 45 years with a range of 28 years to 59 years of age. Half of the employees (i.e., 50% of the total workforce) are between 39 years to 52 years as shown by the inter-quartile range (IQR, 25% to 75% of the distribution). However, a high number of employees are 49 years old as shown by the mode of the age distribution."
   ]
  },
  {
   "cell_type": "markdown",
   "id": "f59fce4c",
   "metadata": {},
   "source": [
    "#### C. Dimension Reduction\n",
    "The goal of dimension reduction is to drop features that are no longer useful to the model. Previous variables that were used to create new variables are dropped because they no longer provide new information. Other variables that will never be used such as 'hire_date' or 'e_code' can also be dropped."
   ]
  },
  {
   "cell_type": "code",
   "execution_count": 35,
   "id": "52eb8876",
   "metadata": {},
   "outputs": [],
   "source": [
    "# Drop variables that were used to build new variables\n",
    "\n",
    "df = df.drop(['year_of_birth', 'salary_2017', 'salary_2018', 'performance_rating_2018', 'performance_rating_2017'], axis=1)"
   ]
  },
  {
   "cell_type": "code",
   "execution_count": 36,
   "id": "ca81a181",
   "metadata": {},
   "outputs": [],
   "source": [
    "# Drop variables that are of no use to the model\n",
    "\n",
    "df = df.drop(['hire_date', 'e_code'], axis=1)"
   ]
  },
  {
   "cell_type": "code",
   "execution_count": 37,
   "id": "ebc62cc5",
   "metadata": {},
   "outputs": [
    {
     "data": {
      "text/plain": [
       "(686, 19)"
      ]
     },
     "execution_count": 37,
     "metadata": {},
     "output_type": "execute_result"
    }
   ],
   "source": [
    "df.shape"
   ]
  },
  {
   "cell_type": "code",
   "execution_count": 38,
   "id": "89430310",
   "metadata": {},
   "outputs": [
    {
     "data": {
      "text/html": [
       "<div>\n",
       "<style scoped>\n",
       "    .dataframe tbody tr th:only-of-type {\n",
       "        vertical-align: middle;\n",
       "    }\n",
       "\n",
       "    .dataframe tbody tr th {\n",
       "        vertical-align: top;\n",
       "    }\n",
       "\n",
       "    .dataframe thead th {\n",
       "        text-align: right;\n",
       "    }\n",
       "</style>\n",
       "<table border=\"1\" class=\"dataframe\">\n",
       "  <thead>\n",
       "    <tr style=\"text-align: right;\">\n",
       "      <th></th>\n",
       "      <th>status</th>\n",
       "      <th>service_agreement</th>\n",
       "      <th>job_level</th>\n",
       "      <th>gender</th>\n",
       "      <th>distance_from_home</th>\n",
       "      <th>manager_changes</th>\n",
       "      <th>no_of_promotions</th>\n",
       "      <th>risk_of_attrition</th>\n",
       "      <th>potential_rating</th>\n",
       "      <th>bonus</th>\n",
       "      <th>no_courses_taken</th>\n",
       "      <th>time_in_position</th>\n",
       "      <th>awards</th>\n",
       "      <th>signon</th>\n",
       "      <th>manager_sat</th>\n",
       "      <th>employee_sat</th>\n",
       "      <th>Var_rating</th>\n",
       "      <th>percentage_salary_change</th>\n",
       "      <th>age</th>\n",
       "    </tr>\n",
       "  </thead>\n",
       "  <tbody>\n",
       "    <tr>\n",
       "      <th>0</th>\n",
       "      <td>0</td>\n",
       "      <td>N</td>\n",
       "      <td>3</td>\n",
       "      <td>M</td>\n",
       "      <td>0.52</td>\n",
       "      <td>1</td>\n",
       "      <td>2</td>\n",
       "      <td>2</td>\n",
       "      <td>5</td>\n",
       "      <td>0</td>\n",
       "      <td>8</td>\n",
       "      <td>30</td>\n",
       "      <td>N</td>\n",
       "      <td>N</td>\n",
       "      <td>81</td>\n",
       "      <td>80</td>\n",
       "      <td>1</td>\n",
       "      <td>3.505101</td>\n",
       "      <td>51</td>\n",
       "    </tr>\n",
       "    <tr>\n",
       "      <th>1</th>\n",
       "      <td>0</td>\n",
       "      <td>N</td>\n",
       "      <td>2</td>\n",
       "      <td>M</td>\n",
       "      <td>0.08</td>\n",
       "      <td>4</td>\n",
       "      <td>3</td>\n",
       "      <td>2</td>\n",
       "      <td>5</td>\n",
       "      <td>2242</td>\n",
       "      <td>6</td>\n",
       "      <td>5</td>\n",
       "      <td>N</td>\n",
       "      <td>N</td>\n",
       "      <td>88</td>\n",
       "      <td>84</td>\n",
       "      <td>-1</td>\n",
       "      <td>1.502064</td>\n",
       "      <td>47</td>\n",
       "    </tr>\n",
       "    <tr>\n",
       "      <th>2</th>\n",
       "      <td>0</td>\n",
       "      <td>N</td>\n",
       "      <td>2</td>\n",
       "      <td>M</td>\n",
       "      <td>0.51</td>\n",
       "      <td>2</td>\n",
       "      <td>0</td>\n",
       "      <td>3</td>\n",
       "      <td>3</td>\n",
       "      <td>0</td>\n",
       "      <td>2</td>\n",
       "      <td>53</td>\n",
       "      <td>N</td>\n",
       "      <td>N</td>\n",
       "      <td>83</td>\n",
       "      <td>93</td>\n",
       "      <td>0</td>\n",
       "      <td>12.670835</td>\n",
       "      <td>46</td>\n",
       "    </tr>\n",
       "    <tr>\n",
       "      <th>3</th>\n",
       "      <td>0</td>\n",
       "      <td>N</td>\n",
       "      <td>1</td>\n",
       "      <td>F</td>\n",
       "      <td>0.81</td>\n",
       "      <td>1</td>\n",
       "      <td>0</td>\n",
       "      <td>2</td>\n",
       "      <td>5</td>\n",
       "      <td>2320</td>\n",
       "      <td>2</td>\n",
       "      <td>36</td>\n",
       "      <td>N</td>\n",
       "      <td>N</td>\n",
       "      <td>86</td>\n",
       "      <td>83</td>\n",
       "      <td>0</td>\n",
       "      <td>3.761866</td>\n",
       "      <td>50</td>\n",
       "    </tr>\n",
       "    <tr>\n",
       "      <th>4</th>\n",
       "      <td>0</td>\n",
       "      <td>N</td>\n",
       "      <td>2</td>\n",
       "      <td>M</td>\n",
       "      <td>0.06</td>\n",
       "      <td>4</td>\n",
       "      <td>0</td>\n",
       "      <td>2</td>\n",
       "      <td>5</td>\n",
       "      <td>0</td>\n",
       "      <td>10</td>\n",
       "      <td>2</td>\n",
       "      <td>N</td>\n",
       "      <td>N</td>\n",
       "      <td>79</td>\n",
       "      <td>80</td>\n",
       "      <td>0</td>\n",
       "      <td>0.000000</td>\n",
       "      <td>57</td>\n",
       "    </tr>\n",
       "  </tbody>\n",
       "</table>\n",
       "</div>"
      ],
      "text/plain": [
       "   status service_agreement  job_level gender  distance_from_home  \\\n",
       "0       0                 N          3      M                0.52   \n",
       "1       0                 N          2      M                0.08   \n",
       "2       0                 N          2      M                0.51   \n",
       "3       0                 N          1      F                0.81   \n",
       "4       0                 N          2      M                0.06   \n",
       "\n",
       "   manager_changes  no_of_promotions  risk_of_attrition  potential_rating  \\\n",
       "0                1                 2                  2                 5   \n",
       "1                4                 3                  2                 5   \n",
       "2                2                 0                  3                 3   \n",
       "3                1                 0                  2                 5   \n",
       "4                4                 0                  2                 5   \n",
       "\n",
       "   bonus  no_courses_taken  time_in_position awards signon  manager_sat  \\\n",
       "0      0                 8                30      N      N           81   \n",
       "1   2242                 6                 5      N      N           88   \n",
       "2      0                 2                53      N      N           83   \n",
       "3   2320                 2                36      N      N           86   \n",
       "4      0                10                 2      N      N           79   \n",
       "\n",
       "   employee_sat  Var_rating  percentage_salary_change  age  \n",
       "0            80           1                  3.505101   51  \n",
       "1            84          -1                  1.502064   47  \n",
       "2            93           0                 12.670835   46  \n",
       "3            83           0                  3.761866   50  \n",
       "4            80           0                  0.000000   57  "
      ]
     },
     "execution_count": 38,
     "metadata": {},
     "output_type": "execute_result"
    }
   ],
   "source": [
    "df.head()"
   ]
  },
  {
   "cell_type": "markdown",
   "id": "0c415a7f",
   "metadata": {},
   "source": [
    "#### V. Data/Business Insights"
   ]
  },
  {
   "cell_type": "markdown",
   "id": "f2f8cf79-e889-4e03-a844-099af25210d5",
   "metadata": {},
   "source": [
    "#### A. Bivariate Analysis\n",
    "Bivariate analysis is the analysis of two variables. It is used to find out if there is a relationship between two sets of values - usually the variables X and Y.\n",
    "\n",
    "- In this report, we use crosstab tables and boxplots to explain the relation between the two variables."
   ]
  },
  {
   "cell_type": "markdown",
   "id": "f3a07b58-203f-4073-af42-18697fa4a241",
   "metadata": {},
   "source": [
    "#### 1. Create crosstab tables"
   ]
  },
  {
   "cell_type": "code",
   "execution_count": 39,
   "id": "2b11d187",
   "metadata": {},
   "outputs": [
    {
     "data": {
      "text/html": [
       "<div>\n",
       "<style scoped>\n",
       "    .dataframe tbody tr th:only-of-type {\n",
       "        vertical-align: middle;\n",
       "    }\n",
       "\n",
       "    .dataframe tbody tr th {\n",
       "        vertical-align: top;\n",
       "    }\n",
       "\n",
       "    .dataframe thead th {\n",
       "        text-align: right;\n",
       "    }\n",
       "</style>\n",
       "<table border=\"1\" class=\"dataframe\">\n",
       "  <thead>\n",
       "    <tr style=\"text-align: right;\">\n",
       "      <th>gender</th>\n",
       "      <th>F</th>\n",
       "      <th>M</th>\n",
       "    </tr>\n",
       "    <tr>\n",
       "      <th>status</th>\n",
       "      <th></th>\n",
       "      <th></th>\n",
       "    </tr>\n",
       "  </thead>\n",
       "  <tbody>\n",
       "    <tr>\n",
       "      <th>0</th>\n",
       "      <td>136</td>\n",
       "      <td>380</td>\n",
       "    </tr>\n",
       "    <tr>\n",
       "      <th>1</th>\n",
       "      <td>43</td>\n",
       "      <td>127</td>\n",
       "    </tr>\n",
       "  </tbody>\n",
       "</table>\n",
       "</div>"
      ],
      "text/plain": [
       "gender    F    M\n",
       "status          \n",
       "0       136  380\n",
       "1        43  127"
      ]
     },
     "execution_count": 39,
     "metadata": {},
     "output_type": "execute_result"
    }
   ],
   "source": [
    "# Create a crosstab table comparing two categorical variables: 'gender' and 'status'\n",
    "# there were 170 employees who left the company (status = 1) while 516 employees remained (status = 0)\n",
    "# the company had a total of 179 female employees and a total of 507 male employees for a total of 686 employees.\n",
    "\n",
    "pd.crosstab(df.status,df.gender)"
   ]
  },
  {
   "cell_type": "markdown",
   "id": "6f2474fc-0646-4c6d-9569-c7a8a2c2fada",
   "metadata": {},
   "source": [
    "**Insight:** There does **not** seem to be a causal relation between gender and attrition.\n",
    "> In terms of gender demographics, the company had a total of 179 female employees and a total of 507 male employees for a total of 686 employees.\n",
    "> The number of employees who left were 170 (status = 1) while the number of employees who stayed were 516 (status = 0)\n",
    "> Of the total 686 employees, around 6.3% who left were female and about 18.5% who left were male.\n",
    "> Of the total 170 employees who left the company (status = 1), 25.3% were female, and 74.7% were male.\n",
    "> Of the total 179 female employees, about 24% left the company (status = 1), and around 76.0% remained (status = 0)."
   ]
  },
  {
   "cell_type": "code",
   "execution_count": 40,
   "id": "7e0a83ee",
   "metadata": {},
   "outputs": [
    {
     "data": {
      "text/html": [
       "<div>\n",
       "<style scoped>\n",
       "    .dataframe tbody tr th:only-of-type {\n",
       "        vertical-align: middle;\n",
       "    }\n",
       "\n",
       "    .dataframe tbody tr th {\n",
       "        vertical-align: top;\n",
       "    }\n",
       "\n",
       "    .dataframe thead th {\n",
       "        text-align: right;\n",
       "    }\n",
       "</style>\n",
       "<table border=\"1\" class=\"dataframe\">\n",
       "  <thead>\n",
       "    <tr style=\"text-align: right;\">\n",
       "      <th>gender</th>\n",
       "      <th>F</th>\n",
       "      <th>M</th>\n",
       "    </tr>\n",
       "    <tr>\n",
       "      <th>status</th>\n",
       "      <th></th>\n",
       "      <th></th>\n",
       "    </tr>\n",
       "  </thead>\n",
       "  <tbody>\n",
       "    <tr>\n",
       "      <th>0</th>\n",
       "      <td>19.825073</td>\n",
       "      <td>55.393586</td>\n",
       "    </tr>\n",
       "    <tr>\n",
       "      <th>1</th>\n",
       "      <td>6.268222</td>\n",
       "      <td>18.513120</td>\n",
       "    </tr>\n",
       "  </tbody>\n",
       "</table>\n",
       "</div>"
      ],
      "text/plain": [
       "gender          F          M\n",
       "status                      \n",
       "0       19.825073  55.393586\n",
       "1        6.268222  18.513120"
      ]
     },
     "execution_count": 40,
     "metadata": {},
     "output_type": "execute_result"
    }
   ],
   "source": [
    "# Create a crosstab table comparing gender and status by proportion (e.g., each cell divided by the total of 686 employees)\n",
    "# Of the total number of employees, approximately 6.3% who left were female and around 18.5% were male.\n",
    "\n",
    "pd.crosstab(df.status,df.gender, normalize=True)*100"
   ]
  },
  {
   "cell_type": "code",
   "execution_count": 41,
   "id": "c07875f2",
   "metadata": {},
   "outputs": [
    {
     "data": {
      "text/html": [
       "<div>\n",
       "<style scoped>\n",
       "    .dataframe tbody tr th:only-of-type {\n",
       "        vertical-align: middle;\n",
       "    }\n",
       "\n",
       "    .dataframe tbody tr th {\n",
       "        vertical-align: top;\n",
       "    }\n",
       "\n",
       "    .dataframe thead th {\n",
       "        text-align: right;\n",
       "    }\n",
       "</style>\n",
       "<table border=\"1\" class=\"dataframe\">\n",
       "  <thead>\n",
       "    <tr style=\"text-align: right;\">\n",
       "      <th>gender</th>\n",
       "      <th>F</th>\n",
       "      <th>M</th>\n",
       "    </tr>\n",
       "    <tr>\n",
       "      <th>status</th>\n",
       "      <th></th>\n",
       "      <th></th>\n",
       "    </tr>\n",
       "  </thead>\n",
       "  <tbody>\n",
       "    <tr>\n",
       "      <th>0</th>\n",
       "      <td>26.356589</td>\n",
       "      <td>73.643411</td>\n",
       "    </tr>\n",
       "    <tr>\n",
       "      <th>1</th>\n",
       "      <td>25.294118</td>\n",
       "      <td>74.705882</td>\n",
       "    </tr>\n",
       "  </tbody>\n",
       "</table>\n",
       "</div>"
      ],
      "text/plain": [
       "gender          F          M\n",
       "status                      \n",
       "0       26.356589  73.643411\n",
       "1       25.294118  74.705882"
      ]
     },
     "execution_count": 41,
     "metadata": {},
     "output_type": "execute_result"
    }
   ],
   "source": [
    "# Create a crosstab table comparing gender and status by row level proportion (e.g. each cell divided by row total)\n",
    "# Of the total number of people who left the company (status = 1), 25.3% were female, and 74.7% were male.\n",
    "\n",
    "pd.crosstab(df.status,df.gender, normalize='index')*100"
   ]
  },
  {
   "cell_type": "code",
   "execution_count": 42,
   "id": "02162cf7",
   "metadata": {},
   "outputs": [
    {
     "data": {
      "text/html": [
       "<div>\n",
       "<style scoped>\n",
       "    .dataframe tbody tr th:only-of-type {\n",
       "        vertical-align: middle;\n",
       "    }\n",
       "\n",
       "    .dataframe tbody tr th {\n",
       "        vertical-align: top;\n",
       "    }\n",
       "\n",
       "    .dataframe thead th {\n",
       "        text-align: right;\n",
       "    }\n",
       "</style>\n",
       "<table border=\"1\" class=\"dataframe\">\n",
       "  <thead>\n",
       "    <tr style=\"text-align: right;\">\n",
       "      <th>gender</th>\n",
       "      <th>F</th>\n",
       "      <th>M</th>\n",
       "    </tr>\n",
       "    <tr>\n",
       "      <th>status</th>\n",
       "      <th></th>\n",
       "      <th></th>\n",
       "    </tr>\n",
       "  </thead>\n",
       "  <tbody>\n",
       "    <tr>\n",
       "      <th>0</th>\n",
       "      <td>75.977654</td>\n",
       "      <td>74.95069</td>\n",
       "    </tr>\n",
       "    <tr>\n",
       "      <th>1</th>\n",
       "      <td>24.022346</td>\n",
       "      <td>25.04931</td>\n",
       "    </tr>\n",
       "  </tbody>\n",
       "</table>\n",
       "</div>"
      ],
      "text/plain": [
       "gender          F         M\n",
       "status                     \n",
       "0       75.977654  74.95069\n",
       "1       24.022346  25.04931"
      ]
     },
     "execution_count": 42,
     "metadata": {},
     "output_type": "execute_result"
    }
   ],
   "source": [
    "# Create a crosstab table comparing gender and status by column level proportion (e.g. each cell divided by column total)\n",
    "# Of the total number of females, about 24% left the company (status = 1), and around 76.0% remained (status = 0).\n",
    "\n",
    "pd.crosstab(df.status,df.gender, normalize='columns')*100"
   ]
  },
  {
   "cell_type": "markdown",
   "id": "48fa7884",
   "metadata": {},
   "source": [
    "#### B: Visual/Metric Approach using Boxplots\n",
    "- Boxplots are helpful in showing the relationship between two variables (one qualitative and one continuous variable)."
   ]
  },
  {
   "cell_type": "markdown",
   "id": "8ba87b57-2b94-40e6-b556-95cc6575805c",
   "metadata": {},
   "source": [
    "#### 1. Age vs Status - does age have an impact on attrition?"
   ]
  },
  {
   "cell_type": "code",
   "execution_count": 43,
   "id": "5281e398-5899-4f99-89df-bce3d44f264e",
   "metadata": {},
   "outputs": [
    {
     "data": {
      "text/plain": [
       "<Axes: title={'center': 'age'}, xlabel='status'>"
      ]
     },
     "execution_count": 43,
     "metadata": {},
     "output_type": "execute_result"
    },
    {
     "data": {
      "image/png": "[encoded data removed]",
      "text/plain": [
       "<Figure size 640x480 with 1 Axes>"
      ]
     },
     "metadata": {},
     "output_type": "display_data"
    }
   ],
   "source": [
    "# Plot employee age vs. status levels.\n",
    "df.boxplot(column='age', by='status')"
   ]
  },
  {
   "cell_type": "code",
   "execution_count": 44,
   "id": "902c31f3-0c94-4757-97dd-5ae6d95d7b0e",
   "metadata": {},
   "outputs": [
    {
     "data": {
      "text/plain": [
       "46.0"
      ]
     },
     "execution_count": 44,
     "metadata": {},
     "output_type": "execute_result"
    }
   ],
   "source": [
    "# mean age of employees who stayed in the company\n",
    "df['age'][df['status']==0].median()"
   ]
  },
  {
   "cell_type": "code",
   "execution_count": 45,
   "id": "117afd93-532b-4a66-bbd0-598f1053b535",
   "metadata": {},
   "outputs": [
    {
     "data": {
      "text/plain": [
       "45.0"
      ]
     },
     "execution_count": 45,
     "metadata": {},
     "output_type": "execute_result"
    }
   ],
   "source": [
    "# mean age of employees who left the company\n",
    "df['age'][df['status']==1].median()"
   ]
  },
  {
   "cell_type": "markdown",
   "id": "44206c99-7ff3-41b2-aae2-0f2d40e4e6c0",
   "metadata": {},
   "source": [
    "**Insight:** The median age of both current and attrited employees are very similar suggesting age may not be a significant variable.\n",
    "> Median age of employees who stayed in the company is 46 years.\n",
    "> Median age of employees who left the company is 45 years."
   ]
  },
  {
   "cell_type": "markdown",
   "id": "39ae6b8b-6719-443e-adcb-a564ca91182d",
   "metadata": {},
   "source": [
    "#### 2. Distance from Home vs Status - does time spent commuting affect attrition?"
   ]
  },
  {
   "cell_type": "code",
   "execution_count": 46,
   "id": "e6c8b8cb-aae9-4cd3-9b7e-016153f74732",
   "metadata": {},
   "outputs": [
    {
     "data": {
      "text/plain": [
       "<Axes: title={'center': 'distance_from_home'}, xlabel='status'>"
      ]
     },
     "execution_count": 46,
     "metadata": {},
     "output_type": "execute_result"
    },
    {
     "data": {
      "image/png": "[encoded data removed]",
      "text/plain": [
       "<Figure size 640x480 with 1 Axes>"
      ]
     },
     "metadata": {},
     "output_type": "display_data"
    }
   ],
   "source": [
    "# Plot the average distance from home (in miles) for employees by their status levels in the company.\n",
    "df.boxplot(column='distance_from_home', by='status')"
   ]
  },
  {
   "cell_type": "code",
   "execution_count": 47,
   "id": "27264d27-4aaa-4ae8-9e27-14f70b3c20df",
   "metadata": {},
   "outputs": [
    {
     "data": {
      "text/plain": [
       "2.29531007751938"
      ]
     },
     "execution_count": 47,
     "metadata": {},
     "output_type": "execute_result"
    }
   ],
   "source": [
    "df['distance_from_home'][df['status']==0].mean()"
   ]
  },
  {
   "cell_type": "code",
   "execution_count": 48,
   "id": "7d88fa49-64f8-4f76-b213-f27082de3824",
   "metadata": {},
   "outputs": [
    {
     "data": {
      "text/plain": [
       "5.964294117647059"
      ]
     },
     "execution_count": 48,
     "metadata": {},
     "output_type": "execute_result"
    }
   ],
   "source": [
    "df['distance_from_home'][df['status']==1].mean()"
   ]
  },
  {
   "cell_type": "markdown",
   "id": "3efff792-9168-4078-aaec-b16fe31914f6",
   "metadata": {},
   "source": [
    "**Insight:** In terms of average distance from home - employees who have a longer commute tend to leave the company.\n",
    "> The average distance from home for employees who stayed (status = 0) is 2.3 miles.\n",
    "> The average distance from home for employees who left (status = 1) is 5.9 miles.\n",
    "> The 2.5x difference between the two groups suggests that those with a longer commute tend to leave the company."
   ]
  },
  {
   "cell_type": "markdown",
   "id": "163ff233-e871-4bcc-878a-bfebeddbc007",
   "metadata": {},
   "source": [
    "#### 3. Manager satisfaction score vs Status - does employee relation with their manager affect attrition?"
   ]
  },
  {
   "cell_type": "code",
   "execution_count": 49,
   "id": "6d570e10-ee57-49dd-b698-04bcf3841992",
   "metadata": {},
   "outputs": [
    {
     "data": {
      "text/plain": [
       "<Axes: title={'center': 'manager_sat'}, xlabel='status'>"
      ]
     },
     "execution_count": 49,
     "metadata": {},
     "output_type": "execute_result"
    },
    {
     "data": {
      "image/png": "[encoded data removed]",
      "text/plain": [
       "<Figure size 640x480 with 1 Axes>"
      ]
     },
     "metadata": {},
     "output_type": "display_data"
    }
   ],
   "source": [
    "# Plot the average manager satisfaction score which measures how satisfied employees are with their manager.\n",
    "df.boxplot(column='manager_sat', by='status')"
   ]
  },
  {
   "cell_type": "code",
   "execution_count": 50,
   "id": "9c4136c4-044f-4d84-bc6b-b4fe726e9763",
   "metadata": {},
   "outputs": [
    {
     "data": {
      "text/plain": [
       "82.0"
      ]
     },
     "execution_count": 50,
     "metadata": {},
     "output_type": "execute_result"
    }
   ],
   "source": [
    "# Average Manager Satisfaction score of employees who stayed\n",
    "df['manager_sat'][df['status']==0].median()"
   ]
  },
  {
   "cell_type": "code",
   "execution_count": 51,
   "id": "87525fac-b4c9-49e7-9bc4-f45c541305d3",
   "metadata": {},
   "outputs": [
    {
     "data": {
      "text/plain": [
       "79.0"
      ]
     },
     "execution_count": 51,
     "metadata": {},
     "output_type": "execute_result"
    }
   ],
   "source": [
    "# Average Manager Satisfaction score of employees who left\n",
    "df['manager_sat'][df['status']==1].median()"
   ]
  },
  {
   "cell_type": "markdown",
   "id": "a137f22b-d5cf-4b3f-abe9-73512434e9dc",
   "metadata": {},
   "source": [
    "**Insight:** It seems that employees who rate their manager with a manager satisfaction score of 79 and below, tend to leave the company.\n",
    "> Employees who rated their manager with a score of 82 and above tend to stay at the company.\n",
    "> Employees who rated their manager with a score of 79 and below left the company."
   ]
  },
  {
   "cell_type": "markdown",
   "id": "b6a69ace-6dcd-467e-b8f2-fb2f2e3ef6ac",
   "metadata": {},
   "source": [
    "#### 4. Employee Satisfaction vs Status - does employee satisfaction impact attrition?"
   ]
  },
  {
   "cell_type": "code",
   "execution_count": 52,
   "id": "c8b985ae-0041-43d1-84ee-07e78635ad04",
   "metadata": {},
   "outputs": [
    {
     "data": {
      "text/plain": [
       "<Axes: title={'center': 'employee_sat'}, xlabel='status'>"
      ]
     },
     "execution_count": 52,
     "metadata": {},
     "output_type": "execute_result"
    },
    {
     "data": {
      "image/png": "[encoded data removed]",
      "text/plain": [
       "<Figure size 640x480 with 1 Axes>"
      ]
     },
     "metadata": {},
     "output_type": "display_data"
    }
   ],
   "source": [
    "# Plot the employee satisfaction score which measures how satisfied employees are within the company.\n",
    "df.boxplot(column='employee_sat', by='status')"
   ]
  },
  {
   "cell_type": "code",
   "execution_count": 53,
   "id": "944dd3c0-6e1e-49b2-b776-8ceb3d9df3ce",
   "metadata": {},
   "outputs": [
    {
     "data": {
      "text/plain": [
       "81.62790697674419"
      ]
     },
     "execution_count": 53,
     "metadata": {},
     "output_type": "execute_result"
    }
   ],
   "source": [
    "# Average employee satisfaction score of those who stayed in the company.\n",
    "df['employee_sat'][df['status']==0].mean()"
   ]
  },
  {
   "cell_type": "code",
   "execution_count": 54,
   "id": "66a25fe0-a1ac-4072-a162-b50bda8d065b",
   "metadata": {},
   "outputs": [
    {
     "data": {
      "text/plain": [
       "79.95882352941176"
      ]
     },
     "execution_count": 54,
     "metadata": {},
     "output_type": "execute_result"
    }
   ],
   "source": [
    "# Average employee satisfaction score of those who left the company.\n",
    "df['employee_sat'][df['status']==1].mean()"
   ]
  },
  {
   "cell_type": "markdown",
   "id": "752db43f-feef-4f2a-8924-7394abde7bb4",
   "metadata": {},
   "source": [
    "**Insight:** It seems employee satisfaction is not a significant factor in attrition. The difference in the employee satisfaction scores of the two groups were minimal.\n",
    "> The average employee satisfaction score of those who stayed in the company was 81.6\n",
    "> The average employee satisfaction score of those who left the company was 79.96"
   ]
  },
  {
   "cell_type": "markdown",
   "id": "f0d87811-f601-44d2-b668-3ac57a86c39a",
   "metadata": {},
   "source": [
    "#### 5. Bonus vs Status - does employee bonus impact attrition?"
   ]
  },
  {
   "cell_type": "code",
   "execution_count": 55,
   "id": "5ae4be50-0d15-4f97-99a8-8fdcd92e3a8c",
   "metadata": {},
   "outputs": [
    {
     "data": {
      "text/plain": [
       "<Axes: title={'center': 'bonus'}, xlabel='status'>"
      ]
     },
     "execution_count": 55,
     "metadata": {},
     "output_type": "execute_result"
    },
    {
     "data": {
      "image/png": "[encoded data removed]",
      "text/plain": [
       "<Figure size 640x480 with 1 Axes>"
      ]
     },
     "metadata": {},
     "output_type": "display_data"
    }
   ],
   "source": [
    "# Plot employee bonus vs. employee status\n",
    "df.boxplot(column='bonus', by='status')"
   ]
  },
  {
   "cell_type": "code",
   "execution_count": 56,
   "id": "c53a5ade-1102-4662-8918-142db3e3f6fa",
   "metadata": {},
   "outputs": [
    {
     "data": {
      "text/plain": [
       "1374.0411764705882"
      ]
     },
     "execution_count": 56,
     "metadata": {},
     "output_type": "execute_result"
    }
   ],
   "source": [
    "# Average bonus of employees who left\n",
    "df['bonus'][df['status']==1].mean()"
   ]
  },
  {
   "cell_type": "code",
   "execution_count": 57,
   "id": "81623a7d-cd44-44e5-ae2e-c2a3246f794d",
   "metadata": {},
   "outputs": [
    {
     "data": {
      "text/plain": [
       "1006.4399224806201"
      ]
     },
     "execution_count": 57,
     "metadata": {},
     "output_type": "execute_result"
    }
   ],
   "source": [
    "# Average bonus of employees who stayed\n",
    "df['bonus'][df['status']==0].mean()"
   ]
  },
  {
   "cell_type": "markdown",
   "id": "8e151b61-60f6-4519-8d20-e0de10eb4593",
   "metadata": {},
   "source": [
    "**Insight:** It seems employee bonus is not a significant variable in attrition.\n",
    "> Employees who received a higher bonus (1,374.04) left the company\n",
    "> Employees who stayed received a lower bonus (1,006.44) stayed with the company."
   ]
  },
  {
   "cell_type": "markdown",
   "id": "2e35bdd5-2b72-4f88-8748-41ef09be1e6a",
   "metadata": {},
   "source": [
    "#### 6. Number of courses taken vs Status - do employee training courses affect attrition?"
   ]
  },
  {
   "cell_type": "code",
   "execution_count": 58,
   "id": "c6a1dd68-42ae-444f-b68d-0c241ab3f384",
   "metadata": {},
   "outputs": [
    {
     "data": {
      "text/plain": [
       "<Axes: title={'center': 'no_courses_taken'}, xlabel='status'>"
      ]
     },
     "execution_count": 58,
     "metadata": {},
     "output_type": "execute_result"
    },
    {
     "data": {
      "image/png": "[encoded data removed]",
      "text/plain": [
       "<Figure size 640x480 with 1 Axes>"
      ]
     },
     "metadata": {},
     "output_type": "display_data"
    }
   ],
   "source": [
    "# Plot the number of courses taken vs. Status\n",
    "df.boxplot(column='no_courses_taken', by='status')"
   ]
  },
  {
   "cell_type": "code",
   "execution_count": 59,
   "id": "114ba54b-0ebd-4e86-bda3-f1346a5c2530",
   "metadata": {},
   "outputs": [
    {
     "data": {
      "text/plain": [
       "1.0"
      ]
     },
     "execution_count": 59,
     "metadata": {},
     "output_type": "execute_result"
    }
   ],
   "source": [
    "# Plot the average number of courses taken by employees who left\n",
    "df['no_courses_taken'][df['status']==1].median()"
   ]
  },
  {
   "cell_type": "code",
   "execution_count": 60,
   "id": "ea9c9f52-69b3-4331-aa44-a640865a231f",
   "metadata": {},
   "outputs": [
    {
     "data": {
      "text/plain": [
       "3.0"
      ]
     },
     "execution_count": 60,
     "metadata": {},
     "output_type": "execute_result"
    }
   ],
   "source": [
    "# Plot the average number of courses taken by employees who stayed\n",
    "df['no_courses_taken'][df['status']==0].median()"
   ]
  },
  {
   "cell_type": "markdown",
   "id": "f3e21f13-097c-41d0-8b36-0b0c0f818ff7",
   "metadata": {},
   "source": [
    "**Insight:** It seems that employee training courses tend to encourage employees to stay in the company. This may be due to employees who feel that building up their skills base will make them likely to get a promotion and a pay raise.\n",
    "> On average, employees who took 3 or more courses tend to stay in the company.\n",
    "> Employees who only participated in 1 course tend to leave the company."
   ]
  },
  {
   "cell_type": "markdown",
   "id": "19aaf5b4-0e41-4f1b-a306-ef8544ce68dc",
   "metadata": {},
   "source": [
    "#### 7. Time spent in a position vs Status - does the length of time spent in a position affect attrition?"
   ]
  },
  {
   "cell_type": "code",
   "execution_count": 61,
   "id": "1a3ce4f9-5e74-47c5-9913-52d08d3c660c",
   "metadata": {},
   "outputs": [
    {
     "data": {
      "text/plain": [
       "<Axes: title={'center': 'time_in_position'}, xlabel='status'>"
      ]
     },
     "execution_count": 61,
     "metadata": {},
     "output_type": "execute_result"
    },
    {
     "data": {
      "image/png": "[encoded data removed]",
      "text/plain": [
       "<Figure size 640x480 with 1 Axes>"
      ]
     },
     "metadata": {},
     "output_type": "display_data"
    }
   ],
   "source": [
    "# Plot average time in position (in months) vs. Status\n",
    "df.boxplot(column='time_in_position', by='status')"
   ]
  },
  {
   "cell_type": "code",
   "execution_count": 62,
   "id": "103514a2-bcb5-4b26-adc5-fd0d1723a10f",
   "metadata": {},
   "outputs": [
    {
     "data": {
      "text/plain": [
       "21.5"
      ]
     },
     "execution_count": 62,
     "metadata": {},
     "output_type": "execute_result"
    }
   ],
   "source": [
    "# Average time in position of employees who left\n",
    "df['time_in_position'][df['status']==1].median()"
   ]
  },
  {
   "cell_type": "code",
   "execution_count": 63,
   "id": "ebb22744-5d9e-4c83-9791-3616f4ce3334",
   "metadata": {},
   "outputs": [
    {
     "data": {
      "text/plain": [
       "16.5"
      ]
     },
     "execution_count": 63,
     "metadata": {},
     "output_type": "execute_result"
    }
   ],
   "source": [
    "# Average time in position of employees who stayed\n",
    "df['time_in_position'][df['status']==0].median()"
   ]
  },
  {
   "cell_type": "markdown",
   "id": "b6c77c8c-0dce-4d54-876a-485fc21a24af",
   "metadata": {},
   "source": [
    "**Insight:** Length of Time spent in a position does not seem to be a significant factor in explaining attrition.\n",
    "> The average time spent in a position for employees who left the company was 21.5 months.\n",
    "> The average time spent in a position for employees who stayed was 16.5 months.\n",
    "> Overall, there was around a 5 month difference in time spent in a position between those who left the company and those who stayed."
   ]
  },
  {
   "cell_type": "markdown",
   "id": "0922e212-de6c-49d3-926f-dbaebf0df427",
   "metadata": {},
   "source": [
    "#### 8. Percentage Salary Change vs Status - does a pay hike have an effect on attrition?"
   ]
  },
  {
   "cell_type": "code",
   "execution_count": 64,
   "id": "4a404105-96d1-4de7-bbe5-7fcf87c3ebb6",
   "metadata": {},
   "outputs": [
    {
     "data": {
      "text/plain": [
       "<Axes: title={'center': 'percentage_salary_change'}, xlabel='status'>"
      ]
     },
     "execution_count": 64,
     "metadata": {},
     "output_type": "execute_result"
    },
    {
     "data": {
      "image/png": "[encoded data removed]",
      "text/plain": [
       "<Figure size 640x480 with 1 Axes>"
      ]
     },
     "metadata": {},
     "output_type": "display_data"
    }
   ],
   "source": [
    "# Plot percentage salary increase vs. Status\n",
    "df.boxplot(column='percentage_salary_change', by='status')"
   ]
  },
  {
   "cell_type": "code",
   "execution_count": 65,
   "id": "6ea5f1fd-5ee9-4baa-9394-1dd79ffad32f",
   "metadata": {},
   "outputs": [
    {
     "data": {
      "text/plain": [
       "2.8998591210597175"
      ]
     },
     "execution_count": 65,
     "metadata": {},
     "output_type": "execute_result"
    }
   ],
   "source": [
    "# Average percentage pay hike of employees who left\n",
    "df['percentage_salary_change'][df['status']==1].mean()"
   ]
  },
  {
   "cell_type": "code",
   "execution_count": 66,
   "id": "bd2b2d42-54a4-4d99-b067-14caa1809ae5",
   "metadata": {},
   "outputs": [
    {
     "data": {
      "text/plain": [
       "5.88449124991046"
      ]
     },
     "execution_count": 66,
     "metadata": {},
     "output_type": "execute_result"
    }
   ],
   "source": [
    "# Average percentage pay hike of employees who stayed\n",
    "df['percentage_salary_change'][df['status']==0].mean()"
   ]
  },
  {
   "cell_type": "markdown",
   "id": "00ae39ae-854f-4a1c-ae20-82e18fcc1f4c",
   "metadata": {},
   "source": [
    "**Insight:** It seems that percentage salary increases is a significant factor in explaining attrition.\n",
    "> On average, employees with a smaller pay raise (+2.89%) left the company\n",
    "> On average, employees with a larger pay raise (+5.88%) stayed with the company."
   ]
  },
  {
   "cell_type": "markdown",
   "id": "f01b34df",
   "metadata": {},
   "source": [
    "#### VI. Validate Significant Variables thru Statistical Testing\n",
    "- For a variable to be included in the logistic regression model as a predictor variable, it is subjected to a statistical tests to determine whether or not it meets the minimum threshold of 0.05 statistical significance.\n",
    "- Statisticians use a Chi-Square to test whether two categorical variables are related to each other, i.e., one variable has an effect on the other variable;\n",
    "- Statisticians use a Two Sample T-test to test whether two variables - a numerical and a categorical variable - are related to each other, i.e., whether one variable has an impact on the other variable."
   ]
  },
  {
   "cell_type": "markdown",
   "id": "8119a1ee-8a8f-485c-9113-facfa7229ca9",
   "metadata": {},
   "source": [
    "#### 1. Hypothesis Testing - Chi-Square Test (categorical vs categorical variables)"
   ]
  },
  {
   "cell_type": "markdown",
   "id": "2f2f25b6-5175-42fc-a11d-6eef19d229e2",
   "metadata": {},
   "source": [
    "- We run a chi-square test between 2 categorical variables to see if the two variables are related (or dependent) on each other. If there is no relationship between the two variables, we state that the variables are independent from one another.\n",
    "#### Conditions for Hypothesis Testing:\n",
    "> - Each statistical test will have a significance level of 0.05.\n",
    "> - If the p-value of the chi-square test is > 0.05, **we accept the null hypothesis (H0)** that the variables are independent.\n",
    "> - If the p-value is below 0.05, **we reject the null hypothesis and accept the alternative hypothesis (H1)** that the two variables are dependent on each other."
   ]
  },
  {
   "cell_type": "markdown",
   "id": "e635bbdf-29f0-4a95-858c-bdcdc5e622af",
   "metadata": {},
   "source": [
    "> Statisticans have a popular saying:\n",
    "> - **\"If P is low, the null will go\"** (reject the null hypothesis); **\"if P is high, the null will fly\"** (accept the null hypothesis)."
   ]
  },
  {
   "cell_type": "code",
   "execution_count": 67,
   "id": "ab16cbd5",
   "metadata": {},
   "outputs": [],
   "source": [
    "# import stats library from python\n",
    "import scipy.stats as sp"
   ]
  },
  {
   "cell_type": "markdown",
   "id": "5a3dbc0f",
   "metadata": {},
   "source": [
    "### a. Gender vs. Status\n",
    "- H0: Gender and Status are independent from each other (i.e., gender has no impact on status)\n",
    "- H1: Gender and Status are dependent on each other (i.e., gender has an impact on status)"
   ]
  },
  {
   "cell_type": "code",
   "execution_count": 68,
   "id": "230986a2",
   "metadata": {},
   "outputs": [
    {
     "data": {
      "text/plain": [
       "Chi2ContingencyResult(statistic=0.02989476143031883, pvalue=0.8627292328103568, dof=1, expected_freq=array([[134.64139942,  44.35860058],\n",
       "       [381.35860058, 125.64139942]]))"
      ]
     },
     "execution_count": 68,
     "metadata": {},
     "output_type": "execute_result"
    }
   ],
   "source": [
    "# Perform the chi-square test\n",
    "table = pd.crosstab(df['gender'], df['status'])\n",
    "sp.chi2_contingency(table)"
   ]
  },
  {
   "cell_type": "markdown",
   "id": "465b20b3",
   "metadata": {},
   "source": [
    "> The chi-square test between gender and status has a p-value of 0.863 which is higher than 0.05. This means that we accept the null hypothesis that gender and attrition are both independent from one another, and that gender does not affect attrition."
   ]
  },
  {
   "cell_type": "markdown",
   "id": "ecac5ffa",
   "metadata": {},
   "source": [
    "### b. Service Agreement vs. Status\n",
    "- H0: there is no relation between service agreement and status (i.e., service agreement plays no role on the decision to leave)\n",
    "- H1: service agreement and status are related to each other (i.e., service agreement affects employee turnover)"
   ]
  },
  {
   "cell_type": "code",
   "execution_count": 69,
   "id": "699b20b1",
   "metadata": {},
   "outputs": [
    {
     "data": {
      "text/plain": [
       "Chi2ContingencyResult(statistic=6.72420174117774, pvalue=0.009511328983283338, dof=1, expected_freq=array([[433.25947522, 142.74052478],\n",
       "       [ 82.74052478,  27.25947522]]))"
      ]
     },
     "execution_count": 69,
     "metadata": {},
     "output_type": "execute_result"
    }
   ],
   "source": [
    "# Run the chi-square test\n",
    "table = pd.crosstab(df['service_agreement'], df['status'])\n",
    "sp.chi2_contingency(table)"
   ]
  },
  {
   "cell_type": "markdown",
   "id": "9588070f",
   "metadata": {},
   "source": [
    "> The chi-square test shows a p-value of 0.01 which is lower than 0.05. We reject the null (H0) and accept the alternative (H1) that not having a service agreement has an impact on employee turnover."
   ]
  },
  {
   "cell_type": "markdown",
   "id": "4a57eb80",
   "metadata": {},
   "source": [
    "### c. Job Level vs. Status\n",
    "- H0: job level and status are indepdent of one another (i.e., no relation between job level and the decision to leave)\n",
    "- H1: job level is related to status (i.e., job level has an effect on attrition)"
   ]
  },
  {
   "cell_type": "code",
   "execution_count": 70,
   "id": "69ddab26",
   "metadata": {},
   "outputs": [
    {
     "data": {
      "text/plain": [
       "Chi2ContingencyResult(statistic=2.337844062473902, pvalue=0.6738877352129603, dof=4, expected_freq=array([[265.52186589,  87.47813411],\n",
       "       [153.44606414,  50.55393586],\n",
       "       [ 63.93586006,  21.06413994],\n",
       "       [ 24.82215743,   8.17784257],\n",
       "       [  8.27405248,   2.72594752]]))"
      ]
     },
     "execution_count": 70,
     "metadata": {},
     "output_type": "execute_result"
    }
   ],
   "source": [
    "# Run the chi-square test\n",
    "table = pd.crosstab(df['job_level'], df['status'])\n",
    "sp.chi2_contingency(table)"
   ]
  },
  {
   "cell_type": "markdown",
   "id": "3a831c82",
   "metadata": {},
   "source": [
    "> The chi-square test between job level and status has a p-value of 0.674 which is higher than 0.05. We accept the null hypothesis that job level has no effect on the decision to leave."
   ]
  },
  {
   "cell_type": "markdown",
   "id": "17ed24e1",
   "metadata": {},
   "source": [
    "### d. no_of_promotions vs. Status\n",
    "- H0: no_of_promotions and status are indepdent of one another (i.e., no relation between the two variables)\n",
    "- H1: no_of_promotions is related to status (i.e., no_of_promotions has an effect on attrition)"
   ]
  },
  {
   "cell_type": "code",
   "execution_count": 71,
   "id": "9cb2b063",
   "metadata": {},
   "outputs": [
    {
     "data": {
      "text/plain": [
       "Chi2ContingencyResult(statistic=16.234810070749838, pvalue=0.03913994369619338, dof=8, expected_freq=array([[3.55784257e+02, 1.17215743e+02],\n",
       "       [7.82274052e+01, 2.57725948e+01],\n",
       "       [4.43790087e+01, 1.46209913e+01],\n",
       "       [1.65481050e+01, 5.45189504e+00],\n",
       "       [1.27871720e+01, 4.21282799e+00],\n",
       "       [4.51311953e+00, 1.48688047e+00],\n",
       "       [1.50437318e+00, 4.95626822e-01],\n",
       "       [1.50437318e+00, 4.95626822e-01],\n",
       "       [7.52186589e-01, 2.47813411e-01]]))"
      ]
     },
     "execution_count": 71,
     "metadata": {},
     "output_type": "execute_result"
    }
   ],
   "source": [
    "# Run the chi-square test\n",
    "table = pd.crosstab(df['no_of_promotions'], df['status'])\n",
    "sp.chi2_contingency(table)"
   ]
  },
  {
   "cell_type": "markdown",
   "id": "b4802096",
   "metadata": {},
   "source": [
    "> The chi-square test shows a p-value of 0.04 which is slightly lower than 0.05. This means that we reject H0 and accept H1 that the number of promotions has an affect on attrition."
   ]
  },
  {
   "cell_type": "markdown",
   "id": "306da0d6",
   "metadata": {},
   "source": [
    "### e. risk_of_attrition vs. Status\n",
    "- H0: risk_of_attrition and status are indepdent of one another (i.e., no relation between the two variables)\n",
    "- H1: risk_of_attrition is related to status (i.e., risk_of_attrition has an effect on attrition)"
   ]
  },
  {
   "cell_type": "code",
   "execution_count": 72,
   "id": "e47eddab",
   "metadata": {},
   "outputs": [
    {
     "data": {
      "text/plain": [
       "Chi2ContingencyResult(statistic=56.128165504639895, pvalue=3.944526151206098e-12, dof=3, expected_freq=array([[ 25.57434402,   8.42565598],\n",
       "       [226.40816327,  74.59183673],\n",
       "       [214.37317784,  70.62682216],\n",
       "       [ 49.64431487,  16.35568513]]))"
      ]
     },
     "execution_count": 72,
     "metadata": {},
     "output_type": "execute_result"
    }
   ],
   "source": [
    "# Run the chi-square test\n",
    "table = pd.crosstab(df['risk_of_attrition'], df['status'])\n",
    "sp.chi2_contingency(table)"
   ]
  },
  {
   "cell_type": "markdown",
   "id": "b4a72253",
   "metadata": {},
   "source": [
    "> The chi-square test shows a p-value of 0.0 which is lower than 0.05. We reject H0 and accept H1 that the risk of attrition has an effect on attrition."
   ]
  },
  {
   "cell_type": "markdown",
   "id": "f7b1e38f",
   "metadata": {},
   "source": [
    "### f. potential_rating vs. Status\n",
    "- H0: potential_rating and status are indepdent of one another (i.e., no relation between the two variables)\n",
    "- H1: potential_rating affects status (i.e., potential_rating plays a role on attrition)"
   ]
  },
  {
   "cell_type": "code",
   "execution_count": 73,
   "id": "a4bfc484",
   "metadata": {},
   "outputs": [
    {
     "data": {
      "text/plain": [
       "Chi2ContingencyResult(statistic=26.966061641155147, pvalue=2.019545165087339e-05, dof=4, expected_freq=array([[ 25.57434402,   8.42565598],\n",
       "       [ 28.58309038,   9.41690962],\n",
       "       [169.24198251,  55.75801749],\n",
       "       [147.42857143,  48.57142857],\n",
       "       [145.17201166,  47.82798834]]))"
      ]
     },
     "execution_count": 73,
     "metadata": {},
     "output_type": "execute_result"
    }
   ],
   "source": [
    "# Run the chi-square test\n",
    "table = pd.crosstab(df['potential_rating'], df['status'])\n",
    "sp.chi2_contingency(table)"
   ]
  },
  {
   "cell_type": "markdown",
   "id": "8ce93c59",
   "metadata": {},
   "source": [
    "> The chi-square test shows a p-value of 0.0 which is lower than 0.05. We reject the null H0 and accept the alternative H1 that potential_rating does have an affect on attrition."
   ]
  },
  {
   "cell_type": "markdown",
   "id": "111e6222",
   "metadata": {},
   "source": [
    "### g. awards vs. Status\n",
    "- H0: awards and status are indepdent of one another (i.e., no relation between the two variables)\n",
    "- H1: awards has an effect on attrition"
   ]
  },
  {
   "cell_type": "code",
   "execution_count": 74,
   "id": "5a1fe424",
   "metadata": {},
   "outputs": [
    {
     "data": {
      "text/plain": [
       "Chi2ContingencyResult(statistic=11.074199327587491, pvalue=0.000875372103862832, dof=1, expected_freq=array([[470.86880466, 155.13119534],\n",
       "       [ 45.13119534,  14.86880466]]))"
      ]
     },
     "execution_count": 74,
     "metadata": {},
     "output_type": "execute_result"
    }
   ],
   "source": [
    "# Run the chi-square test\n",
    "table = pd.crosstab(df['awards'], df['status'])\n",
    "sp.chi2_contingency(table)"
   ]
  },
  {
   "cell_type": "markdown",
   "id": "4c9df1fd",
   "metadata": {},
   "source": [
    "> The chi-square test shows a p-value of 0.0 which is lower than 0.05. We reject the null hypothesis H0 and accept the alternative hypothesis H1 that employee awards can have an effect on attrition. Recognizing an employee's achievement(s) could induce loyalty to the company."
   ]
  },
  {
   "cell_type": "markdown",
   "id": "fe2881c4",
   "metadata": {},
   "source": [
    "### h. sign-on bonus vs. Status\n",
    "- H0: A sign-on bonus has no effect on attrition\n",
    "- H1: A sign-on bonus affects attrition"
   ]
  },
  {
   "cell_type": "code",
   "execution_count": 75,
   "id": "259e6a34",
   "metadata": {},
   "outputs": [
    {
     "data": {
      "text/plain": [
       "Chi2ContingencyResult(statistic=0.7449395397968127, pvalue=0.3880831472807692, dof=1, expected_freq=array([[507.72594752, 167.27405248],\n",
       "       [  8.27405248,   2.72594752]]))"
      ]
     },
     "execution_count": 75,
     "metadata": {},
     "output_type": "execute_result"
    }
   ],
   "source": [
    "# Run the chi-square test\n",
    "\n",
    "table = pd.crosstab(df['signon'], df['status'])\n",
    "sp.chi2_contingency(table)"
   ]
  },
  {
   "cell_type": "markdown",
   "id": "157e226a",
   "metadata": {},
   "source": [
    "> The chi-square p-value of 0.388 is higher than 0.05; we accept the null hypothesis H0 that a sign-on bonus has no affect on attrition."
   ]
  },
  {
   "cell_type": "markdown",
   "id": "3f4dd364",
   "metadata": {},
   "source": [
    "### i. Var_rating vs. Status\n",
    "- H0: A change in the Var_rating (employee performance rating) has no effect on attrition.\n",
    "- H1: The change in Var_rating has an impact on attrition."
   ]
  },
  {
   "cell_type": "code",
   "execution_count": 76,
   "id": "5439e3f6",
   "metadata": {},
   "outputs": [
    {
     "data": {
      "text/plain": [
       "Chi2ContingencyResult(statistic=15.646652000534539, pvalue=0.0035318724704160947, dof=4, expected_freq=array([[1.20349854e+01, 3.96501458e+00],\n",
       "       [9.77842566e+01, 3.22157434e+01],\n",
       "       [3.10653061e+02, 1.02346939e+02],\n",
       "       [9.47755102e+01, 3.12244898e+01],\n",
       "       [7.52186589e-01, 2.47813411e-01]]))"
      ]
     },
     "execution_count": 76,
     "metadata": {},
     "output_type": "execute_result"
    }
   ],
   "source": [
    "# Run the chi-square test\n",
    "\n",
    "table = pd.crosstab(df['Var_rating'], df['status'])\n",
    "sp.chi2_contingency(table)"
   ]
  },
  {
   "cell_type": "markdown",
   "id": "53ee8279",
   "metadata": {},
   "source": [
    "> The chi-square p-value of 0.00 is less than 0.05 which indicates that a change in the Var_rating has an effect on attrition."
   ]
  },
  {
   "cell_type": "markdown",
   "id": "aba24aac-f8ef-44df-996d-4570d3064b53",
   "metadata": {},
   "source": [
    "#### 2. Hypothesis Testing - Welch's Two Sample T-test (numerical vs categorical variables)"
   ]
  },
  {
   "cell_type": "markdown",
   "id": "240b6efb-1c18-4882-ba9c-055ae0a411d3",
   "metadata": {},
   "source": [
    "- We run a Welch two Sample T-test between a numerical variable and a categorical variable to see if the two variables are related (or dependent) to each other. If no relationship exists between the variables, then we accept the null hypothesis H0 which states that the two variables are independent from one another.\n",
    "#### Before running the two sample t-Test, we first check if the sample distributions are normally distributed and have equal variances.\n",
    "- The sample distribution must be a normal distribution with equal variances.\n",
    "- We view the distribution of the sample data by plotting a histogram and seeing if it conforms to the normal bell distribution curve (i.e., gaussian distribution);\n",
    "- We run the **Shapiro-Wilk test** for normality on each sample data. If p-value > 0.05, we accept the null hypothesis H0 and assume a normal distribution for the sample data.\n",
    "- We run **Levene's Test for Equality of Variances**. If p-value > 0.05, we accept the null hypothesis H0, which states that the sample variances are roughly equal or not significantly different from each other.\n",
    "#### After checking for normality and equal variances among the sample distributions, we run a two sample T-test. If the sample distribution is normal with equal variances, we run a **parametric test.** If the sample distribution is not normally distributed and has unequal variances, we run a **non-parametric test.**\n",
    "#### All of our sample data has a non-normal distribution with unequal variances. We will therefore run a non-parametric t-test called the Welch's two sample T-test:\n",
    "- We set the significance level to 0.05 for the Welch's two sample T-test.\n",
    "- If the p-value of the Welch's t-test is > 0.05, **we accept the null hypothesis (H0)** that the variables are independent.\n",
    "- If the p-value of the Welch's t-test is below 0.05, **we reject the null hypothesis and accept the alternative hypothesis (H1)** that the two variables are dependent on each other."
   ]
  },
  {
   "cell_type": "markdown",
   "id": "c0bd2297-9515-4a08-9c8d-4654a915ffc0",
   "metadata": {},
   "source": [
    "#### A. Check the following sample data for normal distribution and equal variances:\n",
    "- 1) age, \n",
    "- 2) distance from home, \n",
    "- 3) manager satisfaction, \n",
    "- 4) employee satisfaction, \n",
    "- 5) bonus, \n",
    "- 6) number of courses taken, \n",
    "- 7) time in position and \n",
    "- 8) percentage salary change"
   ]
  },
  {
   "cell_type": "markdown",
   "id": "df37f9b8-924c-4d8e-9606-1a3b7b5a8fbc",
   "metadata": {},
   "source": [
    "#### 1. Import stats libraries from Python"
   ]
  },
  {
   "cell_type": "code",
   "execution_count": 77,
   "id": "7a451159-ad17-49da-85d4-4ee2f86e80e5",
   "metadata": {},
   "outputs": [],
   "source": [
    "import numpy as np\n",
    "import scipy.stats as stats\n",
    "from scipy.stats import shapiro\n",
    "from scipy.stats import levene\n",
    "import matplotlib.pyplot as plt\n",
    "import statsmodels.api as sm"
   ]
  },
  {
   "cell_type": "markdown",
   "id": "02e10600",
   "metadata": {},
   "source": [
    "#### 2. Plot a histogram and examine the shape of the distribution; also check for equlity of variances."
   ]
  },
  {
   "cell_type": "code",
   "execution_count": 78,
   "id": "e88d1d3f",
   "metadata": {},
   "outputs": [
    {
     "data": {
      "text/plain": [
       "1.17078737103221"
      ]
     },
     "execution_count": 78,
     "metadata": {},
     "output_type": "execute_result"
    },
    {
     "data": {
      "image/png": "[encoded data removed]",
      "text/plain": [
       "<Figure size 640x480 with 1 Axes>"
      ]
     },
     "metadata": {},
     "output_type": "display_data"
    },
    {
     "data": {
      "text/plain": [
       "<Figure size 0x0 with 0 Axes>"
      ]
     },
     "metadata": {},
     "output_type": "display_data"
    }
   ],
   "source": [
    "# plot a histogram for status\n",
    "df['status'].plot.hist()\n",
    "plt.title('Status')\n",
    "plt.figure(figsize=(0,0))\n",
    "df['status'].skew()"
   ]
  },
  {
   "cell_type": "code",
   "execution_count": 79,
   "id": "c9fac09a",
   "metadata": {},
   "outputs": [
    {
     "data": {
      "text/plain": [
       "-0.053474199890542584"
      ]
     },
     "execution_count": 79,
     "metadata": {},
     "output_type": "execute_result"
    },
    {
     "data": {
      "image/png": "[encoded data removed]",
      "text/plain": [
       "<Figure size 640x480 with 1 Axes>"
      ]
     },
     "metadata": {},
     "output_type": "display_data"
    },
    {
     "data": {
      "text/plain": [
       "<Figure size 0x0 with 0 Axes>"
      ]
     },
     "metadata": {},
     "output_type": "display_data"
    }
   ],
   "source": [
    "# plot a histogram for age\n",
    "df['age'].plot.hist()\n",
    "plt.title('Age')\n",
    "plt.figure(figsize=(0,0))\n",
    "df['age'].skew()"
   ]
  },
  {
   "cell_type": "code",
   "execution_count": 80,
   "id": "84872fd4",
   "metadata": {},
   "outputs": [
    {
     "data": {
      "text/plain": [
       "3.391949043297557"
      ]
     },
     "execution_count": 80,
     "metadata": {},
     "output_type": "execute_result"
    },
    {
     "data": {
      "image/png": "[encoded data removed]",
      "text/plain": [
       "<Figure size 640x480 with 1 Axes>"
      ]
     },
     "metadata": {},
     "output_type": "display_data"
    },
    {
     "data": {
      "text/plain": [
       "<Figure size 0x0 with 0 Axes>"
      ]
     },
     "metadata": {},
     "output_type": "display_data"
    }
   ],
   "source": [
    "# plot a histogram for distance from home\n",
    "df['distance_from_home'].plot.hist()\n",
    "plt.title('distance from home')\n",
    "plt.figure(figsize=(0,0))\n",
    "df['distance_from_home'].skew()"
   ]
  },
  {
   "cell_type": "code",
   "execution_count": 81,
   "id": "c20b1632",
   "metadata": {},
   "outputs": [
    {
     "data": {
      "text/plain": [
       "1.2416158547092389"
      ]
     },
     "execution_count": 81,
     "metadata": {},
     "output_type": "execute_result"
    },
    {
     "data": {
      "image/png": "[encoded data removed]",
      "text/plain": [
       "<Figure size 640x480 with 1 Axes>"
      ]
     },
     "metadata": {},
     "output_type": "display_data"
    },
    {
     "data": {
      "text/plain": [
       "<Figure size 0x0 with 0 Axes>"
      ]
     },
     "metadata": {},
     "output_type": "display_data"
    }
   ],
   "source": [
    "# plot a histogram for manager satisfaction\n",
    "df['manager_sat'].plot.hist()\n",
    "plt.title('manager satisfaction')\n",
    "plt.figure(figsize=(0,0))\n",
    "df['manager_sat'].skew()"
   ]
  },
  {
   "cell_type": "code",
   "execution_count": 82,
   "id": "b819cd77",
   "metadata": {},
   "outputs": [
    {
     "data": {
      "text/plain": [
       "1.1886925569711662"
      ]
     },
     "execution_count": 82,
     "metadata": {},
     "output_type": "execute_result"
    },
    {
     "data": {
      "image/png": "[encoded data removed]",
      "text/plain": [
       "<Figure size 640x480 with 1 Axes>"
      ]
     },
     "metadata": {},
     "output_type": "display_data"
    },
    {
     "data": {
      "text/plain": [
       "<Figure size 0x0 with 0 Axes>"
      ]
     },
     "metadata": {},
     "output_type": "display_data"
    }
   ],
   "source": [
    "# plot a histogram for employee satisfaction\n",
    "df['employee_sat'].plot.hist()\n",
    "plt.title('employee satisfaction')\n",
    "plt.figure(figsize=(0,0))\n",
    "df['employee_sat'].skew()"
   ]
  },
  {
   "cell_type": "code",
   "execution_count": 83,
   "id": "fd5d0465",
   "metadata": {},
   "outputs": [
    {
     "data": {
      "text/plain": [
       "3.221230554544314"
      ]
     },
     "execution_count": 83,
     "metadata": {},
     "output_type": "execute_result"
    },
    {
     "data": {
      "image/png": "[encoded data removed]",
      "text/plain": [
       "<Figure size 640x480 with 1 Axes>"
      ]
     },
     "metadata": {},
     "output_type": "display_data"
    },
    {
     "data": {
      "text/plain": [
       "<Figure size 0x0 with 0 Axes>"
      ]
     },
     "metadata": {},
     "output_type": "display_data"
    }
   ],
   "source": [
    "# plot a histogram for bonus\n",
    "df['bonus'].plot.hist()\n",
    "plt.title('bonus')\n",
    "plt.figure(figsize=(0,0))\n",
    "df['bonus'].skew()"
   ]
  },
  {
   "cell_type": "code",
   "execution_count": 84,
   "id": "61fedd3e",
   "metadata": {},
   "outputs": [
    {
     "data": {
      "text/plain": [
       "1.7056362855376992"
      ]
     },
     "execution_count": 84,
     "metadata": {},
     "output_type": "execute_result"
    },
    {
     "data": {
      "image/png": "[encoded data removed]",
      "text/plain": [
       "<Figure size 640x480 with 1 Axes>"
      ]
     },
     "metadata": {},
     "output_type": "display_data"
    },
    {
     "data": {
      "text/plain": [
       "<Figure size 0x0 with 0 Axes>"
      ]
     },
     "metadata": {},
     "output_type": "display_data"
    }
   ],
   "source": [
    "# plot a histogram for number of courses taken\n",
    "df['no_courses_taken'].plot.hist()\n",
    "plt.title('number of courses taken')\n",
    "plt.figure(figsize=(0,0))\n",
    "df['no_courses_taken'].skew()"
   ]
  },
  {
   "cell_type": "code",
   "execution_count": 85,
   "id": "d634a1c4",
   "metadata": {},
   "outputs": [
    {
     "data": {
      "text/plain": [
       "3.6532759709327496"
      ]
     },
     "execution_count": 85,
     "metadata": {},
     "output_type": "execute_result"
    },
    {
     "data": {
      "image/png": "[encoded data removed]",
      "text/plain": [
       "<Figure size 640x480 with 1 Axes>"
      ]
     },
     "metadata": {},
     "output_type": "display_data"
    },
    {
     "data": {
      "text/plain": [
       "<Figure size 0x0 with 0 Axes>"
      ]
     },
     "metadata": {},
     "output_type": "display_data"
    }
   ],
   "source": [
    "# plot a histogram for time in position\n",
    "df['time_in_position'].plot.hist()\n",
    "plt.title('time in position')\n",
    "plt.figure(figsize=(0,0))\n",
    "df['time_in_position'].skew()"
   ]
  },
  {
   "cell_type": "code",
   "execution_count": 86,
   "id": "4ca16df2",
   "metadata": {},
   "outputs": [
    {
     "data": {
      "text/plain": [
       "2.713469121367676"
      ]
     },
     "execution_count": 86,
     "metadata": {},
     "output_type": "execute_result"
    },
    {
     "data": {
      "image/png": "[encoded data removed]",
      "text/plain": [
       "<Figure size 640x480 with 1 Axes>"
      ]
     },
     "metadata": {},
     "output_type": "display_data"
    },
    {
     "data": {
      "text/plain": [
       "<Figure size 0x0 with 0 Axes>"
      ]
     },
     "metadata": {},
     "output_type": "display_data"
    }
   ],
   "source": [
    "# plot a histogram for percentage salary change\n",
    "df['percentage_salary_change'].plot.hist()\n",
    "plt.title('percentage salary change')\n",
    "plt.figure(figsize=(0,0))\n",
    "df['percentage_salary_change'].skew()"
   ]
  },
  {
   "cell_type": "markdown",
   "id": "e583e982-ab8a-47c7-8f9e-945e9630ad9d",
   "metadata": {},
   "source": [
    "> - The boxplots show a skewed distribution for all of the data variables.\n",
    "> - We therefore conclude that the sample data is not normally distributed and all of them have unequal variances."
   ]
  },
  {
   "cell_type": "markdown",
   "id": "8d5cdab1",
   "metadata": {},
   "source": [
    "#### 3. Run the Shapiro-Wilk test to validate that the sample data distribution is non-normal. If p-value > 0.05, we accept the null hypothesis H0 and assume a normal distribution for the sample data.\n",
    "- H0: your sample data is normally distributed \n",
    "- H1: your sample data is not normally distributed"
   ]
  },
  {
   "cell_type": "code",
   "execution_count": 87,
   "id": "22d3b881",
   "metadata": {},
   "outputs": [
    {
     "name": "stdout",
     "output_type": "stream",
     "text": [
      "status: ShapiroResult(statistic=0.5365943908691406, pvalue=5.763774600611515e-39)\n",
      "age: ShapiroResult(statistic=0.971481442451477, pvalue=2.6748001036303037e-10)\n",
      "distance_from_home: ShapiroResult(statistic=0.39795517921447754, pvalue=1.118236174531204e-42)\n",
      "manager_sat: ShapiroResult(statistic=0.8493527770042419, pvalue=5.037478879314457e-25)\n",
      "employee_sat: ShapiroResult(statistic=0.7939486503601074, pvalue=1.3853211682564957e-28)\n",
      "bonus: ShapiroResult(statistic=0.5777464509010315, pvalue=1.0898629074333094e-37)\n",
      "no_courses_taken: ShapiroResult(statistic=0.8371584415435791, pvalue=6.929558185961077e-26)\n",
      "time_in_position: ShapiroResult(statistic=0.6852646470069885, pvalue=8.43142700416975e-34)\n",
      "percentage_salary_change: ShapiroResult(statistic=0.6972668170928955, pvalue=2.653244849768456e-33)\n"
     ]
    }
   ],
   "source": [
    "# Perform Shapiro-Wilk test on dependent and independent variables\n",
    "print(\"status: \" + str(shapiro(df['status'])))\n",
    "print(\"age: \" + str(shapiro(df['age'])))\n",
    "print(\"distance_from_home: \" + str(shapiro(df['distance_from_home'])))\n",
    "print(\"manager_sat: \" + str(shapiro(df['manager_sat'])))\n",
    "print(\"employee_sat: \" + str(shapiro(df['employee_sat'])))\n",
    "print(\"bonus: \" + str(shapiro(df['bonus'])))\n",
    "print(\"no_courses_taken: \" + str(shapiro(df['no_courses_taken'])))\n",
    "print(\"time_in_position: \" + str(shapiro(df['time_in_position'])))\n",
    "print(\"percentage_salary_change: \" + str(shapiro(df['percentage_salary_change'])))"
   ]
  },
  {
   "cell_type": "markdown",
   "id": "4908cecb",
   "metadata": {},
   "source": [
    "> All the p-values in the Shapiro-Wilk test are less than 0.05 indicating a non-normal distribution for the sample data. This has also been visually confirmed by the box plots which show skewness in all the sample group distributions."
   ]
  },
  {
   "cell_type": "markdown",
   "id": "8ec565ec",
   "metadata": {},
   "source": [
    "#### 4. Run Levene's Test for Equality of Variances on the sample data."
   ]
  },
  {
   "cell_type": "markdown",
   "id": "c4043e7f",
   "metadata": {},
   "source": [
    "#### Perform Levene's Test for Equality of Variances. If p-value > 0.05: we accept H0, which states that the sample variances are roughly equal or not significantly different. If p-value < 0.05: we reject H0, indicating that there are significant differences in variances among the groups.\n",
    "\n",
    "- **H0:** sample variances among the sample groups are roughly the same\n",
    "- **H1:** there are significant differences in variances among the sample groups\n",
    "\n",
    "##### Note: for the Levene's test, we set the center parameter = \"median\" because this is the ideal parameter for skewed distributions. The median setting reduces outlier influence, enhancing robustness in non-normal data."
   ]
  },
  {
   "cell_type": "code",
   "execution_count": 88,
   "id": "1ee922d9",
   "metadata": {},
   "outputs": [
    {
     "name": "stdout",
     "output_type": "stream",
     "text": [
      "LeveneResult(statistic=1676.4572620530414, pvalue=5.210692627408231e-240)\n"
     ]
    }
   ],
   "source": [
    "# Run Levene's test on 'status' and 'age'\n",
    "print(stats.levene(df['status'], df['age'], center='median'))"
   ]
  },
  {
   "cell_type": "code",
   "execution_count": 89,
   "id": "2b9ddb9c",
   "metadata": {},
   "outputs": [
    {
     "name": "stdout",
     "output_type": "stream",
     "text": [
      "LeveneResult(statistic=71.7755947335811, pvalue=6.134799824787087e-17)\n"
     ]
    }
   ],
   "source": [
    "# Run Levene's test on 'status' and 'distance from home'\n",
    "print(stats.levene(df['status'], df['distance_from_home'], center='median'))"
   ]
  },
  {
   "cell_type": "code",
   "execution_count": 90,
   "id": "eb688436",
   "metadata": {},
   "outputs": [
    {
     "name": "stdout",
     "output_type": "stream",
     "text": [
      "LeveneResult(statistic=385.548538447294, pvalue=7.804441197665956e-76)\n"
     ]
    }
   ],
   "source": [
    "# Run Levene's test on 'status' and 'manager satisfaction'\n",
    "print(stats.levene(df['status'], df['manager_sat'], center='median'))"
   ]
  },
  {
   "cell_type": "code",
   "execution_count": 91,
   "id": "7b266d90",
   "metadata": {},
   "outputs": [
    {
     "name": "stdout",
     "output_type": "stream",
     "text": [
      "LeveneResult(statistic=225.185069877351, pvalue=3.053040938440208e-47)\n"
     ]
    }
   ],
   "source": [
    "# Run Levene's test on 'status' and 'employee satisfaction'\n",
    "print(stats.levene(df['status'], df['employee_sat'], center='median'))"
   ]
  },
  {
   "cell_type": "code",
   "execution_count": 92,
   "id": "081b85a8",
   "metadata": {},
   "outputs": [
    {
     "name": "stdout",
     "output_type": "stream",
     "text": [
      "LeveneResult(statistic=182.38240411444556, pvalue=4.126990285894861e-39)\n"
     ]
    }
   ],
   "source": [
    "# Run Levene's test on 'status' and 'bonus'\n",
    "print(stats.levene(df['status'], df['bonus'], center='median'))"
   ]
  },
  {
   "cell_type": "code",
   "execution_count": 93,
   "id": "f4fc766e",
   "metadata": {},
   "outputs": [
    {
     "name": "stdout",
     "output_type": "stream",
     "text": [
      "LeveneResult(statistic=367.9051541839984, pvalue=8.039045487025113e-73)\n"
     ]
    }
   ],
   "source": [
    "# Run Levene's test on 'status' and 'number of courses taken'\n",
    "print(stats.levene(df['status'], df['no_courses_taken'], center='median'))"
   ]
  },
  {
   "cell_type": "code",
   "execution_count": 94,
   "id": "ed9d3bd1",
   "metadata": {},
   "outputs": [
    {
     "name": "stdout",
     "output_type": "stream",
     "text": [
      "LeveneResult(statistic=347.4331107315333, pvalue=2.7553032997168897e-69)\n"
     ]
    }
   ],
   "source": [
    "# Run Levene's test on 'status' and 'time in position'\n",
    "print(stats.levene(df['status'], df['time_in_position'], center='median'))"
   ]
  },
  {
   "cell_type": "code",
   "execution_count": 95,
   "id": "f0675eac",
   "metadata": {},
   "outputs": [
    {
     "name": "stdout",
     "output_type": "stream",
     "text": [
      "LeveneResult(statistic=266.2408704588023, pvalue=7.841596713629014e-55)\n"
     ]
    }
   ],
   "source": [
    "# Run Levene's test on 'status' and 'percentage salary change'\n",
    "print(stats.levene(df['status'], df['percentage_salary_change'], center='median'))"
   ]
  },
  {
   "cell_type": "markdown",
   "id": "78306be3",
   "metadata": {},
   "source": [
    "> All p-values from Levene's test were less than the 0.05 significance level. This indicates unequal variances among all the sample groups."
   ]
  },
  {
   "cell_type": "markdown",
   "id": "65f3369d-95a5-46fe-abbe-96ddd34f8dae",
   "metadata": {},
   "source": [
    "#### 5. Run the Welch's T-test: a non-parametric test to validate whether various predictor variables have an effect on attrition."
   ]
  },
  {
   "cell_type": "code",
   "execution_count": 96,
   "id": "1ec3f866-a04a-4b75-9287-14b1c256cef3",
   "metadata": {},
   "outputs": [
    {
     "data": {
      "text/plain": [
       "Ttest_indResult(statistic=152.89506180745045, pvalue=0.0)"
      ]
     },
     "execution_count": 96,
     "metadata": {},
     "output_type": "execute_result"
    }
   ],
   "source": [
    "# Run a T-test on age vs status\n",
    "stats.ttest_ind(df['age'],df['status'], equal_var=False)"
   ]
  },
  {
   "cell_type": "markdown",
   "id": "0b3bbcd8-6fc0-4094-a0cc-a7c8bba792e2",
   "metadata": {},
   "source": [
    "> T-test shows the p-value is less than 0.05, which is evidence to suggest that age has an impact on attrition."
   ]
  },
  {
   "cell_type": "code",
   "execution_count": 97,
   "id": "c3624baa-66eb-411d-98ce-d90449827707",
   "metadata": {},
   "outputs": [
    {
     "data": {
      "text/plain": [
       "Ttest_indResult(statistic=9.161721094837706, pvalue=5.770192156985222e-19)"
      ]
     },
     "execution_count": 97,
     "metadata": {},
     "output_type": "execute_result"
    }
   ],
   "source": [
    "# Run a T-test on distance from home vs status\n",
    "stats.ttest_ind(df['distance_from_home'],df['status'], equal_var=False)"
   ]
  },
  {
   "cell_type": "markdown",
   "id": "311d1ecb-0122-4ca3-abb4-290e6474623a",
   "metadata": {},
   "source": [
    "> T-test shows the p-value is less than 0.05, this is evidence to show that distance from home is a significant variable."
   ]
  },
  {
   "cell_type": "code",
   "execution_count": 98,
   "id": "9521f0ec-b5f6-444d-a6e8-fe39f7f217f5",
   "metadata": {},
   "outputs": [
    {
     "data": {
      "text/plain": [
       "Ttest_indResult(statistic=441.7197483777288, pvalue=0.0)"
      ]
     },
     "execution_count": 98,
     "metadata": {},
     "output_type": "execute_result"
    }
   ],
   "source": [
    "# Run a T-test on employee satisfaction vs status\n",
    "stats.ttest_ind(df['manager_sat'],df['status'], equal_var=False)"
   ]
  },
  {
   "cell_type": "markdown",
   "id": "a57c3261-5a72-42a5-89f3-d5ee207c4c9d",
   "metadata": {},
   "source": [
    "> The T-test p-value is less than 0.05, this suggests that manager satisfaction has an effect on attrition."
   ]
  },
  {
   "cell_type": "code",
   "execution_count": 99,
   "id": "4b975361-47c6-4a79-a54b-01f83123fe6c",
   "metadata": {},
   "outputs": [
    {
     "data": {
      "text/plain": [
       "Ttest_indResult(statistic=422.0585696487064, pvalue=0.0)"
      ]
     },
     "execution_count": 99,
     "metadata": {},
     "output_type": "execute_result"
    }
   ],
   "source": [
    "# Run a T-test on employee satisfaction vs status\n",
    "stats.ttest_ind(df['employee_sat'],df['status'], equal_var=False)"
   ]
  },
  {
   "cell_type": "markdown",
   "id": "488f553d-d8e5-4b3d-81dc-c2c778b53596",
   "metadata": {},
   "source": [
    "> T-test p-value is less than 0.05 which indicates that employee satisfaction has an impact on attrition."
   ]
  },
  {
   "cell_type": "code",
   "execution_count": 100,
   "id": "7fcb86d1-7f2f-4ab8-adf0-0e9b23aaad6c",
   "metadata": {},
   "outputs": [
    {
     "data": {
      "text/plain": [
       "Ttest_indResult(statistic=13.504902965754532, pvalue=5.094418125404788e-37)"
      ]
     },
     "execution_count": 100,
     "metadata": {},
     "output_type": "execute_result"
    }
   ],
   "source": [
    "# Run a T-test on bonus vs status\n",
    "stats.ttest_ind(df['bonus'],df['status'], equal_var=False)"
   ]
  },
  {
   "cell_type": "markdown",
   "id": "48e868fc-0c90-4366-a670-eae1738523f3",
   "metadata": {},
   "source": [
    "> T-test p-value is less than 0.05 meaning bonus has an effect on attrition."
   ]
  },
  {
   "cell_type": "code",
   "execution_count": 101,
   "id": "4b166377-eebe-464b-a752-a6bb9e174ada",
   "metadata": {},
   "outputs": [
    {
     "data": {
      "text/plain": [
       "Ttest_indResult(statistic=25.399058817388024, pvalue=7.925930338923164e-102)"
      ]
     },
     "execution_count": 101,
     "metadata": {},
     "output_type": "execute_result"
    }
   ],
   "source": [
    "# Run a T-test on number of courses taken vs status\n",
    "stats.ttest_ind(df['no_courses_taken'],df['status'], equal_var=False)"
   ]
  },
  {
   "cell_type": "markdown",
   "id": "d4277d64-fe7c-4a38-85ea-076d0d56c52a",
   "metadata": {},
   "source": [
    "> T-test p-value is less than 0.05, which is sufficient evidence that number of courses taken is a significant variable."
   ]
  },
  {
   "cell_type": "code",
   "execution_count": 102,
   "id": "27142288-be36-4eb3-a1ca-ecb9a97c5d84",
   "metadata": {},
   "outputs": [
    {
     "data": {
      "text/plain": [
       "Ttest_indResult(statistic=22.618312114518137, pvalue=4.8775197877367116e-85)"
      ]
     },
     "execution_count": 102,
     "metadata": {},
     "output_type": "execute_result"
    }
   ],
   "source": [
    "# Run a T-test on time in position vs status\n",
    "stats.ttest_ind(df['time_in_position'],df['status'], equal_var=False)"
   ]
  },
  {
   "cell_type": "markdown",
   "id": "e062bea2-1b2c-4b70-9775-6ad0b02b38c4",
   "metadata": {},
   "source": [
    "> The p-value is less than 0.05, which means there is evidence to show that time in position is a significant variable."
   ]
  },
  {
   "cell_type": "code",
   "execution_count": 103,
   "id": "db8ad66d-308e-4429-a418-32ce4b8364cc",
   "metadata": {},
   "outputs": [
    {
     "data": {
      "text/plain": [
       "Ttest_indResult(statistic=18.772049943241274, pvalue=7.78082343728678e-64)"
      ]
     },
     "execution_count": 103,
     "metadata": {},
     "output_type": "execute_result"
    }
   ],
   "source": [
    "# Run a T-test on percentage salary change vs status\n",
    "stats.ttest_ind(df['percentage_salary_change'],df['status'], equal_var=False)"
   ]
  },
  {
   "cell_type": "markdown",
   "id": "606ed4b9-090b-4182-a967-f03db059d8d9",
   "metadata": {},
   "source": [
    "> The p-value is less than 0.05 indicating sufficient evidence that percentage salary change has an impact on attrition."
   ]
  },
  {
   "cell_type": "markdown",
   "id": "d1a1ecf6",
   "metadata": {},
   "source": [
    "#### VII. Dropping Insignificant variables\n",
    "The following variables will be dropped because they were not significant in the employee's attrition decision: \n",
    "1. gender, \n",
    "2. job_level, \n",
    "3. signon, \n",
    "5. manager_changes"
   ]
  },
  {
   "cell_type": "code",
   "execution_count": 104,
   "id": "6fe9e5f1",
   "metadata": {},
   "outputs": [
    {
     "data": {
      "text/html": [
       "<div>\n",
       "<style scoped>\n",
       "    .dataframe tbody tr th:only-of-type {\n",
       "        vertical-align: middle;\n",
       "    }\n",
       "\n",
       "    .dataframe tbody tr th {\n",
       "        vertical-align: top;\n",
       "    }\n",
       "\n",
       "    .dataframe thead th {\n",
       "        text-align: right;\n",
       "    }\n",
       "</style>\n",
       "<table border=\"1\" class=\"dataframe\">\n",
       "  <thead>\n",
       "    <tr style=\"text-align: right;\">\n",
       "      <th></th>\n",
       "      <th>status</th>\n",
       "      <th>service_agreement</th>\n",
       "      <th>distance_from_home</th>\n",
       "      <th>no_of_promotions</th>\n",
       "      <th>risk_of_attrition</th>\n",
       "      <th>potential_rating</th>\n",
       "      <th>bonus</th>\n",
       "      <th>no_courses_taken</th>\n",
       "      <th>time_in_position</th>\n",
       "      <th>awards</th>\n",
       "      <th>manager_sat</th>\n",
       "      <th>employee_sat</th>\n",
       "      <th>Var_rating</th>\n",
       "      <th>percentage_salary_change</th>\n",
       "      <th>age</th>\n",
       "    </tr>\n",
       "  </thead>\n",
       "  <tbody>\n",
       "    <tr>\n",
       "      <th>0</th>\n",
       "      <td>0</td>\n",
       "      <td>N</td>\n",
       "      <td>0.52</td>\n",
       "      <td>2</td>\n",
       "      <td>2</td>\n",
       "      <td>5</td>\n",
       "      <td>0</td>\n",
       "      <td>8</td>\n",
       "      <td>30</td>\n",
       "      <td>N</td>\n",
       "      <td>81</td>\n",
       "      <td>80</td>\n",
       "      <td>1</td>\n",
       "      <td>3.505101</td>\n",
       "      <td>51</td>\n",
       "    </tr>\n",
       "    <tr>\n",
       "      <th>1</th>\n",
       "      <td>0</td>\n",
       "      <td>N</td>\n",
       "      <td>0.08</td>\n",
       "      <td>3</td>\n",
       "      <td>2</td>\n",
       "      <td>5</td>\n",
       "      <td>2242</td>\n",
       "      <td>6</td>\n",
       "      <td>5</td>\n",
       "      <td>N</td>\n",
       "      <td>88</td>\n",
       "      <td>84</td>\n",
       "      <td>-1</td>\n",
       "      <td>1.502064</td>\n",
       "      <td>47</td>\n",
       "    </tr>\n",
       "    <tr>\n",
       "      <th>2</th>\n",
       "      <td>0</td>\n",
       "      <td>N</td>\n",
       "      <td>0.51</td>\n",
       "      <td>0</td>\n",
       "      <td>3</td>\n",
       "      <td>3</td>\n",
       "      <td>0</td>\n",
       "      <td>2</td>\n",
       "      <td>53</td>\n",
       "      <td>N</td>\n",
       "      <td>83</td>\n",
       "      <td>93</td>\n",
       "      <td>0</td>\n",
       "      <td>12.670835</td>\n",
       "      <td>46</td>\n",
       "    </tr>\n",
       "    <tr>\n",
       "      <th>3</th>\n",
       "      <td>0</td>\n",
       "      <td>N</td>\n",
       "      <td>0.81</td>\n",
       "      <td>0</td>\n",
       "      <td>2</td>\n",
       "      <td>5</td>\n",
       "      <td>2320</td>\n",
       "      <td>2</td>\n",
       "      <td>36</td>\n",
       "      <td>N</td>\n",
       "      <td>86</td>\n",
       "      <td>83</td>\n",
       "      <td>0</td>\n",
       "      <td>3.761866</td>\n",
       "      <td>50</td>\n",
       "    </tr>\n",
       "    <tr>\n",
       "      <th>4</th>\n",
       "      <td>0</td>\n",
       "      <td>N</td>\n",
       "      <td>0.06</td>\n",
       "      <td>0</td>\n",
       "      <td>2</td>\n",
       "      <td>5</td>\n",
       "      <td>0</td>\n",
       "      <td>10</td>\n",
       "      <td>2</td>\n",
       "      <td>N</td>\n",
       "      <td>79</td>\n",
       "      <td>80</td>\n",
       "      <td>0</td>\n",
       "      <td>0.000000</td>\n",
       "      <td>57</td>\n",
       "    </tr>\n",
       "    <tr>\n",
       "      <th>...</th>\n",
       "      <td>...</td>\n",
       "      <td>...</td>\n",
       "      <td>...</td>\n",
       "      <td>...</td>\n",
       "      <td>...</td>\n",
       "      <td>...</td>\n",
       "      <td>...</td>\n",
       "      <td>...</td>\n",
       "      <td>...</td>\n",
       "      <td>...</td>\n",
       "      <td>...</td>\n",
       "      <td>...</td>\n",
       "      <td>...</td>\n",
       "      <td>...</td>\n",
       "      <td>...</td>\n",
       "    </tr>\n",
       "    <tr>\n",
       "      <th>681</th>\n",
       "      <td>1</td>\n",
       "      <td>N</td>\n",
       "      <td>1.10</td>\n",
       "      <td>0</td>\n",
       "      <td>4</td>\n",
       "      <td>4</td>\n",
       "      <td>6438</td>\n",
       "      <td>0</td>\n",
       "      <td>17</td>\n",
       "      <td>N</td>\n",
       "      <td>79</td>\n",
       "      <td>80</td>\n",
       "      <td>0</td>\n",
       "      <td>1.201349</td>\n",
       "      <td>52</td>\n",
       "    </tr>\n",
       "    <tr>\n",
       "      <th>682</th>\n",
       "      <td>1</td>\n",
       "      <td>N</td>\n",
       "      <td>25.27</td>\n",
       "      <td>0</td>\n",
       "      <td>3</td>\n",
       "      <td>3</td>\n",
       "      <td>0</td>\n",
       "      <td>0</td>\n",
       "      <td>17</td>\n",
       "      <td>N</td>\n",
       "      <td>79</td>\n",
       "      <td>80</td>\n",
       "      <td>-1</td>\n",
       "      <td>1.201349</td>\n",
       "      <td>37</td>\n",
       "    </tr>\n",
       "    <tr>\n",
       "      <th>683</th>\n",
       "      <td>1</td>\n",
       "      <td>N</td>\n",
       "      <td>1.09</td>\n",
       "      <td>0</td>\n",
       "      <td>4</td>\n",
       "      <td>3</td>\n",
       "      <td>0</td>\n",
       "      <td>3</td>\n",
       "      <td>43</td>\n",
       "      <td>N</td>\n",
       "      <td>79</td>\n",
       "      <td>80</td>\n",
       "      <td>0</td>\n",
       "      <td>1.201349</td>\n",
       "      <td>51</td>\n",
       "    </tr>\n",
       "    <tr>\n",
       "      <th>684</th>\n",
       "      <td>1</td>\n",
       "      <td>N</td>\n",
       "      <td>0.34</td>\n",
       "      <td>0</td>\n",
       "      <td>3</td>\n",
       "      <td>4</td>\n",
       "      <td>0</td>\n",
       "      <td>3</td>\n",
       "      <td>27</td>\n",
       "      <td>Y</td>\n",
       "      <td>79</td>\n",
       "      <td>80</td>\n",
       "      <td>0</td>\n",
       "      <td>1.201349</td>\n",
       "      <td>38</td>\n",
       "    </tr>\n",
       "    <tr>\n",
       "      <th>685</th>\n",
       "      <td>1</td>\n",
       "      <td>Y</td>\n",
       "      <td>38.62</td>\n",
       "      <td>0</td>\n",
       "      <td>3</td>\n",
       "      <td>5</td>\n",
       "      <td>10476</td>\n",
       "      <td>0</td>\n",
       "      <td>14</td>\n",
       "      <td>N</td>\n",
       "      <td>79</td>\n",
       "      <td>80</td>\n",
       "      <td>0</td>\n",
       "      <td>2.567568</td>\n",
       "      <td>55</td>\n",
       "    </tr>\n",
       "  </tbody>\n",
       "</table>\n",
       "<p>686 rows × 15 columns</p>\n",
       "</div>"
      ],
      "text/plain": [
       "     status service_agreement  distance_from_home  no_of_promotions  \\\n",
       "0         0                 N                0.52                 2   \n",
       "1         0                 N                0.08                 3   \n",
       "2         0                 N                0.51                 0   \n",
       "3         0                 N                0.81                 0   \n",
       "4         0                 N                0.06                 0   \n",
       "..      ...               ...                 ...               ...   \n",
       "681       1                 N                1.10                 0   \n",
       "682       1                 N               25.27                 0   \n",
       "683       1                 N                1.09                 0   \n",
       "684       1                 N                0.34                 0   \n",
       "685       1                 Y               38.62                 0   \n",
       "\n",
       "     risk_of_attrition  potential_rating  bonus  no_courses_taken  \\\n",
       "0                    2                 5      0                 8   \n",
       "1                    2                 5   2242                 6   \n",
       "2                    3                 3      0                 2   \n",
       "3                    2                 5   2320                 2   \n",
       "4                    2                 5      0                10   \n",
       "..                 ...               ...    ...               ...   \n",
       "681                  4                 4   6438                 0   \n",
       "682                  3                 3      0                 0   \n",
       "683                  4                 3      0                 3   \n",
       "684                  3                 4      0                 3   \n",
       "685                  3                 5  10476                 0   \n",
       "\n",
       "     time_in_position awards  manager_sat  employee_sat  Var_rating  \\\n",
       "0                  30      N           81            80           1   \n",
       "1                   5      N           88            84          -1   \n",
       "2                  53      N           83            93           0   \n",
       "3                  36      N           86            83           0   \n",
       "4                   2      N           79            80           0   \n",
       "..                ...    ...          ...           ...         ...   \n",
       "681                17      N           79            80           0   \n",
       "682                17      N           79            80          -1   \n",
       "683                43      N           79            80           0   \n",
       "684                27      Y           79            80           0   \n",
       "685                14      N           79            80           0   \n",
       "\n",
       "     percentage_salary_change  age  \n",
       "0                    3.505101   51  \n",
       "1                    1.502064   47  \n",
       "2                   12.670835   46  \n",
       "3                    3.761866   50  \n",
       "4                    0.000000   57  \n",
       "..                        ...  ...  \n",
       "681                  1.201349   52  \n",
       "682                  1.201349   37  \n",
       "683                  1.201349   51  \n",
       "684                  1.201349   38  \n",
       "685                  2.567568   55  \n",
       "\n",
       "[686 rows x 15 columns]"
      ]
     },
     "execution_count": 104,
     "metadata": {},
     "output_type": "execute_result"
    }
   ],
   "source": [
    "#Drop columns multiple column \n",
    "df = df.drop(['gender', 'job_level', 'signon','manager_changes'], axis=1)\n",
    "df"
   ]
  },
  {
   "cell_type": "markdown",
   "id": "00e0535e-ca2b-4108-b052-c06e9151c32a",
   "metadata": {},
   "source": [
    "#### 1. Convert Categorical variables to Dummy Variables"
   ]
  },
  {
   "cell_type": "code",
   "execution_count": 105,
   "id": "55a11e7a",
   "metadata": {},
   "outputs": [],
   "source": [
    "# convert categorical variables ('service_agreement', 'awards') to dummy variables\n",
    "df=pd.get_dummies(df)"
   ]
  },
  {
   "cell_type": "code",
   "execution_count": 106,
   "id": "5eb3402e",
   "metadata": {},
   "outputs": [
    {
     "data": {
      "text/html": [
       "<div>\n",
       "<style scoped>\n",
       "    .dataframe tbody tr th:only-of-type {\n",
       "        vertical-align: middle;\n",
       "    }\n",
       "\n",
       "    .dataframe tbody tr th {\n",
       "        vertical-align: top;\n",
       "    }\n",
       "\n",
       "    .dataframe thead th {\n",
       "        text-align: right;\n",
       "    }\n",
       "</style>\n",
       "<table border=\"1\" class=\"dataframe\">\n",
       "  <thead>\n",
       "    <tr style=\"text-align: right;\">\n",
       "      <th></th>\n",
       "      <th>status</th>\n",
       "      <th>distance_from_home</th>\n",
       "      <th>no_of_promotions</th>\n",
       "      <th>risk_of_attrition</th>\n",
       "      <th>potential_rating</th>\n",
       "      <th>bonus</th>\n",
       "      <th>no_courses_taken</th>\n",
       "      <th>time_in_position</th>\n",
       "      <th>manager_sat</th>\n",
       "      <th>employee_sat</th>\n",
       "      <th>Var_rating</th>\n",
       "      <th>percentage_salary_change</th>\n",
       "      <th>age</th>\n",
       "      <th>service_agreement_N</th>\n",
       "      <th>service_agreement_Y</th>\n",
       "      <th>awards_N</th>\n",
       "      <th>awards_Y</th>\n",
       "    </tr>\n",
       "  </thead>\n",
       "  <tbody>\n",
       "    <tr>\n",
       "      <th>0</th>\n",
       "      <td>0</td>\n",
       "      <td>0.52</td>\n",
       "      <td>2</td>\n",
       "      <td>2</td>\n",
       "      <td>5</td>\n",
       "      <td>0</td>\n",
       "      <td>8</td>\n",
       "      <td>30</td>\n",
       "      <td>81</td>\n",
       "      <td>80</td>\n",
       "      <td>1</td>\n",
       "      <td>3.505101</td>\n",
       "      <td>51</td>\n",
       "      <td>1</td>\n",
       "      <td>0</td>\n",
       "      <td>1</td>\n",
       "      <td>0</td>\n",
       "    </tr>\n",
       "    <tr>\n",
       "      <th>1</th>\n",
       "      <td>0</td>\n",
       "      <td>0.08</td>\n",
       "      <td>3</td>\n",
       "      <td>2</td>\n",
       "      <td>5</td>\n",
       "      <td>2242</td>\n",
       "      <td>6</td>\n",
       "      <td>5</td>\n",
       "      <td>88</td>\n",
       "      <td>84</td>\n",
       "      <td>-1</td>\n",
       "      <td>1.502064</td>\n",
       "      <td>47</td>\n",
       "      <td>1</td>\n",
       "      <td>0</td>\n",
       "      <td>1</td>\n",
       "      <td>0</td>\n",
       "    </tr>\n",
       "    <tr>\n",
       "      <th>2</th>\n",
       "      <td>0</td>\n",
       "      <td>0.51</td>\n",
       "      <td>0</td>\n",
       "      <td>3</td>\n",
       "      <td>3</td>\n",
       "      <td>0</td>\n",
       "      <td>2</td>\n",
       "      <td>53</td>\n",
       "      <td>83</td>\n",
       "      <td>93</td>\n",
       "      <td>0</td>\n",
       "      <td>12.670835</td>\n",
       "      <td>46</td>\n",
       "      <td>1</td>\n",
       "      <td>0</td>\n",
       "      <td>1</td>\n",
       "      <td>0</td>\n",
       "    </tr>\n",
       "    <tr>\n",
       "      <th>3</th>\n",
       "      <td>0</td>\n",
       "      <td>0.81</td>\n",
       "      <td>0</td>\n",
       "      <td>2</td>\n",
       "      <td>5</td>\n",
       "      <td>2320</td>\n",
       "      <td>2</td>\n",
       "      <td>36</td>\n",
       "      <td>86</td>\n",
       "      <td>83</td>\n",
       "      <td>0</td>\n",
       "      <td>3.761866</td>\n",
       "      <td>50</td>\n",
       "      <td>1</td>\n",
       "      <td>0</td>\n",
       "      <td>1</td>\n",
       "      <td>0</td>\n",
       "    </tr>\n",
       "    <tr>\n",
       "      <th>4</th>\n",
       "      <td>0</td>\n",
       "      <td>0.06</td>\n",
       "      <td>0</td>\n",
       "      <td>2</td>\n",
       "      <td>5</td>\n",
       "      <td>0</td>\n",
       "      <td>10</td>\n",
       "      <td>2</td>\n",
       "      <td>79</td>\n",
       "      <td>80</td>\n",
       "      <td>0</td>\n",
       "      <td>0.000000</td>\n",
       "      <td>57</td>\n",
       "      <td>1</td>\n",
       "      <td>0</td>\n",
       "      <td>1</td>\n",
       "      <td>0</td>\n",
       "    </tr>\n",
       "  </tbody>\n",
       "</table>\n",
       "</div>"
      ],
      "text/plain": [
       "   status  distance_from_home  no_of_promotions  risk_of_attrition  \\\n",
       "0       0                0.52                 2                  2   \n",
       "1       0                0.08                 3                  2   \n",
       "2       0                0.51                 0                  3   \n",
       "3       0                0.81                 0                  2   \n",
       "4       0                0.06                 0                  2   \n",
       "\n",
       "   potential_rating  bonus  no_courses_taken  time_in_position  manager_sat  \\\n",
       "0                 5      0                 8                30           81   \n",
       "1                 5   2242                 6                 5           88   \n",
       "2                 3      0                 2                53           83   \n",
       "3                 5   2320                 2                36           86   \n",
       "4                 5      0                10                 2           79   \n",
       "\n",
       "   employee_sat  Var_rating  percentage_salary_change  age  \\\n",
       "0            80           1                  3.505101   51   \n",
       "1            84          -1                  1.502064   47   \n",
       "2            93           0                 12.670835   46   \n",
       "3            83           0                  3.761866   50   \n",
       "4            80           0                  0.000000   57   \n",
       "\n",
       "   service_agreement_N  service_agreement_Y  awards_N  awards_Y  \n",
       "0                    1                    0         1         0  \n",
       "1                    1                    0         1         0  \n",
       "2                    1                    0         1         0  \n",
       "3                    1                    0         1         0  \n",
       "4                    1                    0         1         0  "
      ]
     },
     "execution_count": 106,
     "metadata": {},
     "output_type": "execute_result"
    }
   ],
   "source": [
    "df.head()"
   ]
  },
  {
   "cell_type": "code",
   "execution_count": 107,
   "id": "04b16ab0",
   "metadata": {},
   "outputs": [
    {
     "data": {
      "text/html": [
       "<div>\n",
       "<style scoped>\n",
       "    .dataframe tbody tr th:only-of-type {\n",
       "        vertical-align: middle;\n",
       "    }\n",
       "\n",
       "    .dataframe tbody tr th {\n",
       "        vertical-align: top;\n",
       "    }\n",
       "\n",
       "    .dataframe thead th {\n",
       "        text-align: right;\n",
       "    }\n",
       "</style>\n",
       "<table border=\"1\" class=\"dataframe\">\n",
       "  <thead>\n",
       "    <tr style=\"text-align: right;\">\n",
       "      <th></th>\n",
       "      <th>status</th>\n",
       "      <th>distance_from_home</th>\n",
       "      <th>no_of_promotions</th>\n",
       "      <th>risk_of_attrition</th>\n",
       "      <th>potential_rating</th>\n",
       "      <th>bonus</th>\n",
       "      <th>no_courses_taken</th>\n",
       "      <th>time_in_position</th>\n",
       "      <th>manager_sat</th>\n",
       "      <th>employee_sat</th>\n",
       "      <th>Var_rating</th>\n",
       "      <th>percentage_salary_change</th>\n",
       "      <th>age</th>\n",
       "      <th>service_agreement_N</th>\n",
       "      <th>service_agreement_Y</th>\n",
       "      <th>awards_N</th>\n",
       "      <th>awards_Y</th>\n",
       "    </tr>\n",
       "  </thead>\n",
       "  <tbody>\n",
       "    <tr>\n",
       "      <th>-3.00</th>\n",
       "      <td>NaN</td>\n",
       "      <td>NaN</td>\n",
       "      <td>NaN</td>\n",
       "      <td>NaN</td>\n",
       "      <td>NaN</td>\n",
       "      <td>NaN</td>\n",
       "      <td>NaN</td>\n",
       "      <td>NaN</td>\n",
       "      <td>NaN</td>\n",
       "      <td>NaN</td>\n",
       "      <td>16.0</td>\n",
       "      <td>NaN</td>\n",
       "      <td>NaN</td>\n",
       "      <td>NaN</td>\n",
       "      <td>NaN</td>\n",
       "      <td>NaN</td>\n",
       "      <td>NaN</td>\n",
       "    </tr>\n",
       "    <tr>\n",
       "      <th>-1.00</th>\n",
       "      <td>NaN</td>\n",
       "      <td>NaN</td>\n",
       "      <td>NaN</td>\n",
       "      <td>NaN</td>\n",
       "      <td>NaN</td>\n",
       "      <td>NaN</td>\n",
       "      <td>NaN</td>\n",
       "      <td>NaN</td>\n",
       "      <td>NaN</td>\n",
       "      <td>NaN</td>\n",
       "      <td>130.0</td>\n",
       "      <td>NaN</td>\n",
       "      <td>NaN</td>\n",
       "      <td>NaN</td>\n",
       "      <td>NaN</td>\n",
       "      <td>NaN</td>\n",
       "      <td>NaN</td>\n",
       "    </tr>\n",
       "    <tr>\n",
       "      <th>0.00</th>\n",
       "      <td>516.0</td>\n",
       "      <td>5.0</td>\n",
       "      <td>473.0</td>\n",
       "      <td>NaN</td>\n",
       "      <td>NaN</td>\n",
       "      <td>464.0</td>\n",
       "      <td>84.0</td>\n",
       "      <td>6.0</td>\n",
       "      <td>NaN</td>\n",
       "      <td>NaN</td>\n",
       "      <td>413.0</td>\n",
       "      <td>130.0</td>\n",
       "      <td>NaN</td>\n",
       "      <td>110.0</td>\n",
       "      <td>576.0</td>\n",
       "      <td>60.0</td>\n",
       "      <td>626.0</td>\n",
       "    </tr>\n",
       "    <tr>\n",
       "      <th>0.01</th>\n",
       "      <td>NaN</td>\n",
       "      <td>2.0</td>\n",
       "      <td>NaN</td>\n",
       "      <td>NaN</td>\n",
       "      <td>NaN</td>\n",
       "      <td>NaN</td>\n",
       "      <td>NaN</td>\n",
       "      <td>NaN</td>\n",
       "      <td>NaN</td>\n",
       "      <td>NaN</td>\n",
       "      <td>NaN</td>\n",
       "      <td>NaN</td>\n",
       "      <td>NaN</td>\n",
       "      <td>NaN</td>\n",
       "      <td>NaN</td>\n",
       "      <td>NaN</td>\n",
       "      <td>NaN</td>\n",
       "    </tr>\n",
       "    <tr>\n",
       "      <th>0.02</th>\n",
       "      <td>NaN</td>\n",
       "      <td>2.0</td>\n",
       "      <td>NaN</td>\n",
       "      <td>NaN</td>\n",
       "      <td>NaN</td>\n",
       "      <td>NaN</td>\n",
       "      <td>NaN</td>\n",
       "      <td>NaN</td>\n",
       "      <td>NaN</td>\n",
       "      <td>NaN</td>\n",
       "      <td>NaN</td>\n",
       "      <td>NaN</td>\n",
       "      <td>NaN</td>\n",
       "      <td>NaN</td>\n",
       "      <td>NaN</td>\n",
       "      <td>NaN</td>\n",
       "      <td>NaN</td>\n",
       "    </tr>\n",
       "    <tr>\n",
       "      <th>...</th>\n",
       "      <td>...</td>\n",
       "      <td>...</td>\n",
       "      <td>...</td>\n",
       "      <td>...</td>\n",
       "      <td>...</td>\n",
       "      <td>...</td>\n",
       "      <td>...</td>\n",
       "      <td>...</td>\n",
       "      <td>...</td>\n",
       "      <td>...</td>\n",
       "      <td>...</td>\n",
       "      <td>...</td>\n",
       "      <td>...</td>\n",
       "      <td>...</td>\n",
       "      <td>...</td>\n",
       "      <td>...</td>\n",
       "      <td>...</td>\n",
       "    </tr>\n",
       "    <tr>\n",
       "      <th>11157.00</th>\n",
       "      <td>NaN</td>\n",
       "      <td>NaN</td>\n",
       "      <td>NaN</td>\n",
       "      <td>NaN</td>\n",
       "      <td>NaN</td>\n",
       "      <td>1.0</td>\n",
       "      <td>NaN</td>\n",
       "      <td>NaN</td>\n",
       "      <td>NaN</td>\n",
       "      <td>NaN</td>\n",
       "      <td>NaN</td>\n",
       "      <td>NaN</td>\n",
       "      <td>NaN</td>\n",
       "      <td>NaN</td>\n",
       "      <td>NaN</td>\n",
       "      <td>NaN</td>\n",
       "      <td>NaN</td>\n",
       "    </tr>\n",
       "    <tr>\n",
       "      <th>12185.00</th>\n",
       "      <td>NaN</td>\n",
       "      <td>NaN</td>\n",
       "      <td>NaN</td>\n",
       "      <td>NaN</td>\n",
       "      <td>NaN</td>\n",
       "      <td>1.0</td>\n",
       "      <td>NaN</td>\n",
       "      <td>NaN</td>\n",
       "      <td>NaN</td>\n",
       "      <td>NaN</td>\n",
       "      <td>NaN</td>\n",
       "      <td>NaN</td>\n",
       "      <td>NaN</td>\n",
       "      <td>NaN</td>\n",
       "      <td>NaN</td>\n",
       "      <td>NaN</td>\n",
       "      <td>NaN</td>\n",
       "    </tr>\n",
       "    <tr>\n",
       "      <th>12515.00</th>\n",
       "      <td>NaN</td>\n",
       "      <td>NaN</td>\n",
       "      <td>NaN</td>\n",
       "      <td>NaN</td>\n",
       "      <td>NaN</td>\n",
       "      <td>1.0</td>\n",
       "      <td>NaN</td>\n",
       "      <td>NaN</td>\n",
       "      <td>NaN</td>\n",
       "      <td>NaN</td>\n",
       "      <td>NaN</td>\n",
       "      <td>NaN</td>\n",
       "      <td>NaN</td>\n",
       "      <td>NaN</td>\n",
       "      <td>NaN</td>\n",
       "      <td>NaN</td>\n",
       "      <td>NaN</td>\n",
       "    </tr>\n",
       "    <tr>\n",
       "      <th>15396.00</th>\n",
       "      <td>NaN</td>\n",
       "      <td>NaN</td>\n",
       "      <td>NaN</td>\n",
       "      <td>NaN</td>\n",
       "      <td>NaN</td>\n",
       "      <td>1.0</td>\n",
       "      <td>NaN</td>\n",
       "      <td>NaN</td>\n",
       "      <td>NaN</td>\n",
       "      <td>NaN</td>\n",
       "      <td>NaN</td>\n",
       "      <td>NaN</td>\n",
       "      <td>NaN</td>\n",
       "      <td>NaN</td>\n",
       "      <td>NaN</td>\n",
       "      <td>NaN</td>\n",
       "      <td>NaN</td>\n",
       "    </tr>\n",
       "    <tr>\n",
       "      <th>19853.00</th>\n",
       "      <td>NaN</td>\n",
       "      <td>NaN</td>\n",
       "      <td>NaN</td>\n",
       "      <td>NaN</td>\n",
       "      <td>NaN</td>\n",
       "      <td>1.0</td>\n",
       "      <td>NaN</td>\n",
       "      <td>NaN</td>\n",
       "      <td>NaN</td>\n",
       "      <td>NaN</td>\n",
       "      <td>NaN</td>\n",
       "      <td>NaN</td>\n",
       "      <td>NaN</td>\n",
       "      <td>NaN</td>\n",
       "      <td>NaN</td>\n",
       "      <td>NaN</td>\n",
       "      <td>NaN</td>\n",
       "    </tr>\n",
       "  </tbody>\n",
       "</table>\n",
       "<p>974 rows × 17 columns</p>\n",
       "</div>"
      ],
      "text/plain": [
       "           status  distance_from_home  no_of_promotions  risk_of_attrition  \\\n",
       "-3.00         NaN                 NaN               NaN                NaN   \n",
       "-1.00         NaN                 NaN               NaN                NaN   \n",
       " 0.00       516.0                 5.0             473.0                NaN   \n",
       " 0.01         NaN                 2.0               NaN                NaN   \n",
       " 0.02         NaN                 2.0               NaN                NaN   \n",
       "...           ...                 ...               ...                ...   \n",
       " 11157.00     NaN                 NaN               NaN                NaN   \n",
       " 12185.00     NaN                 NaN               NaN                NaN   \n",
       " 12515.00     NaN                 NaN               NaN                NaN   \n",
       " 15396.00     NaN                 NaN               NaN                NaN   \n",
       " 19853.00     NaN                 NaN               NaN                NaN   \n",
       "\n",
       "           potential_rating  bonus  no_courses_taken  time_in_position  \\\n",
       "-3.00                   NaN    NaN               NaN               NaN   \n",
       "-1.00                   NaN    NaN               NaN               NaN   \n",
       " 0.00                   NaN  464.0              84.0               6.0   \n",
       " 0.01                   NaN    NaN               NaN               NaN   \n",
       " 0.02                   NaN    NaN               NaN               NaN   \n",
       "...                     ...    ...               ...               ...   \n",
       " 11157.00               NaN    1.0               NaN               NaN   \n",
       " 12185.00               NaN    1.0               NaN               NaN   \n",
       " 12515.00               NaN    1.0               NaN               NaN   \n",
       " 15396.00               NaN    1.0               NaN               NaN   \n",
       " 19853.00               NaN    1.0               NaN               NaN   \n",
       "\n",
       "           manager_sat  employee_sat  Var_rating  percentage_salary_change  \\\n",
       "-3.00              NaN           NaN        16.0                       NaN   \n",
       "-1.00              NaN           NaN       130.0                       NaN   \n",
       " 0.00              NaN           NaN       413.0                     130.0   \n",
       " 0.01              NaN           NaN         NaN                       NaN   \n",
       " 0.02              NaN           NaN         NaN                       NaN   \n",
       "...                ...           ...         ...                       ...   \n",
       " 11157.00          NaN           NaN         NaN                       NaN   \n",
       " 12185.00          NaN           NaN         NaN                       NaN   \n",
       " 12515.00          NaN           NaN         NaN                       NaN   \n",
       " 15396.00          NaN           NaN         NaN                       NaN   \n",
       " 19853.00          NaN           NaN         NaN                       NaN   \n",
       "\n",
       "           age  service_agreement_N  service_agreement_Y  awards_N  awards_Y  \n",
       "-3.00      NaN                  NaN                  NaN       NaN       NaN  \n",
       "-1.00      NaN                  NaN                  NaN       NaN       NaN  \n",
       " 0.00      NaN                110.0                576.0      60.0     626.0  \n",
       " 0.01      NaN                  NaN                  NaN       NaN       NaN  \n",
       " 0.02      NaN                  NaN                  NaN       NaN       NaN  \n",
       "...        ...                  ...                  ...       ...       ...  \n",
       " 11157.00  NaN                  NaN                  NaN       NaN       NaN  \n",
       " 12185.00  NaN                  NaN                  NaN       NaN       NaN  \n",
       " 12515.00  NaN                  NaN                  NaN       NaN       NaN  \n",
       " 15396.00  NaN                  NaN                  NaN       NaN       NaN  \n",
       " 19853.00  NaN                  NaN                  NaN       NaN       NaN  \n",
       "\n",
       "[974 rows x 17 columns]"
      ]
     },
     "execution_count": 107,
     "metadata": {},
     "output_type": "execute_result"
    }
   ],
   "source": [
    "df.apply(pd.Series.value_counts)"
   ]
  },
  {
   "cell_type": "code",
   "execution_count": 108,
   "id": "13feadcd",
   "metadata": {},
   "outputs": [],
   "source": [
    "# drop the two dummy variables with the highest count: 1) service_agreement_Y (576) and 2) awards_Y (count: 626)\n",
    "df = df.drop(['service_agreement_Y', 'awards_Y'], axis=1)"
   ]
  },
  {
   "cell_type": "code",
   "execution_count": 109,
   "id": "fa2c76e5",
   "metadata": {},
   "outputs": [
    {
     "data": {
      "text/html": [
       "<div>\n",
       "<style scoped>\n",
       "    .dataframe tbody tr th:only-of-type {\n",
       "        vertical-align: middle;\n",
       "    }\n",
       "\n",
       "    .dataframe tbody tr th {\n",
       "        vertical-align: top;\n",
       "    }\n",
       "\n",
       "    .dataframe thead th {\n",
       "        text-align: right;\n",
       "    }\n",
       "</style>\n",
       "<table border=\"1\" class=\"dataframe\">\n",
       "  <thead>\n",
       "    <tr style=\"text-align: right;\">\n",
       "      <th></th>\n",
       "      <th>status</th>\n",
       "      <th>distance_from_home</th>\n",
       "      <th>no_of_promotions</th>\n",
       "      <th>risk_of_attrition</th>\n",
       "      <th>potential_rating</th>\n",
       "      <th>bonus</th>\n",
       "      <th>no_courses_taken</th>\n",
       "      <th>time_in_position</th>\n",
       "      <th>manager_sat</th>\n",
       "      <th>employee_sat</th>\n",
       "      <th>Var_rating</th>\n",
       "      <th>percentage_salary_change</th>\n",
       "      <th>age</th>\n",
       "      <th>service_agreement_N</th>\n",
       "      <th>awards_N</th>\n",
       "    </tr>\n",
       "  </thead>\n",
       "  <tbody>\n",
       "    <tr>\n",
       "      <th>0</th>\n",
       "      <td>0</td>\n",
       "      <td>0.52</td>\n",
       "      <td>2</td>\n",
       "      <td>2</td>\n",
       "      <td>5</td>\n",
       "      <td>0</td>\n",
       "      <td>8</td>\n",
       "      <td>30</td>\n",
       "      <td>81</td>\n",
       "      <td>80</td>\n",
       "      <td>1</td>\n",
       "      <td>3.505101</td>\n",
       "      <td>51</td>\n",
       "      <td>1</td>\n",
       "      <td>1</td>\n",
       "    </tr>\n",
       "    <tr>\n",
       "      <th>1</th>\n",
       "      <td>0</td>\n",
       "      <td>0.08</td>\n",
       "      <td>3</td>\n",
       "      <td>2</td>\n",
       "      <td>5</td>\n",
       "      <td>2242</td>\n",
       "      <td>6</td>\n",
       "      <td>5</td>\n",
       "      <td>88</td>\n",
       "      <td>84</td>\n",
       "      <td>-1</td>\n",
       "      <td>1.502064</td>\n",
       "      <td>47</td>\n",
       "      <td>1</td>\n",
       "      <td>1</td>\n",
       "    </tr>\n",
       "    <tr>\n",
       "      <th>2</th>\n",
       "      <td>0</td>\n",
       "      <td>0.51</td>\n",
       "      <td>0</td>\n",
       "      <td>3</td>\n",
       "      <td>3</td>\n",
       "      <td>0</td>\n",
       "      <td>2</td>\n",
       "      <td>53</td>\n",
       "      <td>83</td>\n",
       "      <td>93</td>\n",
       "      <td>0</td>\n",
       "      <td>12.670835</td>\n",
       "      <td>46</td>\n",
       "      <td>1</td>\n",
       "      <td>1</td>\n",
       "    </tr>\n",
       "    <tr>\n",
       "      <th>3</th>\n",
       "      <td>0</td>\n",
       "      <td>0.81</td>\n",
       "      <td>0</td>\n",
       "      <td>2</td>\n",
       "      <td>5</td>\n",
       "      <td>2320</td>\n",
       "      <td>2</td>\n",
       "      <td>36</td>\n",
       "      <td>86</td>\n",
       "      <td>83</td>\n",
       "      <td>0</td>\n",
       "      <td>3.761866</td>\n",
       "      <td>50</td>\n",
       "      <td>1</td>\n",
       "      <td>1</td>\n",
       "    </tr>\n",
       "    <tr>\n",
       "      <th>4</th>\n",
       "      <td>0</td>\n",
       "      <td>0.06</td>\n",
       "      <td>0</td>\n",
       "      <td>2</td>\n",
       "      <td>5</td>\n",
       "      <td>0</td>\n",
       "      <td>10</td>\n",
       "      <td>2</td>\n",
       "      <td>79</td>\n",
       "      <td>80</td>\n",
       "      <td>0</td>\n",
       "      <td>0.000000</td>\n",
       "      <td>57</td>\n",
       "      <td>1</td>\n",
       "      <td>1</td>\n",
       "    </tr>\n",
       "    <tr>\n",
       "      <th>...</th>\n",
       "      <td>...</td>\n",
       "      <td>...</td>\n",
       "      <td>...</td>\n",
       "      <td>...</td>\n",
       "      <td>...</td>\n",
       "      <td>...</td>\n",
       "      <td>...</td>\n",
       "      <td>...</td>\n",
       "      <td>...</td>\n",
       "      <td>...</td>\n",
       "      <td>...</td>\n",
       "      <td>...</td>\n",
       "      <td>...</td>\n",
       "      <td>...</td>\n",
       "      <td>...</td>\n",
       "    </tr>\n",
       "    <tr>\n",
       "      <th>681</th>\n",
       "      <td>1</td>\n",
       "      <td>1.10</td>\n",
       "      <td>0</td>\n",
       "      <td>4</td>\n",
       "      <td>4</td>\n",
       "      <td>6438</td>\n",
       "      <td>0</td>\n",
       "      <td>17</td>\n",
       "      <td>79</td>\n",
       "      <td>80</td>\n",
       "      <td>0</td>\n",
       "      <td>1.201349</td>\n",
       "      <td>52</td>\n",
       "      <td>1</td>\n",
       "      <td>1</td>\n",
       "    </tr>\n",
       "    <tr>\n",
       "      <th>682</th>\n",
       "      <td>1</td>\n",
       "      <td>25.27</td>\n",
       "      <td>0</td>\n",
       "      <td>3</td>\n",
       "      <td>3</td>\n",
       "      <td>0</td>\n",
       "      <td>0</td>\n",
       "      <td>17</td>\n",
       "      <td>79</td>\n",
       "      <td>80</td>\n",
       "      <td>-1</td>\n",
       "      <td>1.201349</td>\n",
       "      <td>37</td>\n",
       "      <td>1</td>\n",
       "      <td>1</td>\n",
       "    </tr>\n",
       "    <tr>\n",
       "      <th>683</th>\n",
       "      <td>1</td>\n",
       "      <td>1.09</td>\n",
       "      <td>0</td>\n",
       "      <td>4</td>\n",
       "      <td>3</td>\n",
       "      <td>0</td>\n",
       "      <td>3</td>\n",
       "      <td>43</td>\n",
       "      <td>79</td>\n",
       "      <td>80</td>\n",
       "      <td>0</td>\n",
       "      <td>1.201349</td>\n",
       "      <td>51</td>\n",
       "      <td>1</td>\n",
       "      <td>1</td>\n",
       "    </tr>\n",
       "    <tr>\n",
       "      <th>684</th>\n",
       "      <td>1</td>\n",
       "      <td>0.34</td>\n",
       "      <td>0</td>\n",
       "      <td>3</td>\n",
       "      <td>4</td>\n",
       "      <td>0</td>\n",
       "      <td>3</td>\n",
       "      <td>27</td>\n",
       "      <td>79</td>\n",
       "      <td>80</td>\n",
       "      <td>0</td>\n",
       "      <td>1.201349</td>\n",
       "      <td>38</td>\n",
       "      <td>1</td>\n",
       "      <td>0</td>\n",
       "    </tr>\n",
       "    <tr>\n",
       "      <th>685</th>\n",
       "      <td>1</td>\n",
       "      <td>38.62</td>\n",
       "      <td>0</td>\n",
       "      <td>3</td>\n",
       "      <td>5</td>\n",
       "      <td>10476</td>\n",
       "      <td>0</td>\n",
       "      <td>14</td>\n",
       "      <td>79</td>\n",
       "      <td>80</td>\n",
       "      <td>0</td>\n",
       "      <td>2.567568</td>\n",
       "      <td>55</td>\n",
       "      <td>0</td>\n",
       "      <td>1</td>\n",
       "    </tr>\n",
       "  </tbody>\n",
       "</table>\n",
       "<p>686 rows × 15 columns</p>\n",
       "</div>"
      ],
      "text/plain": [
       "     status  distance_from_home  no_of_promotions  risk_of_attrition  \\\n",
       "0         0                0.52                 2                  2   \n",
       "1         0                0.08                 3                  2   \n",
       "2         0                0.51                 0                  3   \n",
       "3         0                0.81                 0                  2   \n",
       "4         0                0.06                 0                  2   \n",
       "..      ...                 ...               ...                ...   \n",
       "681       1                1.10                 0                  4   \n",
       "682       1               25.27                 0                  3   \n",
       "683       1                1.09                 0                  4   \n",
       "684       1                0.34                 0                  3   \n",
       "685       1               38.62                 0                  3   \n",
       "\n",
       "     potential_rating  bonus  no_courses_taken  time_in_position  manager_sat  \\\n",
       "0                   5      0                 8                30           81   \n",
       "1                   5   2242                 6                 5           88   \n",
       "2                   3      0                 2                53           83   \n",
       "3                   5   2320                 2                36           86   \n",
       "4                   5      0                10                 2           79   \n",
       "..                ...    ...               ...               ...          ...   \n",
       "681                 4   6438                 0                17           79   \n",
       "682                 3      0                 0                17           79   \n",
       "683                 3      0                 3                43           79   \n",
       "684                 4      0                 3                27           79   \n",
       "685                 5  10476                 0                14           79   \n",
       "\n",
       "     employee_sat  Var_rating  percentage_salary_change  age  \\\n",
       "0              80           1                  3.505101   51   \n",
       "1              84          -1                  1.502064   47   \n",
       "2              93           0                 12.670835   46   \n",
       "3              83           0                  3.761866   50   \n",
       "4              80           0                  0.000000   57   \n",
       "..            ...         ...                       ...  ...   \n",
       "681            80           0                  1.201349   52   \n",
       "682            80          -1                  1.201349   37   \n",
       "683            80           0                  1.201349   51   \n",
       "684            80           0                  1.201349   38   \n",
       "685            80           0                  2.567568   55   \n",
       "\n",
       "     service_agreement_N  awards_N  \n",
       "0                      1         1  \n",
       "1                      1         1  \n",
       "2                      1         1  \n",
       "3                      1         1  \n",
       "4                      1         1  \n",
       "..                   ...       ...  \n",
       "681                    1         1  \n",
       "682                    1         1  \n",
       "683                    1         1  \n",
       "684                    1         0  \n",
       "685                    0         1  \n",
       "\n",
       "[686 rows x 15 columns]"
      ]
     },
     "execution_count": 109,
     "metadata": {},
     "output_type": "execute_result"
    }
   ],
   "source": [
    "df"
   ]
  },
  {
   "cell_type": "markdown",
   "id": "be3baa2c",
   "metadata": {},
   "source": [
    "#### VIII. Run the Logistic Regression Model"
   ]
  },
  {
   "cell_type": "markdown",
   "id": "6fecb28f-8304-470e-a2d3-cdfce0bc1f03",
   "metadata": {},
   "source": [
    "> #### Logistic Regression Model Workflow:\n",
    "> - **Step 1:** Regress the dependent variable 'y' (\"status\") over the set of independent variable 'X' (predictor variables)\n",
    "> - **Step 2:** Fit 'X' to the logistic regression model, we obtain the model score of accuracy. This score tells us how accurate our model is in predicting attrition (Status = 1) or non-attrition (Status = 0)\n",
    "> - **Step 3:** Call up the confusion matrix and review the performance metrics that evaluate the model's performance."
   ]
  },
  {
   "cell_type": "markdown",
   "id": "f80a2b05-633b-47d0-b2a0-fe49fddd40d8",
   "metadata": {},
   "source": [
    "#### 1. Specify the dependent variable 'y' (\"Status\") and the independent variable 'X' (Predictor variables)."
   ]
  },
  {
   "cell_type": "code",
   "execution_count": 110,
   "id": "23b729cf",
   "metadata": {},
   "outputs": [],
   "source": [
    "X= df.drop(columns=['status'])"
   ]
  },
  {
   "cell_type": "code",
   "execution_count": 111,
   "id": "030d838b",
   "metadata": {},
   "outputs": [],
   "source": [
    "y= df['status']"
   ]
  },
  {
   "cell_type": "code",
   "execution_count": 112,
   "id": "6a2c97a9",
   "metadata": {},
   "outputs": [
    {
     "data": {
      "text/html": [
       "<div>\n",
       "<style scoped>\n",
       "    .dataframe tbody tr th:only-of-type {\n",
       "        vertical-align: middle;\n",
       "    }\n",
       "\n",
       "    .dataframe tbody tr th {\n",
       "        vertical-align: top;\n",
       "    }\n",
       "\n",
       "    .dataframe thead th {\n",
       "        text-align: right;\n",
       "    }\n",
       "</style>\n",
       "<table border=\"1\" class=\"dataframe\">\n",
       "  <thead>\n",
       "    <tr style=\"text-align: right;\">\n",
       "      <th></th>\n",
       "      <th>distance_from_home</th>\n",
       "      <th>no_of_promotions</th>\n",
       "      <th>risk_of_attrition</th>\n",
       "      <th>potential_rating</th>\n",
       "      <th>bonus</th>\n",
       "      <th>no_courses_taken</th>\n",
       "      <th>time_in_position</th>\n",
       "      <th>manager_sat</th>\n",
       "      <th>employee_sat</th>\n",
       "      <th>Var_rating</th>\n",
       "      <th>percentage_salary_change</th>\n",
       "      <th>age</th>\n",
       "      <th>service_agreement_N</th>\n",
       "      <th>awards_N</th>\n",
       "    </tr>\n",
       "  </thead>\n",
       "  <tbody>\n",
       "    <tr>\n",
       "      <th>0</th>\n",
       "      <td>0.52</td>\n",
       "      <td>2</td>\n",
       "      <td>2</td>\n",
       "      <td>5</td>\n",
       "      <td>0</td>\n",
       "      <td>8</td>\n",
       "      <td>30</td>\n",
       "      <td>81</td>\n",
       "      <td>80</td>\n",
       "      <td>1</td>\n",
       "      <td>3.505101</td>\n",
       "      <td>51</td>\n",
       "      <td>1</td>\n",
       "      <td>1</td>\n",
       "    </tr>\n",
       "    <tr>\n",
       "      <th>1</th>\n",
       "      <td>0.08</td>\n",
       "      <td>3</td>\n",
       "      <td>2</td>\n",
       "      <td>5</td>\n",
       "      <td>2242</td>\n",
       "      <td>6</td>\n",
       "      <td>5</td>\n",
       "      <td>88</td>\n",
       "      <td>84</td>\n",
       "      <td>-1</td>\n",
       "      <td>1.502064</td>\n",
       "      <td>47</td>\n",
       "      <td>1</td>\n",
       "      <td>1</td>\n",
       "    </tr>\n",
       "    <tr>\n",
       "      <th>2</th>\n",
       "      <td>0.51</td>\n",
       "      <td>0</td>\n",
       "      <td>3</td>\n",
       "      <td>3</td>\n",
       "      <td>0</td>\n",
       "      <td>2</td>\n",
       "      <td>53</td>\n",
       "      <td>83</td>\n",
       "      <td>93</td>\n",
       "      <td>0</td>\n",
       "      <td>12.670835</td>\n",
       "      <td>46</td>\n",
       "      <td>1</td>\n",
       "      <td>1</td>\n",
       "    </tr>\n",
       "  </tbody>\n",
       "</table>\n",
       "</div>"
      ],
      "text/plain": [
       "   distance_from_home  no_of_promotions  risk_of_attrition  potential_rating  \\\n",
       "0                0.52                 2                  2                 5   \n",
       "1                0.08                 3                  2                 5   \n",
       "2                0.51                 0                  3                 3   \n",
       "\n",
       "   bonus  no_courses_taken  time_in_position  manager_sat  employee_sat  \\\n",
       "0      0                 8                30           81            80   \n",
       "1   2242                 6                 5           88            84   \n",
       "2      0                 2                53           83            93   \n",
       "\n",
       "   Var_rating  percentage_salary_change  age  service_agreement_N  awards_N  \n",
       "0           1                  3.505101   51                    1         1  \n",
       "1          -1                  1.502064   47                    1         1  \n",
       "2           0                 12.670835   46                    1         1  "
      ]
     },
     "execution_count": 112,
     "metadata": {},
     "output_type": "execute_result"
    }
   ],
   "source": [
    "X.head(3)"
   ]
  },
  {
   "cell_type": "code",
   "execution_count": 113,
   "id": "5613203f",
   "metadata": {},
   "outputs": [
    {
     "data": {
      "text/plain": [
       "(686, 14)"
      ]
     },
     "execution_count": 113,
     "metadata": {},
     "output_type": "execute_result"
    }
   ],
   "source": [
    "X.shape"
   ]
  },
  {
   "cell_type": "code",
   "execution_count": 114,
   "id": "5505c453",
   "metadata": {},
   "outputs": [
    {
     "data": {
      "text/plain": [
       "0    0\n",
       "1    0\n",
       "2    0\n",
       "Name: status, dtype: int64"
      ]
     },
     "execution_count": 114,
     "metadata": {},
     "output_type": "execute_result"
    }
   ],
   "source": [
    "y.head(3)"
   ]
  },
  {
   "cell_type": "code",
   "execution_count": 115,
   "id": "3d322ff4",
   "metadata": {},
   "outputs": [
    {
     "data": {
      "text/plain": [
       "(686,)"
      ]
     },
     "execution_count": 115,
     "metadata": {},
     "output_type": "execute_result"
    }
   ],
   "source": [
    "y.shape"
   ]
  },
  {
   "cell_type": "markdown",
   "id": "08176946-f1ed-4384-a5eb-a20b7f90d7a6",
   "metadata": {},
   "source": [
    "> After examining and cleaning the data and feature engineering the initial data set (creating new variables and dropping insignificant variables), we are now left with the final data set (14 columns and 686 rows), which we will now use to train and test the logistic regression model."
   ]
  },
  {
   "cell_type": "markdown",
   "id": "73df6d35-cf49-4246-bc45-3f399d40a275",
   "metadata": {},
   "source": [
    "#### 2. Split the final data set into two groups: a training set and a test set.\n",
    "- The training set is used for training the model.\n",
    "- The test set is used for testing the model.\n",
    "- We allocate 80% of the data to the training set and 20% to the test set."
   ]
  },
  {
   "cell_type": "code",
   "execution_count": 116,
   "id": "a86a90c1",
   "metadata": {},
   "outputs": [],
   "source": [
    "# Import the library from Python\n",
    "from sklearn.model_selection import train_test_split"
   ]
  },
  {
   "cell_type": "code",
   "execution_count": 117,
   "id": "dfbbcc29",
   "metadata": {},
   "outputs": [],
   "source": [
    "# Specify the training and test sets for both the dependent 'y' and independent 'X' variables\n",
    "X_train, X_test, y_train, y_test = train_test_split(X, y, train_size=0.8, random_state=42)"
   ]
  },
  {
   "cell_type": "code",
   "execution_count": 118,
   "id": "4bdcf587",
   "metadata": {},
   "outputs": [
    {
     "data": {
      "text/plain": [
       "(548, 14)"
      ]
     },
     "execution_count": 118,
     "metadata": {},
     "output_type": "execute_result"
    }
   ],
   "source": [
    "X_train.shape"
   ]
  },
  {
   "cell_type": "code",
   "execution_count": 119,
   "id": "d94a51c2",
   "metadata": {},
   "outputs": [
    {
     "data": {
      "text/plain": [
       "(138, 14)"
      ]
     },
     "execution_count": 119,
     "metadata": {},
     "output_type": "execute_result"
    }
   ],
   "source": [
    "X_test.shape"
   ]
  },
  {
   "cell_type": "code",
   "execution_count": 120,
   "id": "9f0964cb",
   "metadata": {},
   "outputs": [
    {
     "data": {
      "text/plain": [
       "(548,)"
      ]
     },
     "execution_count": 120,
     "metadata": {},
     "output_type": "execute_result"
    }
   ],
   "source": [
    "y_train.shape"
   ]
  },
  {
   "cell_type": "code",
   "execution_count": 121,
   "id": "1baaf269",
   "metadata": {},
   "outputs": [
    {
     "data": {
      "text/plain": [
       "(138,)"
      ]
     },
     "execution_count": 121,
     "metadata": {},
     "output_type": "execute_result"
    }
   ],
   "source": [
    "y_test.shape"
   ]
  },
  {
   "cell_type": "markdown",
   "id": "c662ef68-a945-4f52-a447-0fd5b62cc0bf",
   "metadata": {},
   "source": [
    "> The training set (\"X_train\" and \"y_train\") has 548 rows of data or around 80% of the total data set. The test set (\"X_test\" and \"y_test\") has 138 rows of data or around 20% of the total data set."
   ]
  },
  {
   "cell_type": "markdown",
   "id": "b760806f-e056-4ca3-9e6e-14046566f24c",
   "metadata": {},
   "source": [
    "#### 3. Train the Logistic Regression Model:\n",
    "- Get the Logistic Regression Model from the Python library and\n",
    "- Train the model by fitting the training data to the Logistic Regression Model"
   ]
  },
  {
   "cell_type": "code",
   "execution_count": 122,
   "id": "8b56b1ca",
   "metadata": {},
   "outputs": [],
   "source": [
    "from sklearn.linear_model import LogisticRegression"
   ]
  },
  {
   "cell_type": "code",
   "execution_count": 123,
   "id": "56500016",
   "metadata": {},
   "outputs": [],
   "source": [
    "model = LogisticRegression()"
   ]
  },
  {
   "cell_type": "code",
   "execution_count": 124,
   "id": "8612d4ab",
   "metadata": {},
   "outputs": [
    {
     "name": "stderr",
     "output_type": "stream",
     "text": [
      "C:\\Users\\maria\\anaconda3\\Lib\\site-packages\\sklearn\\linear_model\\_logistic.py:458: ConvergenceWarning: lbfgs failed to converge (status=1):\n",
      "STOP: TOTAL NO. of ITERATIONS REACHED LIMIT.\n",
      "\n",
      "Increase the number of iterations (max_iter) or scale the data as shown in:\n",
      "    https://scikit-learn.org/stable/modules/preprocessing.html\n",
      "Please also refer to the documentation for alternative solver options:\n",
      "    https://scikit-learn.org/stable/modules/linear_model.html#logistic-regression\n",
      "  n_iter_i = _check_optimize_result(\n"
     ]
    },
    {
     "data": {
      "text/html": [
       "<style>#sk-container-id-1 {color: black;background-color: white;}#sk-container-id-1 pre{padding: 0;}#sk-container-id-1 div.sk-toggleable {background-color: white;}#sk-container-id-1 label.sk-toggleable__label {cursor: pointer;display: block;width: 100%;margin-bottom: 0;padding: 0.3em;box-sizing: border-box;text-align: center;}#sk-container-id-1 label.sk-toggleable__label-arrow:before {content: \"▸\";float: left;margin-right: 0.25em;color: #696969;}#sk-container-id-1 label.sk-toggleable__label-arrow:hover:before {color: black;}#sk-container-id-1 div.sk-estimator:hover label.sk-toggleable__label-arrow:before {color: black;}#sk-container-id-1 div.sk-toggleable__content {max-height: 0;max-width: 0;overflow: hidden;text-align: left;background-color: #f0f8ff;}#sk-container-id-1 div.sk-toggleable__content pre {margin: 0.2em;color: black;border-radius: 0.25em;background-color: #f0f8ff;}#sk-container-id-1 input.sk-toggleable__control:checked~div.sk-toggleable__content {max-height: 200px;max-width: 100%;overflow: auto;}#sk-container-id-1 input.sk-toggleable__control:checked~label.sk-toggleable__label-arrow:before {content: \"▾\";}#sk-container-id-1 div.sk-estimator input.sk-toggleable__control:checked~label.sk-toggleable__label {background-color: #d4ebff;}#sk-container-id-1 div.sk-label input.sk-toggleable__control:checked~label.sk-toggleable__label {background-color: #d4ebff;}#sk-container-id-1 input.sk-hidden--visually {border: 0;clip: rect(1px 1px 1px 1px);clip: rect(1px, 1px, 1px, 1px);height: 1px;margin: -1px;overflow: hidden;padding: 0;position: absolute;width: 1px;}#sk-container-id-1 div.sk-estimator {font-family: monospace;background-color: #f0f8ff;border: 1px dotted black;border-radius: 0.25em;box-sizing: border-box;margin-bottom: 0.5em;}#sk-container-id-1 div.sk-estimator:hover {background-color: #d4ebff;}#sk-container-id-1 div.sk-parallel-item::after {content: \"\";width: 100%;border-bottom: 1px solid gray;flex-grow: 1;}#sk-container-id-1 div.sk-label:hover label.sk-toggleable__label {background-color: #d4ebff;}#sk-container-id-1 div.sk-serial::before {content: \"\";position: absolute;border-left: 1px solid gray;box-sizing: border-box;top: 0;bottom: 0;left: 50%;z-index: 0;}#sk-container-id-1 div.sk-serial {display: flex;flex-direction: column;align-items: center;background-color: white;padding-right: 0.2em;padding-left: 0.2em;position: relative;}#sk-container-id-1 div.sk-item {position: relative;z-index: 1;}#sk-container-id-1 div.sk-parallel {display: flex;align-items: stretch;justify-content: center;background-color: white;position: relative;}#sk-container-id-1 div.sk-item::before, #sk-container-id-1 div.sk-parallel-item::before {content: \"\";position: absolute;border-left: 1px solid gray;box-sizing: border-box;top: 0;bottom: 0;left: 50%;z-index: -1;}#sk-container-id-1 div.sk-parallel-item {display: flex;flex-direction: column;z-index: 1;position: relative;background-color: white;}#sk-container-id-1 div.sk-parallel-item:first-child::after {align-self: flex-end;width: 50%;}#sk-container-id-1 div.sk-parallel-item:last-child::after {align-self: flex-start;width: 50%;}#sk-container-id-1 div.sk-parallel-item:only-child::after {width: 0;}#sk-container-id-1 div.sk-dashed-wrapped {border: 1px dashed gray;margin: 0 0.4em 0.5em 0.4em;box-sizing: border-box;padding-bottom: 0.4em;background-color: white;}#sk-container-id-1 div.sk-label label {font-family: monospace;font-weight: bold;display: inline-block;line-height: 1.2em;}#sk-container-id-1 div.sk-label-container {text-align: center;}#sk-container-id-1 div.sk-container {/* jupyter's `normalize.less` sets `[hidden] { display: none; }` but bootstrap.min.css set `[hidden] { display: none !important; }` so we also need the `!important` here to be able to override the default hidden behavior on the sphinx rendered scikit-learn.org. See: https://github.com/scikit-learn/scikit-learn/issues/21755 */display: inline-block !important;position: relative;}#sk-container-id-1 div.sk-text-repr-fallback {display: none;}</style><div id=\"sk-container-id-1\" class=\"sk-top-container\"><div class=\"sk-text-repr-fallback\"><pre>LogisticRegression()</pre><b>In a Jupyter environment, please rerun this cell to show the HTML representation or trust the notebook. <br />On GitHub, the HTML representation is unable to render, please try loading this page with nbviewer.org.</b></div><div class=\"sk-container\" hidden><div class=\"sk-item\"><div class=\"sk-estimator sk-toggleable\"><input class=\"sk-toggleable__control sk-hidden--visually\" id=\"sk-estimator-id-1\" type=\"checkbox\" checked><label for=\"sk-estimator-id-1\" class=\"sk-toggleable__label sk-toggleable__label-arrow\">LogisticRegression</label><div class=\"sk-toggleable__content\"><pre>LogisticRegression()</pre></div></div></div></div></div>"
      ],
      "text/plain": [
       "LogisticRegression()"
      ]
     },
     "execution_count": 124,
     "metadata": {},
     "output_type": "execute_result"
    }
   ],
   "source": [
    "# Train the model\n",
    "model.fit(X_train, y_train)"
   ]
  },
  {
   "cell_type": "markdown",
   "id": "92286c9c-5a5e-49f7-baea-fe89382c08b5",
   "metadata": {},
   "source": [
    "#### IX. Model Evaluation\n",
    "- We now score the model based on how accurate it predicted the training data set\n",
    "- We produce a confusion matrix to evaluate the results of our model's predictions"
   ]
  },
  {
   "cell_type": "markdown",
   "id": "f82e062e-97e9-40c0-8c89-1976dd88e3a3",
   "metadata": {},
   "source": [
    "#### 1. Run the Model's predictions"
   ]
  },
  {
   "cell_type": "code",
   "execution_count": 125,
   "id": "282f432b",
   "metadata": {},
   "outputs": [],
   "source": [
    "# Run the Logistic Regression Model to predict whether or not employees leave or stay in the company.\n",
    "y_pred= model.predict(X_test)"
   ]
  },
  {
   "cell_type": "markdown",
   "id": "0d6d828e-7f1e-4d2e-b727-3681c6fb6836",
   "metadata": {},
   "source": [
    "#### A. Get the Model score on prediction accuracy"
   ]
  },
  {
   "cell_type": "code",
   "execution_count": 126,
   "id": "f395d1b0",
   "metadata": {},
   "outputs": [
    {
     "data": {
      "text/plain": [
       "0.8115942028985508"
      ]
     },
     "execution_count": 126,
     "metadata": {},
     "output_type": "execute_result"
    }
   ],
   "source": [
    "model.score(X_test, y_test)"
   ]
  },
  {
   "cell_type": "markdown",
   "id": "73923567-5b4e-482e-9a99-9652d83466da",
   "metadata": {},
   "source": [
    "**Insight:** The logistic regression model produced an **accuracy score of 81.2%** which means that its predictions were correct 81.2% of the time. This is an impressive score.\n",
    "> In general, an accuracy score of 70% or higher is considered to be a great model performance.\n",
    "> The model also shows a high sensitivity score of 95.1% which means that it is very good at predicting which employees will stay with the company.\n",
    "> However, the model does show a low specificity score of 41.7%, which means that it is not very good at predicting which employees will leave their job."
   ]
  },
  {
   "cell_type": "markdown",
   "id": "6907820f-9fa6-4e73-abb1-6f4f7f1af833",
   "metadata": {},
   "source": [
    "#### B. Get the Confusion Matrix to Evaluate model performance.\n",
    "> - The Confusion Matrix is a tabular summary of True/False and Positive/Negative prediction rates.\n",
    "> - It allows you to compute various performance metrics to evaluate the correctness of a classification model.\n",
    "> - Each cell on the confusion matrix describes a specific performance metric (**see Figure below**)."
   ]
  },
  {
   "cell_type": "code",
   "execution_count": 127,
   "id": "a64b7f28",
   "metadata": {},
   "outputs": [
    {
     "name": "stdout",
     "output_type": "stream",
     "text": [
      "[[97  5]\n",
      " [21 15]]\n"
     ]
    }
   ],
   "source": [
    "# Get the confusion matrix\n",
    "from sklearn.metrics import confusion_matrix\n",
    "\n",
    "print(confusion_matrix(y_test,y_pred))"
   ]
  },
  {
   "cell_type": "code",
   "execution_count": 128,
   "id": "ec722687-a915-4b79-a776-96cc971987ad",
   "metadata": {},
   "outputs": [
    {
     "data": {
      "image/png": "[encoded data removed]",
      "text/plain": [
       "<Figure size 300x300 with 1 Axes>"
      ]
     },
     "metadata": {},
     "output_type": "display_data"
    }
   ],
   "source": [
    "# Get the confusion matrix in a color graph\n",
    "\n",
    "cm= confusion_matrix(y_test,y_pred)\n",
    "\n",
    "fig, ax = plt.subplots(figsize=(3,3))\n",
    "ax.imshow(cm)\n",
    "ax.grid(False)\n",
    "ax.xaxis.set(ticks=(0,1), ticklabels=('Predicted 0s', 'Predicted 1s'))\n",
    "ax.yaxis.set(ticks=(0,1), ticklabels=('Actual 0s', 'Actual 1s'))\n",
    "ax.set_ylim(1.5, -0.5)\n",
    "for i in range(2):\n",
    "    for j in range(2):\n",
    "        ax.text(j, i, cm[i, j], ha= 'center', va= 'center', color= 'Red')\n",
    "plt.show()"
   ]
  },
  {
   "cell_type": "markdown",
   "id": "efe74396-a166-4a64-a814-fb0052a3af8a",
   "metadata": {},
   "source": [
    "#### Performance metric on the Confusion Matrix:\n",
    "> - True positive (**TP**) = confusion matrix [0,0] -> upper-left position\n",
    "> - True negative (**TN**) = confusion matrix [1,1] -> lower-right position\n",
    "> - False positive (**FP**) = confusion matrix [1,0] -> lower-left position\n",
    "> - False negative (**FN**) = confusion matrix [0,1] -> upper-right position"
   ]
  },
  {
   "cell_type": "markdown",
   "id": "a4fd7924-fdaf-4d99-b5db-528a747ceba9",
   "metadata": {},
   "source": [
    "#### Performance metric Description: \n",
    "1. **True Positive (TP)**: a true positive is when the model predicts a \"NO\", the employee is not leaving (Status = 0) but the actual event is a \"NO\", the employee actually does not leave. This means the prediction is TRUE. There were 97 instances of a TP event occurring. \n",
    "2. **True Negative (TN)**: a true negative is when the model predicts a \"YES\", the employee is leaving (Status = 1), but the actual event is a \"YES\", the employee actually does leave. This means the prediction is TRUE. There were 15 instances of a TN event occurring.\n",
    "3. **False Positive (FP)**: a false positive is when the model predicts a \"NO\", the employee is not leaving (Status = 0), but the actual event is a \"YES\", the employee does leave. This means the prediction is FALSE. This is also known as a **Type I error.** There were 21 instances of a FP event (Type I error) occurring.\n",
    "4. **False Negative (FN)**: a false negative is when the model predicts a \"YES\", the employee is leaving (Status = 1), but the actual event is a \"NO\", the employee actually stays. This means the prediction is FALSE. This is also known as a **Type II error.** There were 5 instances of a FN event (Type II error) occurring."
   ]
  },
  {
   "cell_type": "markdown",
   "id": "c62b702f-4d09-486c-887f-eb065c5dadd2",
   "metadata": {},
   "source": [
    "### 4. Interpreting the Confusion Matrix - How well did the predictive model perform?\n",
    "> We get the classification report from the Python library in order to interpret the confusion matrix and understand how well the predictive model performed."
   ]
  },
  {
   "cell_type": "code",
   "execution_count": 129,
   "id": "451f1197",
   "metadata": {},
   "outputs": [],
   "source": [
    "from sklearn.metrics import classification_report"
   ]
  },
  {
   "cell_type": "code",
   "execution_count": 130,
   "id": "999bc2bb",
   "metadata": {},
   "outputs": [
    {
     "name": "stdout",
     "output_type": "stream",
     "text": [
      "              precision    recall  f1-score   support\n",
      "\n",
      "           0       0.82      0.95      0.88       102\n",
      "           1       0.75      0.42      0.54        36\n",
      "\n",
      "    accuracy                           0.81       138\n",
      "   macro avg       0.79      0.68      0.71       138\n",
      "weighted avg       0.80      0.81      0.79       138\n",
      "\n"
     ]
    }
   ],
   "source": [
    "print(classification_report(y_test, y_pred))"
   ]
  },
  {
   "cell_type": "markdown",
   "id": "e6d0959a-0a9d-473b-869b-00c5a006d2bb",
   "metadata": {},
   "source": [
    "#### 1. Model Accuracy:\n",
    "Model accuracy is how often your classification model is correct. This means, out of all the predicted values, how many values are actually correct? Model accuracy is calculated by dividing all the true values (TP+TN) by the total number of results: \n",
    "\n",
    "> Accuracy = (TP + TN) / (TP + FP + TN + FN) = 112/138 = **81.16%**\n",
    "\n",
    "Our model made a correct prediction 81% of the time. However, accuracy only captures the share of correctly predicted results in the total number of results. It does not account for any misclassifications or false results. With accuracy at 81%, we still don't know how the remaining 20% is distributed between false positive and false negative."
   ]
  },
  {
   "cell_type": "markdown",
   "id": "ebf57ede-036b-4905-a239-e82e79668597",
   "metadata": {},
   "source": [
    "#### 2. Model Sensitivity\n",
    "This metric helps you understand how often the model predicts a correct \"NO\", the employee is not leaving (Status = 0). It is calculated by dividing the TP rate by the number of TP and the number of actual positive results (FN).\n",
    "\n",
    "> Sensitivity = TP / (TP + FN) = 97/102 = **95.1%**\n",
    "\n",
    "The attrition predictive model's sensitivity is high at 95.1%. This means there are few false negative results where the model predicts a \"YES\", the employee is leaving (Status = 1), but the actual event is a \"NO\", the employee actually stays.\n",
    "\n",
    "Sensitivity and recall are interchangeable terms, and both are often used in statistics (see the classification report above)."
   ]
  },
  {
   "cell_type": "markdown",
   "id": "79e834c5-396a-4fd3-88bf-7ed71f33381d",
   "metadata": {},
   "source": [
    "#### 3. Model Specificity\n",
    "Model specificity is the true negative rate and is the opposite of sensitivity. Specificity is calculated by dividing the number of TNs by the total number of actual negative results: TN + FP.\n",
    "\n",
    "> Specificity = TN / (TN + FP) = 15/36 = **41.7%**\n",
    "\n",
    "Specificity helps you to understand how often the classification model predicts a \"YES\" (employee is leaving) when the actual event is a \"YES\" (employee does leave). The model shows a low specificity score of 41.7%, which means **it is not very good at predicting when the employee is leaving.** This is due to the high number of false positives (a total of 21 FP instances, or roughly 15% of the total test sample data set). \n",
    "\n",
    "The model's propensity for a Type I error (i.e., misclassifying an attriting employee), is due to the low number of attrition instances (only around 25% of the total data set) with which the model is trained on. In machine learning, this is known as a **\"class imbalance\"** problem, where the machine is trained on a dataset where there is insufficient data of a particular class."
   ]
  },
  {
   "cell_type": "markdown",
   "id": "4f71bf1d-d72e-4e60-9ac7-e6f997bbda0b",
   "metadata": {},
   "source": [
    "#### 4. Model Precision\n",
    "Precision helps you to understand how often a model correctly predicts a positive result. Ideally, a precision of 100% indicates that whenever the model predicts positive, it is 100% correct. Precision is calculated by the number of TP divided by the number of positive results (TP + FP):\n",
    "\n",
    "> Precision = TP / (TP + FP) = 97/118 = **82.2%**\n",
    "\n",
    "Getting a precision rate of 100% means that there is no instance of a false positive. This means that none of the negative values get predicted as a positive instance. In reality, this may not be possible, since the training or test data will always likely have a class imbalance problem. **In general, it is accepted that any accuracy greater than 70% could be considered a great model performance.**"
   ]
  },
  {
   "cell_type": "markdown",
   "id": "323f45b1-5de5-4e43-9bce-a4efa179a8b9",
   "metadata": {},
   "source": [
    "#### X. Concluding Remarks\n",
    "We believe that we have achieved the two goals stated at the outset of this report.\n",
    "- **Goal #1**: we have surfaced and presented 16 business insights that identify the significant factors that cause employee attrition. We also gave recommendations on what programs the company can design to reduce the high attrition rate.\n",
    "- **Goal #2**: we built a model that correctly predicts attrition 81.2% of the time. This is an impressive accuracy score. However, there is room for improving the model's specificity score of 41.7%. Overall, we believe our model is an effective tool in predicting attrition and in helping the company design programs that will improve its attrition rate."
   ]
  }
 ],
 "metadata": {
  "kernelspec": {
   "display_name": "Python 3 (ipykernel)",
   "language": "python",
   "name": "python3"
  },
  "language_info": {
   "codemirror_mode": {
    "name": "ipython",
    "version": 3
   },
   "file_extension": ".py",
   "mimetype": "text/x-python",
   "name": "python",
   "nbconvert_exporter": "python",
   "pygments_lexer": "ipython3",
   "version": "3.11.3"
  }
 },
 "nbformat": 4,
 "nbformat_minor": 5
}
